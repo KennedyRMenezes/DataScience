{
 "cells": [
  {
   "cell_type": "markdown",
   "id": "4431dfd4",
   "metadata": {},
   "source": [
    "Slides for Deep Learning Section\n",
    "\n",
    "https://docs.google.com/presentation/d/12oUP2g7gqpPBdZcmzuqH8_ttnzosOKA2cZKbOFJyPKU/edit#slide=id.g73ebe5debd_0_7"
   ]
  },
  {
   "cell_type": "markdown",
   "id": "b20417db",
   "metadata": {},
   "source": []
  }
 ],
 "metadata": {
  "language_info": {
   "name": "python"
  }
 },
 "nbformat": 4,
 "nbformat_minor": 5
}
