{
  "nbformat": 4,
  "nbformat_minor": 0,
  "metadata": {
    "colab": {
      "provenance": []
    },
    "kernelspec": {
      "name": "python3",
      "display_name": "Python 3"
    },
    "language_info": {
      "name": "python"
    }
  },
  "cells": [
    {
      "cell_type": "code",
      "execution_count": 2,
      "metadata": {
        "id": "7DZai7EW4ZWv"
      },
      "outputs": [],
      "source": [
        "url1 = 'https://raw.githubusercontent.com/alura-cursos/combina-classificadores/main/dados/train.csv'\n",
        "url2 = 'https://raw.githubusercontent.com/alura-cursos/combina-classificadores/main/dados/test.csv'"
      ]
    },
    {
      "cell_type": "code",
      "source": [
        "import pandas as pd"
      ],
      "metadata": {
        "id": "aJfSblL-4sGQ"
      },
      "execution_count": 3,
      "outputs": []
    },
    {
      "cell_type": "code",
      "source": [
        "treino = pd.read_csv(url1)"
      ],
      "metadata": {
        "id": "MwZYAEv94uew"
      },
      "execution_count": 4,
      "outputs": []
    },
    {
      "cell_type": "code",
      "source": [
        "teste = pd.read_csv(url2)"
      ],
      "metadata": {
        "id": "56cCMGLn4xVd"
      },
      "execution_count": 5,
      "outputs": []
    },
    {
      "cell_type": "code",
      "source": [
        "treino.head()"
      ],
      "metadata": {
        "colab": {
          "base_uri": "https://localhost:8080/",
          "height": 394
        },
        "id": "GCCm2X824z5G",
        "outputId": "41c5a66e-69e7-4789-861d-f821a894944a"
      },
      "execution_count": 6,
      "outputs": [
        {
          "output_type": "execute_result",
          "data": {
            "text/plain": [
              "   Unnamed: 0      id  Gender      Customer Type  Age   Type of Travel  \\\n",
              "0           0   70172    Male     Loyal Customer   13  Personal Travel   \n",
              "1           1    5047    Male  disloyal Customer   25  Business travel   \n",
              "2           2  110028  Female     Loyal Customer   26  Business travel   \n",
              "3           3   24026  Female     Loyal Customer   25  Business travel   \n",
              "4           4  119299    Male     Loyal Customer   61  Business travel   \n",
              "\n",
              "      Class  Flight Distance  Inflight wifi service  \\\n",
              "0  Eco Plus              460                      3   \n",
              "1  Business              235                      3   \n",
              "2  Business             1142                      2   \n",
              "3  Business              562                      2   \n",
              "4  Business              214                      3   \n",
              "\n",
              "   Departure/Arrival time convenient  ...  Inflight entertainment  \\\n",
              "0                                  4  ...                       5   \n",
              "1                                  2  ...                       1   \n",
              "2                                  2  ...                       5   \n",
              "3                                  5  ...                       2   \n",
              "4                                  3  ...                       3   \n",
              "\n",
              "   On-board service  Leg room service  Baggage handling  Checkin service  \\\n",
              "0                 4                 3                 4                4   \n",
              "1                 1                 5                 3                1   \n",
              "2                 4                 3                 4                4   \n",
              "3                 2                 5                 3                1   \n",
              "4                 3                 4                 4                3   \n",
              "\n",
              "   Inflight service  Cleanliness  Departure Delay in Minutes  \\\n",
              "0                 5            5                          25   \n",
              "1                 4            1                           1   \n",
              "2                 4            5                           0   \n",
              "3                 4            2                          11   \n",
              "4                 3            3                           0   \n",
              "\n",
              "   Arrival Delay in Minutes             satisfaction  \n",
              "0                      18.0  neutral or dissatisfied  \n",
              "1                       6.0  neutral or dissatisfied  \n",
              "2                       0.0                satisfied  \n",
              "3                       9.0  neutral or dissatisfied  \n",
              "4                       0.0                satisfied  \n",
              "\n",
              "[5 rows x 25 columns]"
            ],
            "text/html": [
              "\n",
              "  <div id=\"df-6cf97cf9-8daf-4a65-b785-f172f2a5a451\" class=\"colab-df-container\">\n",
              "    <div>\n",
              "<style scoped>\n",
              "    .dataframe tbody tr th:only-of-type {\n",
              "        vertical-align: middle;\n",
              "    }\n",
              "\n",
              "    .dataframe tbody tr th {\n",
              "        vertical-align: top;\n",
              "    }\n",
              "\n",
              "    .dataframe thead th {\n",
              "        text-align: right;\n",
              "    }\n",
              "</style>\n",
              "<table border=\"1\" class=\"dataframe\">\n",
              "  <thead>\n",
              "    <tr style=\"text-align: right;\">\n",
              "      <th></th>\n",
              "      <th>Unnamed: 0</th>\n",
              "      <th>id</th>\n",
              "      <th>Gender</th>\n",
              "      <th>Customer Type</th>\n",
              "      <th>Age</th>\n",
              "      <th>Type of Travel</th>\n",
              "      <th>Class</th>\n",
              "      <th>Flight Distance</th>\n",
              "      <th>Inflight wifi service</th>\n",
              "      <th>Departure/Arrival time convenient</th>\n",
              "      <th>...</th>\n",
              "      <th>Inflight entertainment</th>\n",
              "      <th>On-board service</th>\n",
              "      <th>Leg room service</th>\n",
              "      <th>Baggage handling</th>\n",
              "      <th>Checkin service</th>\n",
              "      <th>Inflight service</th>\n",
              "      <th>Cleanliness</th>\n",
              "      <th>Departure Delay in Minutes</th>\n",
              "      <th>Arrival Delay in Minutes</th>\n",
              "      <th>satisfaction</th>\n",
              "    </tr>\n",
              "  </thead>\n",
              "  <tbody>\n",
              "    <tr>\n",
              "      <th>0</th>\n",
              "      <td>0</td>\n",
              "      <td>70172</td>\n",
              "      <td>Male</td>\n",
              "      <td>Loyal Customer</td>\n",
              "      <td>13</td>\n",
              "      <td>Personal Travel</td>\n",
              "      <td>Eco Plus</td>\n",
              "      <td>460</td>\n",
              "      <td>3</td>\n",
              "      <td>4</td>\n",
              "      <td>...</td>\n",
              "      <td>5</td>\n",
              "      <td>4</td>\n",
              "      <td>3</td>\n",
              "      <td>4</td>\n",
              "      <td>4</td>\n",
              "      <td>5</td>\n",
              "      <td>5</td>\n",
              "      <td>25</td>\n",
              "      <td>18.0</td>\n",
              "      <td>neutral or dissatisfied</td>\n",
              "    </tr>\n",
              "    <tr>\n",
              "      <th>1</th>\n",
              "      <td>1</td>\n",
              "      <td>5047</td>\n",
              "      <td>Male</td>\n",
              "      <td>disloyal Customer</td>\n",
              "      <td>25</td>\n",
              "      <td>Business travel</td>\n",
              "      <td>Business</td>\n",
              "      <td>235</td>\n",
              "      <td>3</td>\n",
              "      <td>2</td>\n",
              "      <td>...</td>\n",
              "      <td>1</td>\n",
              "      <td>1</td>\n",
              "      <td>5</td>\n",
              "      <td>3</td>\n",
              "      <td>1</td>\n",
              "      <td>4</td>\n",
              "      <td>1</td>\n",
              "      <td>1</td>\n",
              "      <td>6.0</td>\n",
              "      <td>neutral or dissatisfied</td>\n",
              "    </tr>\n",
              "    <tr>\n",
              "      <th>2</th>\n",
              "      <td>2</td>\n",
              "      <td>110028</td>\n",
              "      <td>Female</td>\n",
              "      <td>Loyal Customer</td>\n",
              "      <td>26</td>\n",
              "      <td>Business travel</td>\n",
              "      <td>Business</td>\n",
              "      <td>1142</td>\n",
              "      <td>2</td>\n",
              "      <td>2</td>\n",
              "      <td>...</td>\n",
              "      <td>5</td>\n",
              "      <td>4</td>\n",
              "      <td>3</td>\n",
              "      <td>4</td>\n",
              "      <td>4</td>\n",
              "      <td>4</td>\n",
              "      <td>5</td>\n",
              "      <td>0</td>\n",
              "      <td>0.0</td>\n",
              "      <td>satisfied</td>\n",
              "    </tr>\n",
              "    <tr>\n",
              "      <th>3</th>\n",
              "      <td>3</td>\n",
              "      <td>24026</td>\n",
              "      <td>Female</td>\n",
              "      <td>Loyal Customer</td>\n",
              "      <td>25</td>\n",
              "      <td>Business travel</td>\n",
              "      <td>Business</td>\n",
              "      <td>562</td>\n",
              "      <td>2</td>\n",
              "      <td>5</td>\n",
              "      <td>...</td>\n",
              "      <td>2</td>\n",
              "      <td>2</td>\n",
              "      <td>5</td>\n",
              "      <td>3</td>\n",
              "      <td>1</td>\n",
              "      <td>4</td>\n",
              "      <td>2</td>\n",
              "      <td>11</td>\n",
              "      <td>9.0</td>\n",
              "      <td>neutral or dissatisfied</td>\n",
              "    </tr>\n",
              "    <tr>\n",
              "      <th>4</th>\n",
              "      <td>4</td>\n",
              "      <td>119299</td>\n",
              "      <td>Male</td>\n",
              "      <td>Loyal Customer</td>\n",
              "      <td>61</td>\n",
              "      <td>Business travel</td>\n",
              "      <td>Business</td>\n",
              "      <td>214</td>\n",
              "      <td>3</td>\n",
              "      <td>3</td>\n",
              "      <td>...</td>\n",
              "      <td>3</td>\n",
              "      <td>3</td>\n",
              "      <td>4</td>\n",
              "      <td>4</td>\n",
              "      <td>3</td>\n",
              "      <td>3</td>\n",
              "      <td>3</td>\n",
              "      <td>0</td>\n",
              "      <td>0.0</td>\n",
              "      <td>satisfied</td>\n",
              "    </tr>\n",
              "  </tbody>\n",
              "</table>\n",
              "<p>5 rows × 25 columns</p>\n",
              "</div>\n",
              "    <div class=\"colab-df-buttons\">\n",
              "\n",
              "  <div class=\"colab-df-container\">\n",
              "    <button class=\"colab-df-convert\" onclick=\"convertToInteractive('df-6cf97cf9-8daf-4a65-b785-f172f2a5a451')\"\n",
              "            title=\"Convert this dataframe to an interactive table.\"\n",
              "            style=\"display:none;\">\n",
              "\n",
              "  <svg xmlns=\"http://www.w3.org/2000/svg\" height=\"24px\" viewBox=\"0 -960 960 960\">\n",
              "    <path d=\"M120-120v-720h720v720H120Zm60-500h600v-160H180v160Zm220 220h160v-160H400v160Zm0 220h160v-160H400v160ZM180-400h160v-160H180v160Zm440 0h160v-160H620v160ZM180-180h160v-160H180v160Zm440 0h160v-160H620v160Z\"/>\n",
              "  </svg>\n",
              "    </button>\n",
              "\n",
              "  <style>\n",
              "    .colab-df-container {\n",
              "      display:flex;\n",
              "      gap: 12px;\n",
              "    }\n",
              "\n",
              "    .colab-df-convert {\n",
              "      background-color: #E8F0FE;\n",
              "      border: none;\n",
              "      border-radius: 50%;\n",
              "      cursor: pointer;\n",
              "      display: none;\n",
              "      fill: #1967D2;\n",
              "      height: 32px;\n",
              "      padding: 0 0 0 0;\n",
              "      width: 32px;\n",
              "    }\n",
              "\n",
              "    .colab-df-convert:hover {\n",
              "      background-color: #E2EBFA;\n",
              "      box-shadow: 0px 1px 2px rgba(60, 64, 67, 0.3), 0px 1px 3px 1px rgba(60, 64, 67, 0.15);\n",
              "      fill: #174EA6;\n",
              "    }\n",
              "\n",
              "    .colab-df-buttons div {\n",
              "      margin-bottom: 4px;\n",
              "    }\n",
              "\n",
              "    [theme=dark] .colab-df-convert {\n",
              "      background-color: #3B4455;\n",
              "      fill: #D2E3FC;\n",
              "    }\n",
              "\n",
              "    [theme=dark] .colab-df-convert:hover {\n",
              "      background-color: #434B5C;\n",
              "      box-shadow: 0px 1px 3px 1px rgba(0, 0, 0, 0.15);\n",
              "      filter: drop-shadow(0px 1px 2px rgba(0, 0, 0, 0.3));\n",
              "      fill: #FFFFFF;\n",
              "    }\n",
              "  </style>\n",
              "\n",
              "    <script>\n",
              "      const buttonEl =\n",
              "        document.querySelector('#df-6cf97cf9-8daf-4a65-b785-f172f2a5a451 button.colab-df-convert');\n",
              "      buttonEl.style.display =\n",
              "        google.colab.kernel.accessAllowed ? 'block' : 'none';\n",
              "\n",
              "      async function convertToInteractive(key) {\n",
              "        const element = document.querySelector('#df-6cf97cf9-8daf-4a65-b785-f172f2a5a451');\n",
              "        const dataTable =\n",
              "          await google.colab.kernel.invokeFunction('convertToInteractive',\n",
              "                                                    [key], {});\n",
              "        if (!dataTable) return;\n",
              "\n",
              "        const docLinkHtml = 'Like what you see? Visit the ' +\n",
              "          '<a target=\"_blank\" href=https://colab.research.google.com/notebooks/data_table.ipynb>data table notebook</a>'\n",
              "          + ' to learn more about interactive tables.';\n",
              "        element.innerHTML = '';\n",
              "        dataTable['output_type'] = 'display_data';\n",
              "        await google.colab.output.renderOutput(dataTable, element);\n",
              "        const docLink = document.createElement('div');\n",
              "        docLink.innerHTML = docLinkHtml;\n",
              "        element.appendChild(docLink);\n",
              "      }\n",
              "    </script>\n",
              "  </div>\n",
              "\n",
              "\n",
              "    <div id=\"df-e4ef0b7c-ea1c-4062-a076-39ea8020093d\">\n",
              "      <button class=\"colab-df-quickchart\" onclick=\"quickchart('df-e4ef0b7c-ea1c-4062-a076-39ea8020093d')\"\n",
              "                title=\"Suggest charts\"\n",
              "                style=\"display:none;\">\n",
              "\n",
              "<svg xmlns=\"http://www.w3.org/2000/svg\" height=\"24px\"viewBox=\"0 0 24 24\"\n",
              "     width=\"24px\">\n",
              "    <g>\n",
              "        <path d=\"M19 3H5c-1.1 0-2 .9-2 2v14c0 1.1.9 2 2 2h14c1.1 0 2-.9 2-2V5c0-1.1-.9-2-2-2zM9 17H7v-7h2v7zm4 0h-2V7h2v10zm4 0h-2v-4h2v4z\"/>\n",
              "    </g>\n",
              "</svg>\n",
              "      </button>\n",
              "\n",
              "<style>\n",
              "  .colab-df-quickchart {\n",
              "      --bg-color: #E8F0FE;\n",
              "      --fill-color: #1967D2;\n",
              "      --hover-bg-color: #E2EBFA;\n",
              "      --hover-fill-color: #174EA6;\n",
              "      --disabled-fill-color: #AAA;\n",
              "      --disabled-bg-color: #DDD;\n",
              "  }\n",
              "\n",
              "  [theme=dark] .colab-df-quickchart {\n",
              "      --bg-color: #3B4455;\n",
              "      --fill-color: #D2E3FC;\n",
              "      --hover-bg-color: #434B5C;\n",
              "      --hover-fill-color: #FFFFFF;\n",
              "      --disabled-bg-color: #3B4455;\n",
              "      --disabled-fill-color: #666;\n",
              "  }\n",
              "\n",
              "  .colab-df-quickchart {\n",
              "    background-color: var(--bg-color);\n",
              "    border: none;\n",
              "    border-radius: 50%;\n",
              "    cursor: pointer;\n",
              "    display: none;\n",
              "    fill: var(--fill-color);\n",
              "    height: 32px;\n",
              "    padding: 0;\n",
              "    width: 32px;\n",
              "  }\n",
              "\n",
              "  .colab-df-quickchart:hover {\n",
              "    background-color: var(--hover-bg-color);\n",
              "    box-shadow: 0 1px 2px rgba(60, 64, 67, 0.3), 0 1px 3px 1px rgba(60, 64, 67, 0.15);\n",
              "    fill: var(--button-hover-fill-color);\n",
              "  }\n",
              "\n",
              "  .colab-df-quickchart-complete:disabled,\n",
              "  .colab-df-quickchart-complete:disabled:hover {\n",
              "    background-color: var(--disabled-bg-color);\n",
              "    fill: var(--disabled-fill-color);\n",
              "    box-shadow: none;\n",
              "  }\n",
              "\n",
              "  .colab-df-spinner {\n",
              "    border: 2px solid var(--fill-color);\n",
              "    border-color: transparent;\n",
              "    border-bottom-color: var(--fill-color);\n",
              "    animation:\n",
              "      spin 1s steps(1) infinite;\n",
              "  }\n",
              "\n",
              "  @keyframes spin {\n",
              "    0% {\n",
              "      border-color: transparent;\n",
              "      border-bottom-color: var(--fill-color);\n",
              "      border-left-color: var(--fill-color);\n",
              "    }\n",
              "    20% {\n",
              "      border-color: transparent;\n",
              "      border-left-color: var(--fill-color);\n",
              "      border-top-color: var(--fill-color);\n",
              "    }\n",
              "    30% {\n",
              "      border-color: transparent;\n",
              "      border-left-color: var(--fill-color);\n",
              "      border-top-color: var(--fill-color);\n",
              "      border-right-color: var(--fill-color);\n",
              "    }\n",
              "    40% {\n",
              "      border-color: transparent;\n",
              "      border-right-color: var(--fill-color);\n",
              "      border-top-color: var(--fill-color);\n",
              "    }\n",
              "    60% {\n",
              "      border-color: transparent;\n",
              "      border-right-color: var(--fill-color);\n",
              "    }\n",
              "    80% {\n",
              "      border-color: transparent;\n",
              "      border-right-color: var(--fill-color);\n",
              "      border-bottom-color: var(--fill-color);\n",
              "    }\n",
              "    90% {\n",
              "      border-color: transparent;\n",
              "      border-bottom-color: var(--fill-color);\n",
              "    }\n",
              "  }\n",
              "</style>\n",
              "\n",
              "      <script>\n",
              "        async function quickchart(key) {\n",
              "          const quickchartButtonEl =\n",
              "            document.querySelector('#' + key + ' button');\n",
              "          quickchartButtonEl.disabled = true;  // To prevent multiple clicks.\n",
              "          quickchartButtonEl.classList.add('colab-df-spinner');\n",
              "          try {\n",
              "            const charts = await google.colab.kernel.invokeFunction(\n",
              "                'suggestCharts', [key], {});\n",
              "          } catch (error) {\n",
              "            console.error('Error during call to suggestCharts:', error);\n",
              "          }\n",
              "          quickchartButtonEl.classList.remove('colab-df-spinner');\n",
              "          quickchartButtonEl.classList.add('colab-df-quickchart-complete');\n",
              "        }\n",
              "        (() => {\n",
              "          let quickchartButtonEl =\n",
              "            document.querySelector('#df-e4ef0b7c-ea1c-4062-a076-39ea8020093d button');\n",
              "          quickchartButtonEl.style.display =\n",
              "            google.colab.kernel.accessAllowed ? 'block' : 'none';\n",
              "        })();\n",
              "      </script>\n",
              "    </div>\n",
              "\n",
              "    </div>\n",
              "  </div>\n"
            ],
            "application/vnd.google.colaboratory.intrinsic+json": {
              "type": "dataframe",
              "variable_name": "treino"
            }
          },
          "metadata": {},
          "execution_count": 6
        }
      ]
    },
    {
      "cell_type": "code",
      "source": [
        "treino.info()"
      ],
      "metadata": {
        "colab": {
          "base_uri": "https://localhost:8080/"
        },
        "id": "chpSK2gT41QM",
        "outputId": "2d57fda9-63f6-4519-9442-a331ed6445d0"
      },
      "execution_count": 7,
      "outputs": [
        {
          "output_type": "stream",
          "name": "stdout",
          "text": [
            "<class 'pandas.core.frame.DataFrame'>\n",
            "RangeIndex: 103904 entries, 0 to 103903\n",
            "Data columns (total 25 columns):\n",
            " #   Column                             Non-Null Count   Dtype  \n",
            "---  ------                             --------------   -----  \n",
            " 0   Unnamed: 0                         103904 non-null  int64  \n",
            " 1   id                                 103904 non-null  int64  \n",
            " 2   Gender                             103904 non-null  object \n",
            " 3   Customer Type                      103904 non-null  object \n",
            " 4   Age                                103904 non-null  int64  \n",
            " 5   Type of Travel                     103904 non-null  object \n",
            " 6   Class                              103904 non-null  object \n",
            " 7   Flight Distance                    103904 non-null  int64  \n",
            " 8   Inflight wifi service              103904 non-null  int64  \n",
            " 9   Departure/Arrival time convenient  103904 non-null  int64  \n",
            " 10  Ease of Online booking             103904 non-null  int64  \n",
            " 11  Gate location                      103904 non-null  int64  \n",
            " 12  Food and drink                     103904 non-null  int64  \n",
            " 13  Online boarding                    103904 non-null  int64  \n",
            " 14  Seat comfort                       103904 non-null  int64  \n",
            " 15  Inflight entertainment             103904 non-null  int64  \n",
            " 16  On-board service                   103904 non-null  int64  \n",
            " 17  Leg room service                   103904 non-null  int64  \n",
            " 18  Baggage handling                   103904 non-null  int64  \n",
            " 19  Checkin service                    103904 non-null  int64  \n",
            " 20  Inflight service                   103904 non-null  int64  \n",
            " 21  Cleanliness                        103904 non-null  int64  \n",
            " 22  Departure Delay in Minutes         103904 non-null  int64  \n",
            " 23  Arrival Delay in Minutes           103594 non-null  float64\n",
            " 24  satisfaction                       103904 non-null  object \n",
            "dtypes: float64(1), int64(19), object(5)\n",
            "memory usage: 19.8+ MB\n"
          ]
        }
      ]
    },
    {
      "cell_type": "code",
      "source": [
        "treino.isna().sum()"
      ],
      "metadata": {
        "colab": {
          "base_uri": "https://localhost:8080/",
          "height": 868
        },
        "id": "S9nZj5pc5GGK",
        "outputId": "61e1c8b7-749e-4a27-85a5-0a5e38874428"
      },
      "execution_count": 8,
      "outputs": [
        {
          "output_type": "execute_result",
          "data": {
            "text/plain": [
              "Unnamed: 0                             0\n",
              "id                                     0\n",
              "Gender                                 0\n",
              "Customer Type                          0\n",
              "Age                                    0\n",
              "Type of Travel                         0\n",
              "Class                                  0\n",
              "Flight Distance                        0\n",
              "Inflight wifi service                  0\n",
              "Departure/Arrival time convenient      0\n",
              "Ease of Online booking                 0\n",
              "Gate location                          0\n",
              "Food and drink                         0\n",
              "Online boarding                        0\n",
              "Seat comfort                           0\n",
              "Inflight entertainment                 0\n",
              "On-board service                       0\n",
              "Leg room service                       0\n",
              "Baggage handling                       0\n",
              "Checkin service                        0\n",
              "Inflight service                       0\n",
              "Cleanliness                            0\n",
              "Departure Delay in Minutes             0\n",
              "Arrival Delay in Minutes             310\n",
              "satisfaction                           0\n",
              "dtype: int64"
            ],
            "text/html": [
              "<div>\n",
              "<style scoped>\n",
              "    .dataframe tbody tr th:only-of-type {\n",
              "        vertical-align: middle;\n",
              "    }\n",
              "\n",
              "    .dataframe tbody tr th {\n",
              "        vertical-align: top;\n",
              "    }\n",
              "\n",
              "    .dataframe thead th {\n",
              "        text-align: right;\n",
              "    }\n",
              "</style>\n",
              "<table border=\"1\" class=\"dataframe\">\n",
              "  <thead>\n",
              "    <tr style=\"text-align: right;\">\n",
              "      <th></th>\n",
              "      <th>0</th>\n",
              "    </tr>\n",
              "  </thead>\n",
              "  <tbody>\n",
              "    <tr>\n",
              "      <th>Unnamed: 0</th>\n",
              "      <td>0</td>\n",
              "    </tr>\n",
              "    <tr>\n",
              "      <th>id</th>\n",
              "      <td>0</td>\n",
              "    </tr>\n",
              "    <tr>\n",
              "      <th>Gender</th>\n",
              "      <td>0</td>\n",
              "    </tr>\n",
              "    <tr>\n",
              "      <th>Customer Type</th>\n",
              "      <td>0</td>\n",
              "    </tr>\n",
              "    <tr>\n",
              "      <th>Age</th>\n",
              "      <td>0</td>\n",
              "    </tr>\n",
              "    <tr>\n",
              "      <th>Type of Travel</th>\n",
              "      <td>0</td>\n",
              "    </tr>\n",
              "    <tr>\n",
              "      <th>Class</th>\n",
              "      <td>0</td>\n",
              "    </tr>\n",
              "    <tr>\n",
              "      <th>Flight Distance</th>\n",
              "      <td>0</td>\n",
              "    </tr>\n",
              "    <tr>\n",
              "      <th>Inflight wifi service</th>\n",
              "      <td>0</td>\n",
              "    </tr>\n",
              "    <tr>\n",
              "      <th>Departure/Arrival time convenient</th>\n",
              "      <td>0</td>\n",
              "    </tr>\n",
              "    <tr>\n",
              "      <th>Ease of Online booking</th>\n",
              "      <td>0</td>\n",
              "    </tr>\n",
              "    <tr>\n",
              "      <th>Gate location</th>\n",
              "      <td>0</td>\n",
              "    </tr>\n",
              "    <tr>\n",
              "      <th>Food and drink</th>\n",
              "      <td>0</td>\n",
              "    </tr>\n",
              "    <tr>\n",
              "      <th>Online boarding</th>\n",
              "      <td>0</td>\n",
              "    </tr>\n",
              "    <tr>\n",
              "      <th>Seat comfort</th>\n",
              "      <td>0</td>\n",
              "    </tr>\n",
              "    <tr>\n",
              "      <th>Inflight entertainment</th>\n",
              "      <td>0</td>\n",
              "    </tr>\n",
              "    <tr>\n",
              "      <th>On-board service</th>\n",
              "      <td>0</td>\n",
              "    </tr>\n",
              "    <tr>\n",
              "      <th>Leg room service</th>\n",
              "      <td>0</td>\n",
              "    </tr>\n",
              "    <tr>\n",
              "      <th>Baggage handling</th>\n",
              "      <td>0</td>\n",
              "    </tr>\n",
              "    <tr>\n",
              "      <th>Checkin service</th>\n",
              "      <td>0</td>\n",
              "    </tr>\n",
              "    <tr>\n",
              "      <th>Inflight service</th>\n",
              "      <td>0</td>\n",
              "    </tr>\n",
              "    <tr>\n",
              "      <th>Cleanliness</th>\n",
              "      <td>0</td>\n",
              "    </tr>\n",
              "    <tr>\n",
              "      <th>Departure Delay in Minutes</th>\n",
              "      <td>0</td>\n",
              "    </tr>\n",
              "    <tr>\n",
              "      <th>Arrival Delay in Minutes</th>\n",
              "      <td>310</td>\n",
              "    </tr>\n",
              "    <tr>\n",
              "      <th>satisfaction</th>\n",
              "      <td>0</td>\n",
              "    </tr>\n",
              "  </tbody>\n",
              "</table>\n",
              "</div><br><label><b>dtype:</b> int64</label>"
            ]
          },
          "metadata": {},
          "execution_count": 8
        }
      ]
    },
    {
      "cell_type": "code",
      "source": [
        "def prepara(df):\n",
        "  df.drop(['Unnamed: 0', 'id'], axis=1, inplace=True)\n",
        "  df.dropna(inplace=True)\n",
        "  colunas_categoricas = ['Gender', 'Customer Type', 'Type of Travel', 'Class']\n",
        "  df = pd.get_dummies(df, columns=colunas_categoricas)\n",
        "  X = df.drop('satisfaction', axis=1)\n",
        "  y = df['satisfaction']\n",
        "  return X, y"
      ],
      "metadata": {
        "id": "Qba6hpfv5Pmy"
      },
      "execution_count": 9,
      "outputs": []
    },
    {
      "cell_type": "code",
      "source": [
        "X_treino, y_treino = prepara(treino)"
      ],
      "metadata": {
        "id": "tB58bVH56Bgc"
      },
      "execution_count": 10,
      "outputs": []
    },
    {
      "cell_type": "code",
      "source": [
        "X_teste, y_teste = prepara(teste)"
      ],
      "metadata": {
        "id": "wLE_BzmU6LVz"
      },
      "execution_count": 11,
      "outputs": []
    },
    {
      "cell_type": "markdown",
      "source": [
        "#### Testando árvores de decisão"
      ],
      "metadata": {
        "id": "CqLG1lje_bL2"
      }
    },
    {
      "cell_type": "code",
      "source": [
        "from sklearn.tree import DecisionTreeClassifier\n",
        "from sklearn.model_selection import cross_validate"
      ],
      "metadata": {
        "id": "QOclm8HY_BzI"
      },
      "execution_count": 12,
      "outputs": []
    },
    {
      "cell_type": "code",
      "source": [
        "modelo1 = DecisionTreeClassifier(random_state=42)"
      ],
      "metadata": {
        "id": "SsFns0YO_g2-"
      },
      "execution_count": 13,
      "outputs": []
    },
    {
      "cell_type": "code",
      "source": [
        "validacao = cross_validate(modelo1, X_treino, y_treino, cv=5)"
      ],
      "metadata": {
        "id": "PxUI-yOd_ktx"
      },
      "execution_count": 14,
      "outputs": []
    },
    {
      "cell_type": "code",
      "source": [
        "validacao['test_score']"
      ],
      "metadata": {
        "colab": {
          "base_uri": "https://localhost:8080/"
        },
        "id": "OYCXTMxF_x3d",
        "outputId": "e5fa78ee-b642-4d97-b0dc-74cc495ba7fc"
      },
      "execution_count": 15,
      "outputs": [
        {
          "output_type": "execute_result",
          "data": {
            "text/plain": [
              "array([0.94164776, 0.94603987, 0.9450263 , 0.94381968, 0.94521672])"
            ]
          },
          "metadata": {},
          "execution_count": 15
        }
      ]
    },
    {
      "cell_type": "code",
      "source": [
        "validacao['test_score'].mean()"
      ],
      "metadata": {
        "colab": {
          "base_uri": "https://localhost:8080/"
        },
        "id": "1Iget8Xj_1uk",
        "outputId": "8e286986-3510-4777-f063-0a3134b15d45"
      },
      "execution_count": 16,
      "outputs": [
        {
          "output_type": "execute_result",
          "data": {
            "text/plain": [
              "0.9443500672495754"
            ]
          },
          "metadata": {},
          "execution_count": 16
        }
      ]
    },
    {
      "cell_type": "code",
      "source": [
        "modelo1.fit(X_treino, y_treino)"
      ],
      "metadata": {
        "colab": {
          "base_uri": "https://localhost:8080/",
          "height": 75
        },
        "id": "Clqkmej9AFrc",
        "outputId": "c99c6160-c7ef-46ed-c10d-7aa0a89c9f00"
      },
      "execution_count": 17,
      "outputs": [
        {
          "output_type": "execute_result",
          "data": {
            "text/plain": [
              "DecisionTreeClassifier(random_state=42)"
            ],
            "text/html": [
              "<style>#sk-container-id-1 {color: black;}#sk-container-id-1 pre{padding: 0;}#sk-container-id-1 div.sk-toggleable {background-color: white;}#sk-container-id-1 label.sk-toggleable__label {cursor: pointer;display: block;width: 100%;margin-bottom: 0;padding: 0.3em;box-sizing: border-box;text-align: center;}#sk-container-id-1 label.sk-toggleable__label-arrow:before {content: \"▸\";float: left;margin-right: 0.25em;color: #696969;}#sk-container-id-1 label.sk-toggleable__label-arrow:hover:before {color: black;}#sk-container-id-1 div.sk-estimator:hover label.sk-toggleable__label-arrow:before {color: black;}#sk-container-id-1 div.sk-toggleable__content {max-height: 0;max-width: 0;overflow: hidden;text-align: left;background-color: #f0f8ff;}#sk-container-id-1 div.sk-toggleable__content pre {margin: 0.2em;color: black;border-radius: 0.25em;background-color: #f0f8ff;}#sk-container-id-1 input.sk-toggleable__control:checked~div.sk-toggleable__content {max-height: 200px;max-width: 100%;overflow: auto;}#sk-container-id-1 input.sk-toggleable__control:checked~label.sk-toggleable__label-arrow:before {content: \"▾\";}#sk-container-id-1 div.sk-estimator input.sk-toggleable__control:checked~label.sk-toggleable__label {background-color: #d4ebff;}#sk-container-id-1 div.sk-label input.sk-toggleable__control:checked~label.sk-toggleable__label {background-color: #d4ebff;}#sk-container-id-1 input.sk-hidden--visually {border: 0;clip: rect(1px 1px 1px 1px);clip: rect(1px, 1px, 1px, 1px);height: 1px;margin: -1px;overflow: hidden;padding: 0;position: absolute;width: 1px;}#sk-container-id-1 div.sk-estimator {font-family: monospace;background-color: #f0f8ff;border: 1px dotted black;border-radius: 0.25em;box-sizing: border-box;margin-bottom: 0.5em;}#sk-container-id-1 div.sk-estimator:hover {background-color: #d4ebff;}#sk-container-id-1 div.sk-parallel-item::after {content: \"\";width: 100%;border-bottom: 1px solid gray;flex-grow: 1;}#sk-container-id-1 div.sk-label:hover label.sk-toggleable__label {background-color: #d4ebff;}#sk-container-id-1 div.sk-serial::before {content: \"\";position: absolute;border-left: 1px solid gray;box-sizing: border-box;top: 0;bottom: 0;left: 50%;z-index: 0;}#sk-container-id-1 div.sk-serial {display: flex;flex-direction: column;align-items: center;background-color: white;padding-right: 0.2em;padding-left: 0.2em;position: relative;}#sk-container-id-1 div.sk-item {position: relative;z-index: 1;}#sk-container-id-1 div.sk-parallel {display: flex;align-items: stretch;justify-content: center;background-color: white;position: relative;}#sk-container-id-1 div.sk-item::before, #sk-container-id-1 div.sk-parallel-item::before {content: \"\";position: absolute;border-left: 1px solid gray;box-sizing: border-box;top: 0;bottom: 0;left: 50%;z-index: -1;}#sk-container-id-1 div.sk-parallel-item {display: flex;flex-direction: column;z-index: 1;position: relative;background-color: white;}#sk-container-id-1 div.sk-parallel-item:first-child::after {align-self: flex-end;width: 50%;}#sk-container-id-1 div.sk-parallel-item:last-child::after {align-self: flex-start;width: 50%;}#sk-container-id-1 div.sk-parallel-item:only-child::after {width: 0;}#sk-container-id-1 div.sk-dashed-wrapped {border: 1px dashed gray;margin: 0 0.4em 0.5em 0.4em;box-sizing: border-box;padding-bottom: 0.4em;background-color: white;}#sk-container-id-1 div.sk-label label {font-family: monospace;font-weight: bold;display: inline-block;line-height: 1.2em;}#sk-container-id-1 div.sk-label-container {text-align: center;}#sk-container-id-1 div.sk-container {/* jupyter's `normalize.less` sets `[hidden] { display: none; }` but bootstrap.min.css set `[hidden] { display: none !important; }` so we also need the `!important` here to be able to override the default hidden behavior on the sphinx rendered scikit-learn.org. See: https://github.com/scikit-learn/scikit-learn/issues/21755 */display: inline-block !important;position: relative;}#sk-container-id-1 div.sk-text-repr-fallback {display: none;}</style><div id=\"sk-container-id-1\" class=\"sk-top-container\"><div class=\"sk-text-repr-fallback\"><pre>DecisionTreeClassifier(random_state=42)</pre><b>In a Jupyter environment, please rerun this cell to show the HTML representation or trust the notebook. <br />On GitHub, the HTML representation is unable to render, please try loading this page with nbviewer.org.</b></div><div class=\"sk-container\" hidden><div class=\"sk-item\"><div class=\"sk-estimator sk-toggleable\"><input class=\"sk-toggleable__control sk-hidden--visually\" id=\"sk-estimator-id-1\" type=\"checkbox\" checked><label for=\"sk-estimator-id-1\" class=\"sk-toggleable__label sk-toggleable__label-arrow\">DecisionTreeClassifier</label><div class=\"sk-toggleable__content\"><pre>DecisionTreeClassifier(random_state=42)</pre></div></div></div></div></div>"
            ]
          },
          "metadata": {},
          "execution_count": 17
        }
      ]
    },
    {
      "cell_type": "code",
      "source": [
        "y_pred = modelo1.predict(X_teste)"
      ],
      "metadata": {
        "id": "tp63KAwS_7QJ"
      },
      "execution_count": 18,
      "outputs": []
    },
    {
      "cell_type": "code",
      "source": [
        "from sklearn.metrics import accuracy_score"
      ],
      "metadata": {
        "id": "_kNePcdAAC2l"
      },
      "execution_count": 19,
      "outputs": []
    },
    {
      "cell_type": "code",
      "source": [
        "accuracy_score(y_teste, y_pred)"
      ],
      "metadata": {
        "colab": {
          "base_uri": "https://localhost:8080/"
        },
        "id": "FRhy8wj-ARMV",
        "outputId": "61977d61-cff4-4c3e-b91e-d924b5c3833d"
      },
      "execution_count": 20,
      "outputs": [
        {
          "output_type": "execute_result",
          "data": {
            "text/plain": [
              "0.94612443517553"
            ]
          },
          "metadata": {},
          "execution_count": 20
        }
      ]
    },
    {
      "cell_type": "markdown",
      "source": [
        "#### Pipeline"
      ],
      "metadata": {
        "id": "k4t3KzGaAtZf"
      }
    },
    {
      "cell_type": "code",
      "source": [
        "from sklearn.linear_model import LogisticRegression"
      ],
      "metadata": {
        "id": "C0lDuHsUAWMm"
      },
      "execution_count": 21,
      "outputs": []
    },
    {
      "cell_type": "code",
      "source": [
        "modelo2 = LogisticRegression(random_state=42)"
      ],
      "metadata": {
        "id": "TJTqhxBWAw3n"
      },
      "execution_count": 22,
      "outputs": []
    },
    {
      "cell_type": "code",
      "source": [
        "validacao = cross_validate(modelo2, X_treino, y_treino)"
      ],
      "metadata": {
        "colab": {
          "base_uri": "https://localhost:8080/"
        },
        "id": "P9G7s96cAzOC",
        "outputId": "4266ed65-5b3b-4434-9176-67bb1b9d825f"
      },
      "execution_count": 23,
      "outputs": [
        {
          "output_type": "stream",
          "name": "stderr",
          "text": [
            "/usr/local/lib/python3.11/dist-packages/sklearn/linear_model/_logistic.py:460: ConvergenceWarning: lbfgs failed to converge (status=1):\n",
            "STOP: TOTAL NO. OF ITERATIONS REACHED LIMIT.\n",
            "\n",
            "Increase the number of iterations (max_iter) or scale the data as shown in:\n",
            "    https://scikit-learn.org/stable/modules/preprocessing.html\n",
            "Please also refer to the documentation for alternative solver options:\n",
            "    https://scikit-learn.org/stable/modules/linear_model.html#logistic-regression\n",
            "  n_iter_i = _check_optimize_result(\n",
            "/usr/local/lib/python3.11/dist-packages/sklearn/linear_model/_logistic.py:460: ConvergenceWarning: lbfgs failed to converge (status=1):\n",
            "STOP: TOTAL NO. OF ITERATIONS REACHED LIMIT.\n",
            "\n",
            "Increase the number of iterations (max_iter) or scale the data as shown in:\n",
            "    https://scikit-learn.org/stable/modules/preprocessing.html\n",
            "Please also refer to the documentation for alternative solver options:\n",
            "    https://scikit-learn.org/stable/modules/linear_model.html#logistic-regression\n",
            "  n_iter_i = _check_optimize_result(\n",
            "/usr/local/lib/python3.11/dist-packages/sklearn/linear_model/_logistic.py:460: ConvergenceWarning: lbfgs failed to converge (status=1):\n",
            "STOP: TOTAL NO. OF ITERATIONS REACHED LIMIT.\n",
            "\n",
            "Increase the number of iterations (max_iter) or scale the data as shown in:\n",
            "    https://scikit-learn.org/stable/modules/preprocessing.html\n",
            "Please also refer to the documentation for alternative solver options:\n",
            "    https://scikit-learn.org/stable/modules/linear_model.html#logistic-regression\n",
            "  n_iter_i = _check_optimize_result(\n",
            "/usr/local/lib/python3.11/dist-packages/sklearn/linear_model/_logistic.py:460: ConvergenceWarning: lbfgs failed to converge (status=1):\n",
            "STOP: TOTAL NO. OF ITERATIONS REACHED LIMIT.\n",
            "\n",
            "Increase the number of iterations (max_iter) or scale the data as shown in:\n",
            "    https://scikit-learn.org/stable/modules/preprocessing.html\n",
            "Please also refer to the documentation for alternative solver options:\n",
            "    https://scikit-learn.org/stable/modules/linear_model.html#logistic-regression\n",
            "  n_iter_i = _check_optimize_result(\n",
            "/usr/local/lib/python3.11/dist-packages/sklearn/linear_model/_logistic.py:460: ConvergenceWarning: lbfgs failed to converge (status=1):\n",
            "STOP: TOTAL NO. OF ITERATIONS REACHED LIMIT.\n",
            "\n",
            "Increase the number of iterations (max_iter) or scale the data as shown in:\n",
            "    https://scikit-learn.org/stable/modules/preprocessing.html\n",
            "Please also refer to the documentation for alternative solver options:\n",
            "    https://scikit-learn.org/stable/modules/linear_model.html#logistic-regression\n",
            "  n_iter_i = _check_optimize_result(\n"
          ]
        }
      ]
    },
    {
      "cell_type": "code",
      "source": [
        "validacao['test_score'].mean()"
      ],
      "metadata": {
        "colab": {
          "base_uri": "https://localhost:8080/"
        },
        "id": "ToKN7KpkA3-C",
        "outputId": "6d4de715-493a-4921-813b-de4b815b2b2c"
      },
      "execution_count": 24,
      "outputs": [
        {
          "output_type": "execute_result",
          "data": {
            "text/plain": [
              "0.8186670972160262"
            ]
          },
          "metadata": {},
          "execution_count": 24
        }
      ]
    },
    {
      "cell_type": "markdown",
      "source": [
        "Problema com escala. Deixando na mesma escala ajuda o algoritmo."
      ],
      "metadata": {
        "id": "cse8uIkhBK2O"
      }
    },
    {
      "cell_type": "code",
      "source": [
        "from sklearn.pipeline import Pipeline\n",
        "from sklearn.preprocessing import StandardScaler"
      ],
      "metadata": {
        "id": "7X8nESFdBCIG"
      },
      "execution_count": 25,
      "outputs": []
    },
    {
      "cell_type": "code",
      "source": [
        "pipeline = Pipeline([('scaler', StandardScaler()),\n",
        "                     ('model', modelo2)])"
      ],
      "metadata": {
        "id": "AKmhd4PoBX86"
      },
      "execution_count": 26,
      "outputs": []
    },
    {
      "cell_type": "code",
      "source": [
        "validacao = cross_validate(pipeline, X_treino, y_treino)"
      ],
      "metadata": {
        "id": "ogxmDIH_BkJ5"
      },
      "execution_count": 27,
      "outputs": []
    },
    {
      "cell_type": "code",
      "source": [
        "validacao['test_score'].mean()"
      ],
      "metadata": {
        "colab": {
          "base_uri": "https://localhost:8080/"
        },
        "id": "WdgCXVXsBs5w",
        "outputId": "25c46a61-6fbf-4a4c-e92d-45e3e32deafa"
      },
      "execution_count": 28,
      "outputs": [
        {
          "output_type": "execute_result",
          "data": {
            "text/plain": [
              "0.8749541859894492"
            ]
          },
          "metadata": {},
          "execution_count": 28
        }
      ]
    },
    {
      "cell_type": "markdown",
      "source": [
        "#### Votando no melhor resultado"
      ],
      "metadata": {
        "id": "PHb8CA-3C8Tb"
      }
    },
    {
      "cell_type": "code",
      "source": [
        "from sklearn.ensemble import VotingClassifier\n",
        "from sklearn.naive_bayes import GaussianNB"
      ],
      "metadata": {
        "id": "FV1-8jznBv3E"
      },
      "execution_count": 29,
      "outputs": []
    },
    {
      "cell_type": "code",
      "source": [
        "modelo3 = GaussianNB()"
      ],
      "metadata": {
        "id": "J--pwfRgDJVO"
      },
      "execution_count": 30,
      "outputs": []
    },
    {
      "cell_type": "code",
      "source": [
        "nome_modelos = ['arvores', 'logistica', 'naive bayes']"
      ],
      "metadata": {
        "id": "kavGrO36DMgW"
      },
      "execution_count": 31,
      "outputs": []
    },
    {
      "cell_type": "code",
      "source": [
        "pipelines = []\n",
        "\n",
        "for modelo, nome in zip([modelo1, modelo2, modelo3], nome_modelos):\n",
        "  pipeline = Pipeline([('scaler', StandardScaler()),\n",
        "                       ('model', modelo)\n",
        "                       ])\n",
        "  pipelines.append(pipeline)\n",
        "  validacao = cross_validate(pipeline, X_treino, y_treino, cv=5)\n",
        "  print(validacao['test_score'].mean())"
      ],
      "metadata": {
        "colab": {
          "base_uri": "https://localhost:8080/"
        },
        "id": "4s_4vNN-DTNN",
        "outputId": "6b9ddd06-1057-494c-88c7-5ce58fbf8271"
      },
      "execution_count": 32,
      "outputs": [
        {
          "output_type": "stream",
          "name": "stdout",
          "text": [
            "0.9443983339909126\n",
            "0.8749541859894492\n",
            "0.8483406855152964\n"
          ]
        }
      ]
    },
    {
      "cell_type": "markdown",
      "source": [
        "##### combinando os modelos"
      ],
      "metadata": {
        "id": "jUmNSyxkLKez"
      }
    },
    {
      "cell_type": "code",
      "source": [
        "votacao = VotingClassifier(estimators = [\n",
        "    (nome_modelos[0], pipelines[0]),\n",
        "    (nome_modelos[1], pipelines[1]),\n",
        "    (nome_modelos[2], pipelines[2]),\n",
        "], voting='hard')"
      ],
      "metadata": {
        "id": "06i85Y2EEAsC"
      },
      "execution_count": 33,
      "outputs": []
    },
    {
      "cell_type": "code",
      "source": [
        "votacao"
      ],
      "metadata": {
        "colab": {
          "base_uri": "https://localhost:8080/",
          "height": 145
        },
        "id": "L2i2-EDrL6si",
        "outputId": "840e7e2e-e9ee-4216-8369-e340c3e69098"
      },
      "execution_count": 34,
      "outputs": [
        {
          "output_type": "execute_result",
          "data": {
            "text/plain": [
              "VotingClassifier(estimators=[('arvores',\n",
              "                              Pipeline(steps=[('scaler', StandardScaler()),\n",
              "                                              ('model',\n",
              "                                               DecisionTreeClassifier(random_state=42))])),\n",
              "                             ('logistica',\n",
              "                              Pipeline(steps=[('scaler', StandardScaler()),\n",
              "                                              ('model',\n",
              "                                               LogisticRegression(random_state=42))])),\n",
              "                             ('naive bayes',\n",
              "                              Pipeline(steps=[('scaler', StandardScaler()),\n",
              "                                              ('model', GaussianNB())]))])"
            ],
            "text/html": [
              "<style>#sk-container-id-2 {color: black;}#sk-container-id-2 pre{padding: 0;}#sk-container-id-2 div.sk-toggleable {background-color: white;}#sk-container-id-2 label.sk-toggleable__label {cursor: pointer;display: block;width: 100%;margin-bottom: 0;padding: 0.3em;box-sizing: border-box;text-align: center;}#sk-container-id-2 label.sk-toggleable__label-arrow:before {content: \"▸\";float: left;margin-right: 0.25em;color: #696969;}#sk-container-id-2 label.sk-toggleable__label-arrow:hover:before {color: black;}#sk-container-id-2 div.sk-estimator:hover label.sk-toggleable__label-arrow:before {color: black;}#sk-container-id-2 div.sk-toggleable__content {max-height: 0;max-width: 0;overflow: hidden;text-align: left;background-color: #f0f8ff;}#sk-container-id-2 div.sk-toggleable__content pre {margin: 0.2em;color: black;border-radius: 0.25em;background-color: #f0f8ff;}#sk-container-id-2 input.sk-toggleable__control:checked~div.sk-toggleable__content {max-height: 200px;max-width: 100%;overflow: auto;}#sk-container-id-2 input.sk-toggleable__control:checked~label.sk-toggleable__label-arrow:before {content: \"▾\";}#sk-container-id-2 div.sk-estimator input.sk-toggleable__control:checked~label.sk-toggleable__label {background-color: #d4ebff;}#sk-container-id-2 div.sk-label input.sk-toggleable__control:checked~label.sk-toggleable__label {background-color: #d4ebff;}#sk-container-id-2 input.sk-hidden--visually {border: 0;clip: rect(1px 1px 1px 1px);clip: rect(1px, 1px, 1px, 1px);height: 1px;margin: -1px;overflow: hidden;padding: 0;position: absolute;width: 1px;}#sk-container-id-2 div.sk-estimator {font-family: monospace;background-color: #f0f8ff;border: 1px dotted black;border-radius: 0.25em;box-sizing: border-box;margin-bottom: 0.5em;}#sk-container-id-2 div.sk-estimator:hover {background-color: #d4ebff;}#sk-container-id-2 div.sk-parallel-item::after {content: \"\";width: 100%;border-bottom: 1px solid gray;flex-grow: 1;}#sk-container-id-2 div.sk-label:hover label.sk-toggleable__label {background-color: #d4ebff;}#sk-container-id-2 div.sk-serial::before {content: \"\";position: absolute;border-left: 1px solid gray;box-sizing: border-box;top: 0;bottom: 0;left: 50%;z-index: 0;}#sk-container-id-2 div.sk-serial {display: flex;flex-direction: column;align-items: center;background-color: white;padding-right: 0.2em;padding-left: 0.2em;position: relative;}#sk-container-id-2 div.sk-item {position: relative;z-index: 1;}#sk-container-id-2 div.sk-parallel {display: flex;align-items: stretch;justify-content: center;background-color: white;position: relative;}#sk-container-id-2 div.sk-item::before, #sk-container-id-2 div.sk-parallel-item::before {content: \"\";position: absolute;border-left: 1px solid gray;box-sizing: border-box;top: 0;bottom: 0;left: 50%;z-index: -1;}#sk-container-id-2 div.sk-parallel-item {display: flex;flex-direction: column;z-index: 1;position: relative;background-color: white;}#sk-container-id-2 div.sk-parallel-item:first-child::after {align-self: flex-end;width: 50%;}#sk-container-id-2 div.sk-parallel-item:last-child::after {align-self: flex-start;width: 50%;}#sk-container-id-2 div.sk-parallel-item:only-child::after {width: 0;}#sk-container-id-2 div.sk-dashed-wrapped {border: 1px dashed gray;margin: 0 0.4em 0.5em 0.4em;box-sizing: border-box;padding-bottom: 0.4em;background-color: white;}#sk-container-id-2 div.sk-label label {font-family: monospace;font-weight: bold;display: inline-block;line-height: 1.2em;}#sk-container-id-2 div.sk-label-container {text-align: center;}#sk-container-id-2 div.sk-container {/* jupyter's `normalize.less` sets `[hidden] { display: none; }` but bootstrap.min.css set `[hidden] { display: none !important; }` so we also need the `!important` here to be able to override the default hidden behavior on the sphinx rendered scikit-learn.org. See: https://github.com/scikit-learn/scikit-learn/issues/21755 */display: inline-block !important;position: relative;}#sk-container-id-2 div.sk-text-repr-fallback {display: none;}</style><div id=\"sk-container-id-2\" class=\"sk-top-container\"><div class=\"sk-text-repr-fallback\"><pre>VotingClassifier(estimators=[(&#x27;arvores&#x27;,\n",
              "                              Pipeline(steps=[(&#x27;scaler&#x27;, StandardScaler()),\n",
              "                                              (&#x27;model&#x27;,\n",
              "                                               DecisionTreeClassifier(random_state=42))])),\n",
              "                             (&#x27;logistica&#x27;,\n",
              "                              Pipeline(steps=[(&#x27;scaler&#x27;, StandardScaler()),\n",
              "                                              (&#x27;model&#x27;,\n",
              "                                               LogisticRegression(random_state=42))])),\n",
              "                             (&#x27;naive bayes&#x27;,\n",
              "                              Pipeline(steps=[(&#x27;scaler&#x27;, StandardScaler()),\n",
              "                                              (&#x27;model&#x27;, GaussianNB())]))])</pre><b>In a Jupyter environment, please rerun this cell to show the HTML representation or trust the notebook. <br />On GitHub, the HTML representation is unable to render, please try loading this page with nbviewer.org.</b></div><div class=\"sk-container\" hidden><div class=\"sk-item sk-dashed-wrapped\"><div class=\"sk-label-container\"><div class=\"sk-label sk-toggleable\"><input class=\"sk-toggleable__control sk-hidden--visually\" id=\"sk-estimator-id-2\" type=\"checkbox\" ><label for=\"sk-estimator-id-2\" class=\"sk-toggleable__label sk-toggleable__label-arrow\">VotingClassifier</label><div class=\"sk-toggleable__content\"><pre>VotingClassifier(estimators=[(&#x27;arvores&#x27;,\n",
              "                              Pipeline(steps=[(&#x27;scaler&#x27;, StandardScaler()),\n",
              "                                              (&#x27;model&#x27;,\n",
              "                                               DecisionTreeClassifier(random_state=42))])),\n",
              "                             (&#x27;logistica&#x27;,\n",
              "                              Pipeline(steps=[(&#x27;scaler&#x27;, StandardScaler()),\n",
              "                                              (&#x27;model&#x27;,\n",
              "                                               LogisticRegression(random_state=42))])),\n",
              "                             (&#x27;naive bayes&#x27;,\n",
              "                              Pipeline(steps=[(&#x27;scaler&#x27;, StandardScaler()),\n",
              "                                              (&#x27;model&#x27;, GaussianNB())]))])</pre></div></div></div><div class=\"sk-parallel\"><div class=\"sk-parallel-item\"><div class=\"sk-item\"><div class=\"sk-label-container\"><div class=\"sk-label sk-toggleable\"><label>arvores</label></div></div><div class=\"sk-serial\"><div class=\"sk-item\"><div class=\"sk-serial\"><div class=\"sk-item\"><div class=\"sk-estimator sk-toggleable\"><input class=\"sk-toggleable__control sk-hidden--visually\" id=\"sk-estimator-id-3\" type=\"checkbox\" ><label for=\"sk-estimator-id-3\" class=\"sk-toggleable__label sk-toggleable__label-arrow\">StandardScaler</label><div class=\"sk-toggleable__content\"><pre>StandardScaler()</pre></div></div></div><div class=\"sk-item\"><div class=\"sk-estimator sk-toggleable\"><input class=\"sk-toggleable__control sk-hidden--visually\" id=\"sk-estimator-id-4\" type=\"checkbox\" ><label for=\"sk-estimator-id-4\" class=\"sk-toggleable__label sk-toggleable__label-arrow\">DecisionTreeClassifier</label><div class=\"sk-toggleable__content\"><pre>DecisionTreeClassifier(random_state=42)</pre></div></div></div></div></div></div></div></div><div class=\"sk-parallel-item\"><div class=\"sk-item\"><div class=\"sk-label-container\"><div class=\"sk-label sk-toggleable\"><label>logistica</label></div></div><div class=\"sk-serial\"><div class=\"sk-item\"><div class=\"sk-serial\"><div class=\"sk-item\"><div class=\"sk-estimator sk-toggleable\"><input class=\"sk-toggleable__control sk-hidden--visually\" id=\"sk-estimator-id-5\" type=\"checkbox\" ><label for=\"sk-estimator-id-5\" class=\"sk-toggleable__label sk-toggleable__label-arrow\">StandardScaler</label><div class=\"sk-toggleable__content\"><pre>StandardScaler()</pre></div></div></div><div class=\"sk-item\"><div class=\"sk-estimator sk-toggleable\"><input class=\"sk-toggleable__control sk-hidden--visually\" id=\"sk-estimator-id-6\" type=\"checkbox\" ><label for=\"sk-estimator-id-6\" class=\"sk-toggleable__label sk-toggleable__label-arrow\">LogisticRegression</label><div class=\"sk-toggleable__content\"><pre>LogisticRegression(random_state=42)</pre></div></div></div></div></div></div></div></div><div class=\"sk-parallel-item\"><div class=\"sk-item\"><div class=\"sk-label-container\"><div class=\"sk-label sk-toggleable\"><label>naive bayes</label></div></div><div class=\"sk-serial\"><div class=\"sk-item\"><div class=\"sk-serial\"><div class=\"sk-item\"><div class=\"sk-estimator sk-toggleable\"><input class=\"sk-toggleable__control sk-hidden--visually\" id=\"sk-estimator-id-7\" type=\"checkbox\" ><label for=\"sk-estimator-id-7\" class=\"sk-toggleable__label sk-toggleable__label-arrow\">StandardScaler</label><div class=\"sk-toggleable__content\"><pre>StandardScaler()</pre></div></div></div><div class=\"sk-item\"><div class=\"sk-estimator sk-toggleable\"><input class=\"sk-toggleable__control sk-hidden--visually\" id=\"sk-estimator-id-8\" type=\"checkbox\" ><label for=\"sk-estimator-id-8\" class=\"sk-toggleable__label sk-toggleable__label-arrow\">GaussianNB</label><div class=\"sk-toggleable__content\"><pre>GaussianNB()</pre></div></div></div></div></div></div></div></div></div></div></div></div>"
            ]
          },
          "metadata": {},
          "execution_count": 34
        }
      ]
    },
    {
      "cell_type": "code",
      "source": [
        "validacao = cross_validate(votacao, X_treino, y_treino, cv=5)"
      ],
      "metadata": {
        "id": "y9Wb4AuXL9yN"
      },
      "execution_count": 35,
      "outputs": []
    },
    {
      "cell_type": "code",
      "source": [
        "validacao['test_score'].mean()"
      ],
      "metadata": {
        "colab": {
          "base_uri": "https://localhost:8080/"
        },
        "id": "WhpQoF5iMQh2",
        "outputId": "1d90856d-30eb-42f4-d2a4-33bf4879b854"
      },
      "execution_count": 36,
      "outputs": [
        {
          "output_type": "execute_result",
          "data": {
            "text/plain": [
              "0.8917601803912731"
            ]
          },
          "metadata": {},
          "execution_count": 36
        }
      ]
    },
    {
      "cell_type": "markdown",
      "source": [
        "#### Votação SOFT"
      ],
      "metadata": {
        "id": "HLBeKcSyMbP4"
      }
    },
    {
      "cell_type": "code",
      "source": [
        "votacao = VotingClassifier(estimators = [\n",
        "    (nome_modelos[0], pipelines[0]),\n",
        "    (nome_modelos[1], pipelines[1]),\n",
        "    (nome_modelos[2], pipelines[2]),\n",
        "], voting='soft')"
      ],
      "metadata": {
        "id": "xHquwLylMUGC"
      },
      "execution_count": 37,
      "outputs": []
    },
    {
      "cell_type": "code",
      "source": [
        "validacao = cross_validate(votacao, X_treino, y_treino, cv=5)"
      ],
      "metadata": {
        "id": "C45oW0ZFMkNE"
      },
      "execution_count": 38,
      "outputs": []
    },
    {
      "cell_type": "code",
      "source": [
        "validacao['test_score'].mean()"
      ],
      "metadata": {
        "colab": {
          "base_uri": "https://localhost:8080/"
        },
        "id": "90ewyHSoMlje",
        "outputId": "c40bbd90-da0b-4b0c-9b34-d97fe76eedb0"
      },
      "execution_count": 39,
      "outputs": [
        {
          "output_type": "execute_result",
          "data": {
            "text/plain": [
              "0.9007375478071673"
            ]
          },
          "metadata": {},
          "execution_count": 39
        }
      ]
    },
    {
      "cell_type": "markdown",
      "source": [
        "Cliente satisfeito ou insatisfeito (binária)\n",
        "\n",
        "tree, lr, nb\n",
        "\n",
        "[0, 1, 0] -> hard = 0 (maioria)\n",
        "\n",
        "[0.8 * 0, 0.1 * 1, 0.1 * 0] -> soft = 0; peso é dado para cada algoritmo."
      ],
      "metadata": {
        "id": "JhGL5HV_MovA"
      }
    },
    {
      "cell_type": "markdown",
      "source": [
        "#### Tunando a votação\n",
        "\n",
        "como escolher os melhores parametros para a votação?"
      ],
      "metadata": {
        "id": "tX1vPIbgNYlK"
      }
    },
    {
      "cell_type": "code",
      "source": [
        "# Busca pelos parâmetros\n",
        "parametros = {\n",
        "    'voting': ['hard', 'soft'],\n",
        "    'weights': [(1,1,1), (2,1,1), (1,2,1), (1,1,2)]\n",
        "}"
      ],
      "metadata": {
        "id": "I9y1dUsNMmpo"
      },
      "execution_count": 40,
      "outputs": []
    },
    {
      "cell_type": "code",
      "source": [
        "from sklearn.model_selection import GridSearchCV"
      ],
      "metadata": {
        "id": "pJj_6AfjN0qF"
      },
      "execution_count": 41,
      "outputs": []
    },
    {
      "cell_type": "code",
      "source": [
        "gs = GridSearchCV(votacao, parametros, n_jobs=-1)"
      ],
      "metadata": {
        "id": "2V7h11KTN4Kq"
      },
      "execution_count": 42,
      "outputs": []
    },
    {
      "cell_type": "code",
      "source": [
        "gs.fit(X_treino, y_treino)"
      ],
      "metadata": {
        "colab": {
          "base_uri": "https://localhost:8080/",
          "height": 186
        },
        "id": "cfUaWoBmODwl",
        "outputId": "47125374-7756-4a7d-fb2d-7ba170224cc7"
      },
      "execution_count": 43,
      "outputs": [
        {
          "output_type": "execute_result",
          "data": {
            "text/plain": [
              "GridSearchCV(estimator=VotingClassifier(estimators=[('arvores',\n",
              "                                                     Pipeline(steps=[('scaler',\n",
              "                                                                      StandardScaler()),\n",
              "                                                                     ('model',\n",
              "                                                                      DecisionTreeClassifier(random_state=42))])),\n",
              "                                                    ('logistica',\n",
              "                                                     Pipeline(steps=[('scaler',\n",
              "                                                                      StandardScaler()),\n",
              "                                                                     ('model',\n",
              "                                                                      LogisticRegression(random_state=42))])),\n",
              "                                                    ('naive bayes',\n",
              "                                                     Pipeline(steps=[('scaler',\n",
              "                                                                      StandardScaler()),\n",
              "                                                                     ('model',\n",
              "                                                                      GaussianNB())]))],\n",
              "                                        voting='soft'),\n",
              "             n_jobs=-1,\n",
              "             param_grid={'voting': ['hard', 'soft'],\n",
              "                         'weights': [(1, 1, 1), (2, 1, 1), (1, 2, 1),\n",
              "                                     (1, 1, 2)]})"
            ],
            "text/html": [
              "<style>#sk-container-id-3 {color: black;}#sk-container-id-3 pre{padding: 0;}#sk-container-id-3 div.sk-toggleable {background-color: white;}#sk-container-id-3 label.sk-toggleable__label {cursor: pointer;display: block;width: 100%;margin-bottom: 0;padding: 0.3em;box-sizing: border-box;text-align: center;}#sk-container-id-3 label.sk-toggleable__label-arrow:before {content: \"▸\";float: left;margin-right: 0.25em;color: #696969;}#sk-container-id-3 label.sk-toggleable__label-arrow:hover:before {color: black;}#sk-container-id-3 div.sk-estimator:hover label.sk-toggleable__label-arrow:before {color: black;}#sk-container-id-3 div.sk-toggleable__content {max-height: 0;max-width: 0;overflow: hidden;text-align: left;background-color: #f0f8ff;}#sk-container-id-3 div.sk-toggleable__content pre {margin: 0.2em;color: black;border-radius: 0.25em;background-color: #f0f8ff;}#sk-container-id-3 input.sk-toggleable__control:checked~div.sk-toggleable__content {max-height: 200px;max-width: 100%;overflow: auto;}#sk-container-id-3 input.sk-toggleable__control:checked~label.sk-toggleable__label-arrow:before {content: \"▾\";}#sk-container-id-3 div.sk-estimator input.sk-toggleable__control:checked~label.sk-toggleable__label {background-color: #d4ebff;}#sk-container-id-3 div.sk-label input.sk-toggleable__control:checked~label.sk-toggleable__label {background-color: #d4ebff;}#sk-container-id-3 input.sk-hidden--visually {border: 0;clip: rect(1px 1px 1px 1px);clip: rect(1px, 1px, 1px, 1px);height: 1px;margin: -1px;overflow: hidden;padding: 0;position: absolute;width: 1px;}#sk-container-id-3 div.sk-estimator {font-family: monospace;background-color: #f0f8ff;border: 1px dotted black;border-radius: 0.25em;box-sizing: border-box;margin-bottom: 0.5em;}#sk-container-id-3 div.sk-estimator:hover {background-color: #d4ebff;}#sk-container-id-3 div.sk-parallel-item::after {content: \"\";width: 100%;border-bottom: 1px solid gray;flex-grow: 1;}#sk-container-id-3 div.sk-label:hover label.sk-toggleable__label {background-color: #d4ebff;}#sk-container-id-3 div.sk-serial::before {content: \"\";position: absolute;border-left: 1px solid gray;box-sizing: border-box;top: 0;bottom: 0;left: 50%;z-index: 0;}#sk-container-id-3 div.sk-serial {display: flex;flex-direction: column;align-items: center;background-color: white;padding-right: 0.2em;padding-left: 0.2em;position: relative;}#sk-container-id-3 div.sk-item {position: relative;z-index: 1;}#sk-container-id-3 div.sk-parallel {display: flex;align-items: stretch;justify-content: center;background-color: white;position: relative;}#sk-container-id-3 div.sk-item::before, #sk-container-id-3 div.sk-parallel-item::before {content: \"\";position: absolute;border-left: 1px solid gray;box-sizing: border-box;top: 0;bottom: 0;left: 50%;z-index: -1;}#sk-container-id-3 div.sk-parallel-item {display: flex;flex-direction: column;z-index: 1;position: relative;background-color: white;}#sk-container-id-3 div.sk-parallel-item:first-child::after {align-self: flex-end;width: 50%;}#sk-container-id-3 div.sk-parallel-item:last-child::after {align-self: flex-start;width: 50%;}#sk-container-id-3 div.sk-parallel-item:only-child::after {width: 0;}#sk-container-id-3 div.sk-dashed-wrapped {border: 1px dashed gray;margin: 0 0.4em 0.5em 0.4em;box-sizing: border-box;padding-bottom: 0.4em;background-color: white;}#sk-container-id-3 div.sk-label label {font-family: monospace;font-weight: bold;display: inline-block;line-height: 1.2em;}#sk-container-id-3 div.sk-label-container {text-align: center;}#sk-container-id-3 div.sk-container {/* jupyter's `normalize.less` sets `[hidden] { display: none; }` but bootstrap.min.css set `[hidden] { display: none !important; }` so we also need the `!important` here to be able to override the default hidden behavior on the sphinx rendered scikit-learn.org. See: https://github.com/scikit-learn/scikit-learn/issues/21755 */display: inline-block !important;position: relative;}#sk-container-id-3 div.sk-text-repr-fallback {display: none;}</style><div id=\"sk-container-id-3\" class=\"sk-top-container\"><div class=\"sk-text-repr-fallback\"><pre>GridSearchCV(estimator=VotingClassifier(estimators=[(&#x27;arvores&#x27;,\n",
              "                                                     Pipeline(steps=[(&#x27;scaler&#x27;,\n",
              "                                                                      StandardScaler()),\n",
              "                                                                     (&#x27;model&#x27;,\n",
              "                                                                      DecisionTreeClassifier(random_state=42))])),\n",
              "                                                    (&#x27;logistica&#x27;,\n",
              "                                                     Pipeline(steps=[(&#x27;scaler&#x27;,\n",
              "                                                                      StandardScaler()),\n",
              "                                                                     (&#x27;model&#x27;,\n",
              "                                                                      LogisticRegression(random_state=42))])),\n",
              "                                                    (&#x27;naive bayes&#x27;,\n",
              "                                                     Pipeline(steps=[(&#x27;scaler&#x27;,\n",
              "                                                                      StandardScaler()),\n",
              "                                                                     (&#x27;model&#x27;,\n",
              "                                                                      GaussianNB())]))],\n",
              "                                        voting=&#x27;soft&#x27;),\n",
              "             n_jobs=-1,\n",
              "             param_grid={&#x27;voting&#x27;: [&#x27;hard&#x27;, &#x27;soft&#x27;],\n",
              "                         &#x27;weights&#x27;: [(1, 1, 1), (2, 1, 1), (1, 2, 1),\n",
              "                                     (1, 1, 2)]})</pre><b>In a Jupyter environment, please rerun this cell to show the HTML representation or trust the notebook. <br />On GitHub, the HTML representation is unable to render, please try loading this page with nbviewer.org.</b></div><div class=\"sk-container\" hidden><div class=\"sk-item sk-dashed-wrapped\"><div class=\"sk-label-container\"><div class=\"sk-label sk-toggleable\"><input class=\"sk-toggleable__control sk-hidden--visually\" id=\"sk-estimator-id-9\" type=\"checkbox\" ><label for=\"sk-estimator-id-9\" class=\"sk-toggleable__label sk-toggleable__label-arrow\">GridSearchCV</label><div class=\"sk-toggleable__content\"><pre>GridSearchCV(estimator=VotingClassifier(estimators=[(&#x27;arvores&#x27;,\n",
              "                                                     Pipeline(steps=[(&#x27;scaler&#x27;,\n",
              "                                                                      StandardScaler()),\n",
              "                                                                     (&#x27;model&#x27;,\n",
              "                                                                      DecisionTreeClassifier(random_state=42))])),\n",
              "                                                    (&#x27;logistica&#x27;,\n",
              "                                                     Pipeline(steps=[(&#x27;scaler&#x27;,\n",
              "                                                                      StandardScaler()),\n",
              "                                                                     (&#x27;model&#x27;,\n",
              "                                                                      LogisticRegression(random_state=42))])),\n",
              "                                                    (&#x27;naive bayes&#x27;,\n",
              "                                                     Pipeline(steps=[(&#x27;scaler&#x27;,\n",
              "                                                                      StandardScaler()),\n",
              "                                                                     (&#x27;model&#x27;,\n",
              "                                                                      GaussianNB())]))],\n",
              "                                        voting=&#x27;soft&#x27;),\n",
              "             n_jobs=-1,\n",
              "             param_grid={&#x27;voting&#x27;: [&#x27;hard&#x27;, &#x27;soft&#x27;],\n",
              "                         &#x27;weights&#x27;: [(1, 1, 1), (2, 1, 1), (1, 2, 1),\n",
              "                                     (1, 1, 2)]})</pre></div></div></div><div class=\"sk-parallel\"><div class=\"sk-parallel-item\"><div class=\"sk-item\"><div class=\"sk-label-container\"><div class=\"sk-label sk-toggleable\"><input class=\"sk-toggleable__control sk-hidden--visually\" id=\"sk-estimator-id-10\" type=\"checkbox\" ><label for=\"sk-estimator-id-10\" class=\"sk-toggleable__label sk-toggleable__label-arrow\">estimator: VotingClassifier</label><div class=\"sk-toggleable__content\"><pre>VotingClassifier(estimators=[(&#x27;arvores&#x27;,\n",
              "                              Pipeline(steps=[(&#x27;scaler&#x27;, StandardScaler()),\n",
              "                                              (&#x27;model&#x27;,\n",
              "                                               DecisionTreeClassifier(random_state=42))])),\n",
              "                             (&#x27;logistica&#x27;,\n",
              "                              Pipeline(steps=[(&#x27;scaler&#x27;, StandardScaler()),\n",
              "                                              (&#x27;model&#x27;,\n",
              "                                               LogisticRegression(random_state=42))])),\n",
              "                             (&#x27;naive bayes&#x27;,\n",
              "                              Pipeline(steps=[(&#x27;scaler&#x27;, StandardScaler()),\n",
              "                                              (&#x27;model&#x27;, GaussianNB())]))],\n",
              "                 voting=&#x27;soft&#x27;)</pre></div></div></div><div class=\"sk-serial\"><div class=\"sk-item sk-dashed-wrapped\"><div class=\"sk-parallel\"><div class=\"sk-parallel-item\"><div class=\"sk-item\"><div class=\"sk-label-container\"><div class=\"sk-label sk-toggleable\"><label>arvores</label></div></div><div class=\"sk-serial\"><div class=\"sk-item\"><div class=\"sk-serial\"><div class=\"sk-item\"><div class=\"sk-estimator sk-toggleable\"><input class=\"sk-toggleable__control sk-hidden--visually\" id=\"sk-estimator-id-11\" type=\"checkbox\" ><label for=\"sk-estimator-id-11\" class=\"sk-toggleable__label sk-toggleable__label-arrow\">StandardScaler</label><div class=\"sk-toggleable__content\"><pre>StandardScaler()</pre></div></div></div><div class=\"sk-item\"><div class=\"sk-estimator sk-toggleable\"><input class=\"sk-toggleable__control sk-hidden--visually\" id=\"sk-estimator-id-12\" type=\"checkbox\" ><label for=\"sk-estimator-id-12\" class=\"sk-toggleable__label sk-toggleable__label-arrow\">DecisionTreeClassifier</label><div class=\"sk-toggleable__content\"><pre>DecisionTreeClassifier(random_state=42)</pre></div></div></div></div></div></div></div></div><div class=\"sk-parallel-item\"><div class=\"sk-item\"><div class=\"sk-label-container\"><div class=\"sk-label sk-toggleable\"><label>logistica</label></div></div><div class=\"sk-serial\"><div class=\"sk-item\"><div class=\"sk-serial\"><div class=\"sk-item\"><div class=\"sk-estimator sk-toggleable\"><input class=\"sk-toggleable__control sk-hidden--visually\" id=\"sk-estimator-id-13\" type=\"checkbox\" ><label for=\"sk-estimator-id-13\" class=\"sk-toggleable__label sk-toggleable__label-arrow\">StandardScaler</label><div class=\"sk-toggleable__content\"><pre>StandardScaler()</pre></div></div></div><div class=\"sk-item\"><div class=\"sk-estimator sk-toggleable\"><input class=\"sk-toggleable__control sk-hidden--visually\" id=\"sk-estimator-id-14\" type=\"checkbox\" ><label for=\"sk-estimator-id-14\" class=\"sk-toggleable__label sk-toggleable__label-arrow\">LogisticRegression</label><div class=\"sk-toggleable__content\"><pre>LogisticRegression(random_state=42)</pre></div></div></div></div></div></div></div></div><div class=\"sk-parallel-item\"><div class=\"sk-item\"><div class=\"sk-label-container\"><div class=\"sk-label sk-toggleable\"><label>naive bayes</label></div></div><div class=\"sk-serial\"><div class=\"sk-item\"><div class=\"sk-serial\"><div class=\"sk-item\"><div class=\"sk-estimator sk-toggleable\"><input class=\"sk-toggleable__control sk-hidden--visually\" id=\"sk-estimator-id-15\" type=\"checkbox\" ><label for=\"sk-estimator-id-15\" class=\"sk-toggleable__label sk-toggleable__label-arrow\">StandardScaler</label><div class=\"sk-toggleable__content\"><pre>StandardScaler()</pre></div></div></div><div class=\"sk-item\"><div class=\"sk-estimator sk-toggleable\"><input class=\"sk-toggleable__control sk-hidden--visually\" id=\"sk-estimator-id-16\" type=\"checkbox\" ><label for=\"sk-estimator-id-16\" class=\"sk-toggleable__label sk-toggleable__label-arrow\">GaussianNB</label><div class=\"sk-toggleable__content\"><pre>GaussianNB()</pre></div></div></div></div></div></div></div></div></div></div></div></div></div></div></div></div></div>"
            ]
          },
          "metadata": {},
          "execution_count": 43
        }
      ]
    },
    {
      "cell_type": "code",
      "source": [
        "gs.best_params_"
      ],
      "metadata": {
        "colab": {
          "base_uri": "https://localhost:8080/"
        },
        "id": "eSfuMyh0OI3M",
        "outputId": "d20012b9-3954-4aee-e68f-4ca8869d781e"
      },
      "execution_count": 44,
      "outputs": [
        {
          "output_type": "execute_result",
          "data": {
            "text/plain": [
              "{'voting': 'soft', 'weights': (2, 1, 1)}"
            ]
          },
          "metadata": {},
          "execution_count": 44
        }
      ]
    },
    {
      "cell_type": "code",
      "source": [
        "gs.best_score_"
      ],
      "metadata": {
        "colab": {
          "base_uri": "https://localhost:8080/"
        },
        "id": "U3ACB5PJOSN-",
        "outputId": "30e699dd-b619-4043-9c06-c2407e03b019"
      },
      "execution_count": 45,
      "outputs": [
        {
          "output_type": "execute_result",
          "data": {
            "text/plain": [
              "0.9443983339909126"
            ]
          },
          "metadata": {},
          "execution_count": 45
        }
      ]
    },
    {
      "cell_type": "code",
      "source": [
        "y_pred = gs.predict(X_teste)"
      ],
      "metadata": {
        "id": "nChpXSysOWaW"
      },
      "execution_count": 46,
      "outputs": []
    },
    {
      "cell_type": "code",
      "source": [
        "accuracy_score(y_teste, y_pred)"
      ],
      "metadata": {
        "colab": {
          "base_uri": "https://localhost:8080/"
        },
        "id": "e9-wr8R3OiWe",
        "outputId": "e0f1d463-8973-4cef-8aa4-9c9b8f2b8aa5"
      },
      "execution_count": 47,
      "outputs": [
        {
          "output_type": "execute_result",
          "data": {
            "text/plain": [
              "0.9462402966052601"
            ]
          },
          "metadata": {},
          "execution_count": 47
        }
      ]
    },
    {
      "cell_type": "markdown",
      "source": [
        "#### BaggingClassifier"
      ],
      "metadata": {
        "id": "351UirU4O3a0"
      }
    },
    {
      "cell_type": "code",
      "source": [
        "from sklearn.ensemble import BaggingClassifier"
      ],
      "metadata": {
        "id": "fF23W3eGOllz"
      },
      "execution_count": 48,
      "outputs": []
    },
    {
      "cell_type": "code",
      "source": [
        "bc = BaggingClassifier(n_estimators=10, random_state=42)"
      ],
      "metadata": {
        "id": "FOt8sx22PAWg"
      },
      "execution_count": 49,
      "outputs": []
    },
    {
      "cell_type": "code",
      "source": [
        "bc.fit(X_treino, y_treino)"
      ],
      "metadata": {
        "colab": {
          "base_uri": "https://localhost:8080/",
          "height": 75
        },
        "id": "9axzv31UPGNc",
        "outputId": "3161be7a-ba17-46d0-dc16-0c5ae8a42b32"
      },
      "execution_count": 50,
      "outputs": [
        {
          "output_type": "execute_result",
          "data": {
            "text/plain": [
              "BaggingClassifier(random_state=42)"
            ],
            "text/html": [
              "<style>#sk-container-id-4 {color: black;}#sk-container-id-4 pre{padding: 0;}#sk-container-id-4 div.sk-toggleable {background-color: white;}#sk-container-id-4 label.sk-toggleable__label {cursor: pointer;display: block;width: 100%;margin-bottom: 0;padding: 0.3em;box-sizing: border-box;text-align: center;}#sk-container-id-4 label.sk-toggleable__label-arrow:before {content: \"▸\";float: left;margin-right: 0.25em;color: #696969;}#sk-container-id-4 label.sk-toggleable__label-arrow:hover:before {color: black;}#sk-container-id-4 div.sk-estimator:hover label.sk-toggleable__label-arrow:before {color: black;}#sk-container-id-4 div.sk-toggleable__content {max-height: 0;max-width: 0;overflow: hidden;text-align: left;background-color: #f0f8ff;}#sk-container-id-4 div.sk-toggleable__content pre {margin: 0.2em;color: black;border-radius: 0.25em;background-color: #f0f8ff;}#sk-container-id-4 input.sk-toggleable__control:checked~div.sk-toggleable__content {max-height: 200px;max-width: 100%;overflow: auto;}#sk-container-id-4 input.sk-toggleable__control:checked~label.sk-toggleable__label-arrow:before {content: \"▾\";}#sk-container-id-4 div.sk-estimator input.sk-toggleable__control:checked~label.sk-toggleable__label {background-color: #d4ebff;}#sk-container-id-4 div.sk-label input.sk-toggleable__control:checked~label.sk-toggleable__label {background-color: #d4ebff;}#sk-container-id-4 input.sk-hidden--visually {border: 0;clip: rect(1px 1px 1px 1px);clip: rect(1px, 1px, 1px, 1px);height: 1px;margin: -1px;overflow: hidden;padding: 0;position: absolute;width: 1px;}#sk-container-id-4 div.sk-estimator {font-family: monospace;background-color: #f0f8ff;border: 1px dotted black;border-radius: 0.25em;box-sizing: border-box;margin-bottom: 0.5em;}#sk-container-id-4 div.sk-estimator:hover {background-color: #d4ebff;}#sk-container-id-4 div.sk-parallel-item::after {content: \"\";width: 100%;border-bottom: 1px solid gray;flex-grow: 1;}#sk-container-id-4 div.sk-label:hover label.sk-toggleable__label {background-color: #d4ebff;}#sk-container-id-4 div.sk-serial::before {content: \"\";position: absolute;border-left: 1px solid gray;box-sizing: border-box;top: 0;bottom: 0;left: 50%;z-index: 0;}#sk-container-id-4 div.sk-serial {display: flex;flex-direction: column;align-items: center;background-color: white;padding-right: 0.2em;padding-left: 0.2em;position: relative;}#sk-container-id-4 div.sk-item {position: relative;z-index: 1;}#sk-container-id-4 div.sk-parallel {display: flex;align-items: stretch;justify-content: center;background-color: white;position: relative;}#sk-container-id-4 div.sk-item::before, #sk-container-id-4 div.sk-parallel-item::before {content: \"\";position: absolute;border-left: 1px solid gray;box-sizing: border-box;top: 0;bottom: 0;left: 50%;z-index: -1;}#sk-container-id-4 div.sk-parallel-item {display: flex;flex-direction: column;z-index: 1;position: relative;background-color: white;}#sk-container-id-4 div.sk-parallel-item:first-child::after {align-self: flex-end;width: 50%;}#sk-container-id-4 div.sk-parallel-item:last-child::after {align-self: flex-start;width: 50%;}#sk-container-id-4 div.sk-parallel-item:only-child::after {width: 0;}#sk-container-id-4 div.sk-dashed-wrapped {border: 1px dashed gray;margin: 0 0.4em 0.5em 0.4em;box-sizing: border-box;padding-bottom: 0.4em;background-color: white;}#sk-container-id-4 div.sk-label label {font-family: monospace;font-weight: bold;display: inline-block;line-height: 1.2em;}#sk-container-id-4 div.sk-label-container {text-align: center;}#sk-container-id-4 div.sk-container {/* jupyter's `normalize.less` sets `[hidden] { display: none; }` but bootstrap.min.css set `[hidden] { display: none !important; }` so we also need the `!important` here to be able to override the default hidden behavior on the sphinx rendered scikit-learn.org. See: https://github.com/scikit-learn/scikit-learn/issues/21755 */display: inline-block !important;position: relative;}#sk-container-id-4 div.sk-text-repr-fallback {display: none;}</style><div id=\"sk-container-id-4\" class=\"sk-top-container\"><div class=\"sk-text-repr-fallback\"><pre>BaggingClassifier(random_state=42)</pre><b>In a Jupyter environment, please rerun this cell to show the HTML representation or trust the notebook. <br />On GitHub, the HTML representation is unable to render, please try loading this page with nbviewer.org.</b></div><div class=\"sk-container\" hidden><div class=\"sk-item\"><div class=\"sk-estimator sk-toggleable\"><input class=\"sk-toggleable__control sk-hidden--visually\" id=\"sk-estimator-id-17\" type=\"checkbox\" checked><label for=\"sk-estimator-id-17\" class=\"sk-toggleable__label sk-toggleable__label-arrow\">BaggingClassifier</label><div class=\"sk-toggleable__content\"><pre>BaggingClassifier(random_state=42)</pre></div></div></div></div></div>"
            ]
          },
          "metadata": {},
          "execution_count": 50
        }
      ]
    },
    {
      "cell_type": "code",
      "source": [
        "y_pred = bc.predict(X_teste)"
      ],
      "metadata": {
        "id": "cVnlNQOYPR0h"
      },
      "execution_count": 51,
      "outputs": []
    },
    {
      "cell_type": "code",
      "source": [
        "accuracy_score(y_teste, y_pred)"
      ],
      "metadata": {
        "colab": {
          "base_uri": "https://localhost:8080/"
        },
        "id": "CTiiWwsTPYR5",
        "outputId": "3312c25f-db87-4c32-98d6-118d023a9210"
      },
      "execution_count": 52,
      "outputs": [
        {
          "output_type": "execute_result",
          "data": {
            "text/plain": [
              "0.9586760900629514"
            ]
          },
          "metadata": {},
          "execution_count": 52
        }
      ]
    },
    {
      "cell_type": "markdown",
      "source": [
        "#### Validando o Bagging"
      ],
      "metadata": {
        "id": "jhsKsstaUE7Z"
      }
    },
    {
      "cell_type": "code",
      "source": [
        "modelo_base = pipelines[0]  # escolhemos o melhor modelo como base"
      ],
      "metadata": {
        "id": "4Jgev5QoPbtz"
      },
      "execution_count": 53,
      "outputs": []
    },
    {
      "cell_type": "code",
      "source": [
        "parametros_grid = {\n",
        "    'n_estimators': [10,20,30],\n",
        "    'max_samples': [0.5,0.7,0.9],\n",
        "    'max_features': [0.5,0.7,0.9]\n",
        "}"
      ],
      "metadata": {
        "id": "StXXc27BUPYY"
      },
      "execution_count": 54,
      "outputs": []
    },
    {
      "cell_type": "code",
      "source": [
        "bagging_grid = GridSearchCV(\n",
        "    BaggingClassifier(),\n",
        "    parametros_grid,\n",
        "    cv=5,\n",
        "    n_jobs=-1\n",
        ")"
      ],
      "metadata": {
        "id": "MtAc3oSUUgeo"
      },
      "execution_count": 55,
      "outputs": []
    },
    {
      "cell_type": "code",
      "source": [
        "bagging_grid.fit(X_treino, y_treino)"
      ],
      "metadata": {
        "colab": {
          "base_uri": "https://localhost:8080/",
          "height": 118
        },
        "id": "gRvVt8B3UpG9",
        "outputId": "d35ca56f-bfa1-4abd-a528-ce64781c15f6"
      },
      "execution_count": 56,
      "outputs": [
        {
          "output_type": "execute_result",
          "data": {
            "text/plain": [
              "GridSearchCV(cv=5, estimator=BaggingClassifier(), n_jobs=-1,\n",
              "             param_grid={'max_features': [0.5, 0.7, 0.9],\n",
              "                         'max_samples': [0.5, 0.7, 0.9],\n",
              "                         'n_estimators': [10, 20, 30]})"
            ],
            "text/html": [
              "<style>#sk-container-id-5 {color: black;}#sk-container-id-5 pre{padding: 0;}#sk-container-id-5 div.sk-toggleable {background-color: white;}#sk-container-id-5 label.sk-toggleable__label {cursor: pointer;display: block;width: 100%;margin-bottom: 0;padding: 0.3em;box-sizing: border-box;text-align: center;}#sk-container-id-5 label.sk-toggleable__label-arrow:before {content: \"▸\";float: left;margin-right: 0.25em;color: #696969;}#sk-container-id-5 label.sk-toggleable__label-arrow:hover:before {color: black;}#sk-container-id-5 div.sk-estimator:hover label.sk-toggleable__label-arrow:before {color: black;}#sk-container-id-5 div.sk-toggleable__content {max-height: 0;max-width: 0;overflow: hidden;text-align: left;background-color: #f0f8ff;}#sk-container-id-5 div.sk-toggleable__content pre {margin: 0.2em;color: black;border-radius: 0.25em;background-color: #f0f8ff;}#sk-container-id-5 input.sk-toggleable__control:checked~div.sk-toggleable__content {max-height: 200px;max-width: 100%;overflow: auto;}#sk-container-id-5 input.sk-toggleable__control:checked~label.sk-toggleable__label-arrow:before {content: \"▾\";}#sk-container-id-5 div.sk-estimator input.sk-toggleable__control:checked~label.sk-toggleable__label {background-color: #d4ebff;}#sk-container-id-5 div.sk-label input.sk-toggleable__control:checked~label.sk-toggleable__label {background-color: #d4ebff;}#sk-container-id-5 input.sk-hidden--visually {border: 0;clip: rect(1px 1px 1px 1px);clip: rect(1px, 1px, 1px, 1px);height: 1px;margin: -1px;overflow: hidden;padding: 0;position: absolute;width: 1px;}#sk-container-id-5 div.sk-estimator {font-family: monospace;background-color: #f0f8ff;border: 1px dotted black;border-radius: 0.25em;box-sizing: border-box;margin-bottom: 0.5em;}#sk-container-id-5 div.sk-estimator:hover {background-color: #d4ebff;}#sk-container-id-5 div.sk-parallel-item::after {content: \"\";width: 100%;border-bottom: 1px solid gray;flex-grow: 1;}#sk-container-id-5 div.sk-label:hover label.sk-toggleable__label {background-color: #d4ebff;}#sk-container-id-5 div.sk-serial::before {content: \"\";position: absolute;border-left: 1px solid gray;box-sizing: border-box;top: 0;bottom: 0;left: 50%;z-index: 0;}#sk-container-id-5 div.sk-serial {display: flex;flex-direction: column;align-items: center;background-color: white;padding-right: 0.2em;padding-left: 0.2em;position: relative;}#sk-container-id-5 div.sk-item {position: relative;z-index: 1;}#sk-container-id-5 div.sk-parallel {display: flex;align-items: stretch;justify-content: center;background-color: white;position: relative;}#sk-container-id-5 div.sk-item::before, #sk-container-id-5 div.sk-parallel-item::before {content: \"\";position: absolute;border-left: 1px solid gray;box-sizing: border-box;top: 0;bottom: 0;left: 50%;z-index: -1;}#sk-container-id-5 div.sk-parallel-item {display: flex;flex-direction: column;z-index: 1;position: relative;background-color: white;}#sk-container-id-5 div.sk-parallel-item:first-child::after {align-self: flex-end;width: 50%;}#sk-container-id-5 div.sk-parallel-item:last-child::after {align-self: flex-start;width: 50%;}#sk-container-id-5 div.sk-parallel-item:only-child::after {width: 0;}#sk-container-id-5 div.sk-dashed-wrapped {border: 1px dashed gray;margin: 0 0.4em 0.5em 0.4em;box-sizing: border-box;padding-bottom: 0.4em;background-color: white;}#sk-container-id-5 div.sk-label label {font-family: monospace;font-weight: bold;display: inline-block;line-height: 1.2em;}#sk-container-id-5 div.sk-label-container {text-align: center;}#sk-container-id-5 div.sk-container {/* jupyter's `normalize.less` sets `[hidden] { display: none; }` but bootstrap.min.css set `[hidden] { display: none !important; }` so we also need the `!important` here to be able to override the default hidden behavior on the sphinx rendered scikit-learn.org. See: https://github.com/scikit-learn/scikit-learn/issues/21755 */display: inline-block !important;position: relative;}#sk-container-id-5 div.sk-text-repr-fallback {display: none;}</style><div id=\"sk-container-id-5\" class=\"sk-top-container\"><div class=\"sk-text-repr-fallback\"><pre>GridSearchCV(cv=5, estimator=BaggingClassifier(), n_jobs=-1,\n",
              "             param_grid={&#x27;max_features&#x27;: [0.5, 0.7, 0.9],\n",
              "                         &#x27;max_samples&#x27;: [0.5, 0.7, 0.9],\n",
              "                         &#x27;n_estimators&#x27;: [10, 20, 30]})</pre><b>In a Jupyter environment, please rerun this cell to show the HTML representation or trust the notebook. <br />On GitHub, the HTML representation is unable to render, please try loading this page with nbviewer.org.</b></div><div class=\"sk-container\" hidden><div class=\"sk-item sk-dashed-wrapped\"><div class=\"sk-label-container\"><div class=\"sk-label sk-toggleable\"><input class=\"sk-toggleable__control sk-hidden--visually\" id=\"sk-estimator-id-18\" type=\"checkbox\" ><label for=\"sk-estimator-id-18\" class=\"sk-toggleable__label sk-toggleable__label-arrow\">GridSearchCV</label><div class=\"sk-toggleable__content\"><pre>GridSearchCV(cv=5, estimator=BaggingClassifier(), n_jobs=-1,\n",
              "             param_grid={&#x27;max_features&#x27;: [0.5, 0.7, 0.9],\n",
              "                         &#x27;max_samples&#x27;: [0.5, 0.7, 0.9],\n",
              "                         &#x27;n_estimators&#x27;: [10, 20, 30]})</pre></div></div></div><div class=\"sk-parallel\"><div class=\"sk-parallel-item\"><div class=\"sk-item\"><div class=\"sk-label-container\"><div class=\"sk-label sk-toggleable\"><input class=\"sk-toggleable__control sk-hidden--visually\" id=\"sk-estimator-id-19\" type=\"checkbox\" ><label for=\"sk-estimator-id-19\" class=\"sk-toggleable__label sk-toggleable__label-arrow\">estimator: BaggingClassifier</label><div class=\"sk-toggleable__content\"><pre>BaggingClassifier()</pre></div></div></div><div class=\"sk-serial\"><div class=\"sk-item\"><div class=\"sk-estimator sk-toggleable\"><input class=\"sk-toggleable__control sk-hidden--visually\" id=\"sk-estimator-id-20\" type=\"checkbox\" ><label for=\"sk-estimator-id-20\" class=\"sk-toggleable__label sk-toggleable__label-arrow\">BaggingClassifier</label><div class=\"sk-toggleable__content\"><pre>BaggingClassifier()</pre></div></div></div></div></div></div></div></div></div></div>"
            ]
          },
          "metadata": {},
          "execution_count": 56
        }
      ]
    },
    {
      "cell_type": "code",
      "source": [
        "bagging_grid.best_params_"
      ],
      "metadata": {
        "colab": {
          "base_uri": "https://localhost:8080/"
        },
        "id": "Gbtm4lsqUsH2",
        "outputId": "6a736c09-3896-4960-c197-3355c883805b"
      },
      "execution_count": 57,
      "outputs": [
        {
          "output_type": "execute_result",
          "data": {
            "text/plain": [
              "{'max_features': 0.9, 'max_samples': 0.9, 'n_estimators': 30}"
            ]
          },
          "metadata": {},
          "execution_count": 57
        }
      ]
    },
    {
      "cell_type": "code",
      "source": [
        "melhores_parametros = bagging_grid.best_params_"
      ],
      "metadata": {
        "id": "MehwlVGIUyDA"
      },
      "execution_count": 58,
      "outputs": []
    },
    {
      "cell_type": "code",
      "source": [
        "bagging_classifier = BaggingClassifier(estimator=modelo_base, **melhores_parametros)"
      ],
      "metadata": {
        "id": "HkxjnTpGU2nb"
      },
      "execution_count": 59,
      "outputs": []
    },
    {
      "cell_type": "code",
      "source": [
        "bagging_classifier.fit(X_treino, y_treino)"
      ],
      "metadata": {
        "colab": {
          "base_uri": "https://localhost:8080/",
          "height": 153
        },
        "id": "C0NsH7zCVDSh",
        "outputId": "fe2d8c4e-f95e-4a00-9b12-ce56c97270db"
      },
      "execution_count": 60,
      "outputs": [
        {
          "output_type": "execute_result",
          "data": {
            "text/plain": [
              "BaggingClassifier(estimator=Pipeline(steps=[('scaler', StandardScaler()),\n",
              "                                            ('model',\n",
              "                                             DecisionTreeClassifier(random_state=42))]),\n",
              "                  max_features=0.9, max_samples=0.9, n_estimators=30)"
            ],
            "text/html": [
              "<style>#sk-container-id-6 {color: black;}#sk-container-id-6 pre{padding: 0;}#sk-container-id-6 div.sk-toggleable {background-color: white;}#sk-container-id-6 label.sk-toggleable__label {cursor: pointer;display: block;width: 100%;margin-bottom: 0;padding: 0.3em;box-sizing: border-box;text-align: center;}#sk-container-id-6 label.sk-toggleable__label-arrow:before {content: \"▸\";float: left;margin-right: 0.25em;color: #696969;}#sk-container-id-6 label.sk-toggleable__label-arrow:hover:before {color: black;}#sk-container-id-6 div.sk-estimator:hover label.sk-toggleable__label-arrow:before {color: black;}#sk-container-id-6 div.sk-toggleable__content {max-height: 0;max-width: 0;overflow: hidden;text-align: left;background-color: #f0f8ff;}#sk-container-id-6 div.sk-toggleable__content pre {margin: 0.2em;color: black;border-radius: 0.25em;background-color: #f0f8ff;}#sk-container-id-6 input.sk-toggleable__control:checked~div.sk-toggleable__content {max-height: 200px;max-width: 100%;overflow: auto;}#sk-container-id-6 input.sk-toggleable__control:checked~label.sk-toggleable__label-arrow:before {content: \"▾\";}#sk-container-id-6 div.sk-estimator input.sk-toggleable__control:checked~label.sk-toggleable__label {background-color: #d4ebff;}#sk-container-id-6 div.sk-label input.sk-toggleable__control:checked~label.sk-toggleable__label {background-color: #d4ebff;}#sk-container-id-6 input.sk-hidden--visually {border: 0;clip: rect(1px 1px 1px 1px);clip: rect(1px, 1px, 1px, 1px);height: 1px;margin: -1px;overflow: hidden;padding: 0;position: absolute;width: 1px;}#sk-container-id-6 div.sk-estimator {font-family: monospace;background-color: #f0f8ff;border: 1px dotted black;border-radius: 0.25em;box-sizing: border-box;margin-bottom: 0.5em;}#sk-container-id-6 div.sk-estimator:hover {background-color: #d4ebff;}#sk-container-id-6 div.sk-parallel-item::after {content: \"\";width: 100%;border-bottom: 1px solid gray;flex-grow: 1;}#sk-container-id-6 div.sk-label:hover label.sk-toggleable__label {background-color: #d4ebff;}#sk-container-id-6 div.sk-serial::before {content: \"\";position: absolute;border-left: 1px solid gray;box-sizing: border-box;top: 0;bottom: 0;left: 50%;z-index: 0;}#sk-container-id-6 div.sk-serial {display: flex;flex-direction: column;align-items: center;background-color: white;padding-right: 0.2em;padding-left: 0.2em;position: relative;}#sk-container-id-6 div.sk-item {position: relative;z-index: 1;}#sk-container-id-6 div.sk-parallel {display: flex;align-items: stretch;justify-content: center;background-color: white;position: relative;}#sk-container-id-6 div.sk-item::before, #sk-container-id-6 div.sk-parallel-item::before {content: \"\";position: absolute;border-left: 1px solid gray;box-sizing: border-box;top: 0;bottom: 0;left: 50%;z-index: -1;}#sk-container-id-6 div.sk-parallel-item {display: flex;flex-direction: column;z-index: 1;position: relative;background-color: white;}#sk-container-id-6 div.sk-parallel-item:first-child::after {align-self: flex-end;width: 50%;}#sk-container-id-6 div.sk-parallel-item:last-child::after {align-self: flex-start;width: 50%;}#sk-container-id-6 div.sk-parallel-item:only-child::after {width: 0;}#sk-container-id-6 div.sk-dashed-wrapped {border: 1px dashed gray;margin: 0 0.4em 0.5em 0.4em;box-sizing: border-box;padding-bottom: 0.4em;background-color: white;}#sk-container-id-6 div.sk-label label {font-family: monospace;font-weight: bold;display: inline-block;line-height: 1.2em;}#sk-container-id-6 div.sk-label-container {text-align: center;}#sk-container-id-6 div.sk-container {/* jupyter's `normalize.less` sets `[hidden] { display: none; }` but bootstrap.min.css set `[hidden] { display: none !important; }` so we also need the `!important` here to be able to override the default hidden behavior on the sphinx rendered scikit-learn.org. See: https://github.com/scikit-learn/scikit-learn/issues/21755 */display: inline-block !important;position: relative;}#sk-container-id-6 div.sk-text-repr-fallback {display: none;}</style><div id=\"sk-container-id-6\" class=\"sk-top-container\"><div class=\"sk-text-repr-fallback\"><pre>BaggingClassifier(estimator=Pipeline(steps=[(&#x27;scaler&#x27;, StandardScaler()),\n",
              "                                            (&#x27;model&#x27;,\n",
              "                                             DecisionTreeClassifier(random_state=42))]),\n",
              "                  max_features=0.9, max_samples=0.9, n_estimators=30)</pre><b>In a Jupyter environment, please rerun this cell to show the HTML representation or trust the notebook. <br />On GitHub, the HTML representation is unable to render, please try loading this page with nbviewer.org.</b></div><div class=\"sk-container\" hidden><div class=\"sk-item sk-dashed-wrapped\"><div class=\"sk-label-container\"><div class=\"sk-label sk-toggleable\"><input class=\"sk-toggleable__control sk-hidden--visually\" id=\"sk-estimator-id-21\" type=\"checkbox\" ><label for=\"sk-estimator-id-21\" class=\"sk-toggleable__label sk-toggleable__label-arrow\">BaggingClassifier</label><div class=\"sk-toggleable__content\"><pre>BaggingClassifier(estimator=Pipeline(steps=[(&#x27;scaler&#x27;, StandardScaler()),\n",
              "                                            (&#x27;model&#x27;,\n",
              "                                             DecisionTreeClassifier(random_state=42))]),\n",
              "                  max_features=0.9, max_samples=0.9, n_estimators=30)</pre></div></div></div><div class=\"sk-parallel\"><div class=\"sk-parallel-item\"><div class=\"sk-item\"><div class=\"sk-label-container\"><div class=\"sk-label sk-toggleable\"><input class=\"sk-toggleable__control sk-hidden--visually\" id=\"sk-estimator-id-22\" type=\"checkbox\" ><label for=\"sk-estimator-id-22\" class=\"sk-toggleable__label sk-toggleable__label-arrow\">estimator: Pipeline</label><div class=\"sk-toggleable__content\"><pre>Pipeline(steps=[(&#x27;scaler&#x27;, StandardScaler()),\n",
              "                (&#x27;model&#x27;, DecisionTreeClassifier(random_state=42))])</pre></div></div></div><div class=\"sk-serial\"><div class=\"sk-item\"><div class=\"sk-serial\"><div class=\"sk-item\"><div class=\"sk-estimator sk-toggleable\"><input class=\"sk-toggleable__control sk-hidden--visually\" id=\"sk-estimator-id-23\" type=\"checkbox\" ><label for=\"sk-estimator-id-23\" class=\"sk-toggleable__label sk-toggleable__label-arrow\">StandardScaler</label><div class=\"sk-toggleable__content\"><pre>StandardScaler()</pre></div></div></div><div class=\"sk-item\"><div class=\"sk-estimator sk-toggleable\"><input class=\"sk-toggleable__control sk-hidden--visually\" id=\"sk-estimator-id-24\" type=\"checkbox\" ><label for=\"sk-estimator-id-24\" class=\"sk-toggleable__label sk-toggleable__label-arrow\">DecisionTreeClassifier</label><div class=\"sk-toggleable__content\"><pre>DecisionTreeClassifier(random_state=42)</pre></div></div></div></div></div></div></div></div></div></div></div></div>"
            ]
          },
          "metadata": {},
          "execution_count": 60
        }
      ]
    },
    {
      "cell_type": "code",
      "source": [
        "y_pred = bagging_classifier.predict(X_teste)"
      ],
      "metadata": {
        "id": "bGL923-lVIaQ"
      },
      "execution_count": 61,
      "outputs": []
    },
    {
      "cell_type": "code",
      "source": [
        "accuracy_score(y_teste, y_pred)"
      ],
      "metadata": {
        "colab": {
          "base_uri": "https://localhost:8080/"
        },
        "id": "tkwVqHtnVWem",
        "outputId": "3951b694-fff3-432a-c93c-139d8d32d025"
      },
      "execution_count": 62,
      "outputs": [
        {
          "output_type": "execute_result",
          "data": {
            "text/plain": [
              "0.9621905534314293"
            ]
          },
          "metadata": {},
          "execution_count": 62
        }
      ]
    },
    {
      "cell_type": "markdown",
      "source": [
        "#### ExtraTreesClassifier\n",
        "\n",
        "não utiliza 'max_samples'"
      ],
      "metadata": {
        "id": "T4LWQ13oVgat"
      }
    },
    {
      "cell_type": "code",
      "source": [
        "parametros_grid = {\n",
        "    'n_estimators': [10,20,30],\n",
        "    'max_features': [0.5,0.7,0.9]\n",
        "}"
      ],
      "metadata": {
        "id": "j7XeFgVRVbO1"
      },
      "execution_count": 63,
      "outputs": []
    },
    {
      "cell_type": "code",
      "source": [
        "from sklearn.ensemble import ExtraTreesClassifier"
      ],
      "metadata": {
        "id": "_xlLeu5TVstk"
      },
      "execution_count": 64,
      "outputs": []
    },
    {
      "cell_type": "code",
      "source": [
        "etc_grid = GridSearchCV(\n",
        "    ExtraTreesClassifier(),\n",
        "    parametros_grid,\n",
        "    cv=5,\n",
        "    n_jobs=-1\n",
        ")"
      ],
      "metadata": {
        "id": "-WX3UEAqV1G8"
      },
      "execution_count": 65,
      "outputs": []
    },
    {
      "cell_type": "code",
      "source": [
        "etc_grid.fit(X_treino, y_treino)"
      ],
      "metadata": {
        "colab": {
          "base_uri": "https://localhost:8080/",
          "height": 118
        },
        "id": "kn4u9-pvWGhW",
        "outputId": "683dc7a8-523c-4b20-8284-2c101bbf5ad6"
      },
      "execution_count": 66,
      "outputs": [
        {
          "output_type": "execute_result",
          "data": {
            "text/plain": [
              "GridSearchCV(cv=5, estimator=ExtraTreesClassifier(), n_jobs=-1,\n",
              "             param_grid={'max_features': [0.5, 0.7, 0.9],\n",
              "                         'n_estimators': [10, 20, 30]})"
            ],
            "text/html": [
              "<style>#sk-container-id-7 {color: black;}#sk-container-id-7 pre{padding: 0;}#sk-container-id-7 div.sk-toggleable {background-color: white;}#sk-container-id-7 label.sk-toggleable__label {cursor: pointer;display: block;width: 100%;margin-bottom: 0;padding: 0.3em;box-sizing: border-box;text-align: center;}#sk-container-id-7 label.sk-toggleable__label-arrow:before {content: \"▸\";float: left;margin-right: 0.25em;color: #696969;}#sk-container-id-7 label.sk-toggleable__label-arrow:hover:before {color: black;}#sk-container-id-7 div.sk-estimator:hover label.sk-toggleable__label-arrow:before {color: black;}#sk-container-id-7 div.sk-toggleable__content {max-height: 0;max-width: 0;overflow: hidden;text-align: left;background-color: #f0f8ff;}#sk-container-id-7 div.sk-toggleable__content pre {margin: 0.2em;color: black;border-radius: 0.25em;background-color: #f0f8ff;}#sk-container-id-7 input.sk-toggleable__control:checked~div.sk-toggleable__content {max-height: 200px;max-width: 100%;overflow: auto;}#sk-container-id-7 input.sk-toggleable__control:checked~label.sk-toggleable__label-arrow:before {content: \"▾\";}#sk-container-id-7 div.sk-estimator input.sk-toggleable__control:checked~label.sk-toggleable__label {background-color: #d4ebff;}#sk-container-id-7 div.sk-label input.sk-toggleable__control:checked~label.sk-toggleable__label {background-color: #d4ebff;}#sk-container-id-7 input.sk-hidden--visually {border: 0;clip: rect(1px 1px 1px 1px);clip: rect(1px, 1px, 1px, 1px);height: 1px;margin: -1px;overflow: hidden;padding: 0;position: absolute;width: 1px;}#sk-container-id-7 div.sk-estimator {font-family: monospace;background-color: #f0f8ff;border: 1px dotted black;border-radius: 0.25em;box-sizing: border-box;margin-bottom: 0.5em;}#sk-container-id-7 div.sk-estimator:hover {background-color: #d4ebff;}#sk-container-id-7 div.sk-parallel-item::after {content: \"\";width: 100%;border-bottom: 1px solid gray;flex-grow: 1;}#sk-container-id-7 div.sk-label:hover label.sk-toggleable__label {background-color: #d4ebff;}#sk-container-id-7 div.sk-serial::before {content: \"\";position: absolute;border-left: 1px solid gray;box-sizing: border-box;top: 0;bottom: 0;left: 50%;z-index: 0;}#sk-container-id-7 div.sk-serial {display: flex;flex-direction: column;align-items: center;background-color: white;padding-right: 0.2em;padding-left: 0.2em;position: relative;}#sk-container-id-7 div.sk-item {position: relative;z-index: 1;}#sk-container-id-7 div.sk-parallel {display: flex;align-items: stretch;justify-content: center;background-color: white;position: relative;}#sk-container-id-7 div.sk-item::before, #sk-container-id-7 div.sk-parallel-item::before {content: \"\";position: absolute;border-left: 1px solid gray;box-sizing: border-box;top: 0;bottom: 0;left: 50%;z-index: -1;}#sk-container-id-7 div.sk-parallel-item {display: flex;flex-direction: column;z-index: 1;position: relative;background-color: white;}#sk-container-id-7 div.sk-parallel-item:first-child::after {align-self: flex-end;width: 50%;}#sk-container-id-7 div.sk-parallel-item:last-child::after {align-self: flex-start;width: 50%;}#sk-container-id-7 div.sk-parallel-item:only-child::after {width: 0;}#sk-container-id-7 div.sk-dashed-wrapped {border: 1px dashed gray;margin: 0 0.4em 0.5em 0.4em;box-sizing: border-box;padding-bottom: 0.4em;background-color: white;}#sk-container-id-7 div.sk-label label {font-family: monospace;font-weight: bold;display: inline-block;line-height: 1.2em;}#sk-container-id-7 div.sk-label-container {text-align: center;}#sk-container-id-7 div.sk-container {/* jupyter's `normalize.less` sets `[hidden] { display: none; }` but bootstrap.min.css set `[hidden] { display: none !important; }` so we also need the `!important` here to be able to override the default hidden behavior on the sphinx rendered scikit-learn.org. See: https://github.com/scikit-learn/scikit-learn/issues/21755 */display: inline-block !important;position: relative;}#sk-container-id-7 div.sk-text-repr-fallback {display: none;}</style><div id=\"sk-container-id-7\" class=\"sk-top-container\"><div class=\"sk-text-repr-fallback\"><pre>GridSearchCV(cv=5, estimator=ExtraTreesClassifier(), n_jobs=-1,\n",
              "             param_grid={&#x27;max_features&#x27;: [0.5, 0.7, 0.9],\n",
              "                         &#x27;n_estimators&#x27;: [10, 20, 30]})</pre><b>In a Jupyter environment, please rerun this cell to show the HTML representation or trust the notebook. <br />On GitHub, the HTML representation is unable to render, please try loading this page with nbviewer.org.</b></div><div class=\"sk-container\" hidden><div class=\"sk-item sk-dashed-wrapped\"><div class=\"sk-label-container\"><div class=\"sk-label sk-toggleable\"><input class=\"sk-toggleable__control sk-hidden--visually\" id=\"sk-estimator-id-25\" type=\"checkbox\" ><label for=\"sk-estimator-id-25\" class=\"sk-toggleable__label sk-toggleable__label-arrow\">GridSearchCV</label><div class=\"sk-toggleable__content\"><pre>GridSearchCV(cv=5, estimator=ExtraTreesClassifier(), n_jobs=-1,\n",
              "             param_grid={&#x27;max_features&#x27;: [0.5, 0.7, 0.9],\n",
              "                         &#x27;n_estimators&#x27;: [10, 20, 30]})</pre></div></div></div><div class=\"sk-parallel\"><div class=\"sk-parallel-item\"><div class=\"sk-item\"><div class=\"sk-label-container\"><div class=\"sk-label sk-toggleable\"><input class=\"sk-toggleable__control sk-hidden--visually\" id=\"sk-estimator-id-26\" type=\"checkbox\" ><label for=\"sk-estimator-id-26\" class=\"sk-toggleable__label sk-toggleable__label-arrow\">estimator: ExtraTreesClassifier</label><div class=\"sk-toggleable__content\"><pre>ExtraTreesClassifier()</pre></div></div></div><div class=\"sk-serial\"><div class=\"sk-item\"><div class=\"sk-estimator sk-toggleable\"><input class=\"sk-toggleable__control sk-hidden--visually\" id=\"sk-estimator-id-27\" type=\"checkbox\" ><label for=\"sk-estimator-id-27\" class=\"sk-toggleable__label sk-toggleable__label-arrow\">ExtraTreesClassifier</label><div class=\"sk-toggleable__content\"><pre>ExtraTreesClassifier()</pre></div></div></div></div></div></div></div></div></div></div>"
            ]
          },
          "metadata": {},
          "execution_count": 66
        }
      ]
    },
    {
      "cell_type": "code",
      "source": [
        "etc_grid.best_params_"
      ],
      "metadata": {
        "colab": {
          "base_uri": "https://localhost:8080/"
        },
        "id": "rlNcnGVIecY2",
        "outputId": "f9234004-323d-464d-9ed1-9ca89a393be3"
      },
      "execution_count": 67,
      "outputs": [
        {
          "output_type": "execute_result",
          "data": {
            "text/plain": [
              "{'max_features': 0.9, 'n_estimators': 30}"
            ]
          },
          "metadata": {},
          "execution_count": 67
        }
      ]
    },
    {
      "cell_type": "code",
      "source": [
        "melhores_parametros = etc_grid.best_params_"
      ],
      "metadata": {
        "id": "6iWAXCPcefsa"
      },
      "execution_count": 68,
      "outputs": []
    },
    {
      "cell_type": "code",
      "source": [
        "etc = ExtraTreesClassifier(**melhores_parametros)"
      ],
      "metadata": {
        "id": "MIyBbb1hekeA"
      },
      "execution_count": 69,
      "outputs": []
    },
    {
      "cell_type": "code",
      "source": [
        "etc.fit(X_treino, y_treino)"
      ],
      "metadata": {
        "colab": {
          "base_uri": "https://localhost:8080/",
          "height": 75
        },
        "id": "jZVGwTYZew7q",
        "outputId": "4cc86f38-4a06-4140-923b-25a2010d6c2a"
      },
      "execution_count": 70,
      "outputs": [
        {
          "output_type": "execute_result",
          "data": {
            "text/plain": [
              "ExtraTreesClassifier(max_features=0.9, n_estimators=30)"
            ],
            "text/html": [
              "<style>#sk-container-id-8 {color: black;}#sk-container-id-8 pre{padding: 0;}#sk-container-id-8 div.sk-toggleable {background-color: white;}#sk-container-id-8 label.sk-toggleable__label {cursor: pointer;display: block;width: 100%;margin-bottom: 0;padding: 0.3em;box-sizing: border-box;text-align: center;}#sk-container-id-8 label.sk-toggleable__label-arrow:before {content: \"▸\";float: left;margin-right: 0.25em;color: #696969;}#sk-container-id-8 label.sk-toggleable__label-arrow:hover:before {color: black;}#sk-container-id-8 div.sk-estimator:hover label.sk-toggleable__label-arrow:before {color: black;}#sk-container-id-8 div.sk-toggleable__content {max-height: 0;max-width: 0;overflow: hidden;text-align: left;background-color: #f0f8ff;}#sk-container-id-8 div.sk-toggleable__content pre {margin: 0.2em;color: black;border-radius: 0.25em;background-color: #f0f8ff;}#sk-container-id-8 input.sk-toggleable__control:checked~div.sk-toggleable__content {max-height: 200px;max-width: 100%;overflow: auto;}#sk-container-id-8 input.sk-toggleable__control:checked~label.sk-toggleable__label-arrow:before {content: \"▾\";}#sk-container-id-8 div.sk-estimator input.sk-toggleable__control:checked~label.sk-toggleable__label {background-color: #d4ebff;}#sk-container-id-8 div.sk-label input.sk-toggleable__control:checked~label.sk-toggleable__label {background-color: #d4ebff;}#sk-container-id-8 input.sk-hidden--visually {border: 0;clip: rect(1px 1px 1px 1px);clip: rect(1px, 1px, 1px, 1px);height: 1px;margin: -1px;overflow: hidden;padding: 0;position: absolute;width: 1px;}#sk-container-id-8 div.sk-estimator {font-family: monospace;background-color: #f0f8ff;border: 1px dotted black;border-radius: 0.25em;box-sizing: border-box;margin-bottom: 0.5em;}#sk-container-id-8 div.sk-estimator:hover {background-color: #d4ebff;}#sk-container-id-8 div.sk-parallel-item::after {content: \"\";width: 100%;border-bottom: 1px solid gray;flex-grow: 1;}#sk-container-id-8 div.sk-label:hover label.sk-toggleable__label {background-color: #d4ebff;}#sk-container-id-8 div.sk-serial::before {content: \"\";position: absolute;border-left: 1px solid gray;box-sizing: border-box;top: 0;bottom: 0;left: 50%;z-index: 0;}#sk-container-id-8 div.sk-serial {display: flex;flex-direction: column;align-items: center;background-color: white;padding-right: 0.2em;padding-left: 0.2em;position: relative;}#sk-container-id-8 div.sk-item {position: relative;z-index: 1;}#sk-container-id-8 div.sk-parallel {display: flex;align-items: stretch;justify-content: center;background-color: white;position: relative;}#sk-container-id-8 div.sk-item::before, #sk-container-id-8 div.sk-parallel-item::before {content: \"\";position: absolute;border-left: 1px solid gray;box-sizing: border-box;top: 0;bottom: 0;left: 50%;z-index: -1;}#sk-container-id-8 div.sk-parallel-item {display: flex;flex-direction: column;z-index: 1;position: relative;background-color: white;}#sk-container-id-8 div.sk-parallel-item:first-child::after {align-self: flex-end;width: 50%;}#sk-container-id-8 div.sk-parallel-item:last-child::after {align-self: flex-start;width: 50%;}#sk-container-id-8 div.sk-parallel-item:only-child::after {width: 0;}#sk-container-id-8 div.sk-dashed-wrapped {border: 1px dashed gray;margin: 0 0.4em 0.5em 0.4em;box-sizing: border-box;padding-bottom: 0.4em;background-color: white;}#sk-container-id-8 div.sk-label label {font-family: monospace;font-weight: bold;display: inline-block;line-height: 1.2em;}#sk-container-id-8 div.sk-label-container {text-align: center;}#sk-container-id-8 div.sk-container {/* jupyter's `normalize.less` sets `[hidden] { display: none; }` but bootstrap.min.css set `[hidden] { display: none !important; }` so we also need the `!important` here to be able to override the default hidden behavior on the sphinx rendered scikit-learn.org. See: https://github.com/scikit-learn/scikit-learn/issues/21755 */display: inline-block !important;position: relative;}#sk-container-id-8 div.sk-text-repr-fallback {display: none;}</style><div id=\"sk-container-id-8\" class=\"sk-top-container\"><div class=\"sk-text-repr-fallback\"><pre>ExtraTreesClassifier(max_features=0.9, n_estimators=30)</pre><b>In a Jupyter environment, please rerun this cell to show the HTML representation or trust the notebook. <br />On GitHub, the HTML representation is unable to render, please try loading this page with nbviewer.org.</b></div><div class=\"sk-container\" hidden><div class=\"sk-item\"><div class=\"sk-estimator sk-toggleable\"><input class=\"sk-toggleable__control sk-hidden--visually\" id=\"sk-estimator-id-28\" type=\"checkbox\" checked><label for=\"sk-estimator-id-28\" class=\"sk-toggleable__label sk-toggleable__label-arrow\">ExtraTreesClassifier</label><div class=\"sk-toggleable__content\"><pre>ExtraTreesClassifier(max_features=0.9, n_estimators=30)</pre></div></div></div></div></div>"
            ]
          },
          "metadata": {},
          "execution_count": 70
        }
      ]
    },
    {
      "cell_type": "code",
      "source": [
        "y_pred = etc.predict(X_teste)"
      ],
      "metadata": {
        "id": "K5uAp0-Ue0ow"
      },
      "execution_count": 71,
      "outputs": []
    },
    {
      "cell_type": "code",
      "source": [
        "accuracy_score(y_teste, y_pred)"
      ],
      "metadata": {
        "colab": {
          "base_uri": "https://localhost:8080/"
        },
        "id": "d1ln1xYGe8rj",
        "outputId": "3618788d-96d5-4e30-d6d8-90eb7e0aa824"
      },
      "execution_count": 72,
      "outputs": [
        {
          "output_type": "execute_result",
          "data": {
            "text/plain": [
              "0.9640829567836867"
            ]
          },
          "metadata": {},
          "execution_count": 72
        }
      ]
    },
    {
      "cell_type": "markdown",
      "source": [
        "#### AdaBoost"
      ],
      "metadata": {
        "id": "npY-lmuGgHn1"
      }
    },
    {
      "cell_type": "code",
      "source": [
        "from sklearn.ensemble import AdaBoostClassifier"
      ],
      "metadata": {
        "id": "Q_goup1efBB6"
      },
      "execution_count": 73,
      "outputs": []
    },
    {
      "cell_type": "code",
      "source": [
        "modelo = AdaBoostClassifier(n_estimators=50, learning_rate=1)"
      ],
      "metadata": {
        "id": "_st1TkV8gUbg"
      },
      "execution_count": 74,
      "outputs": []
    },
    {
      "cell_type": "code",
      "source": [
        "modelo.fit(X_treino, y_treino)"
      ],
      "metadata": {
        "colab": {
          "base_uri": "https://localhost:8080/",
          "height": 75
        },
        "id": "sXiJe5xdgY1H",
        "outputId": "9c21a865-4a76-42b9-e385-f717f5772bb9"
      },
      "execution_count": 75,
      "outputs": [
        {
          "output_type": "execute_result",
          "data": {
            "text/plain": [
              "AdaBoostClassifier(learning_rate=1)"
            ],
            "text/html": [
              "<style>#sk-container-id-9 {color: black;}#sk-container-id-9 pre{padding: 0;}#sk-container-id-9 div.sk-toggleable {background-color: white;}#sk-container-id-9 label.sk-toggleable__label {cursor: pointer;display: block;width: 100%;margin-bottom: 0;padding: 0.3em;box-sizing: border-box;text-align: center;}#sk-container-id-9 label.sk-toggleable__label-arrow:before {content: \"▸\";float: left;margin-right: 0.25em;color: #696969;}#sk-container-id-9 label.sk-toggleable__label-arrow:hover:before {color: black;}#sk-container-id-9 div.sk-estimator:hover label.sk-toggleable__label-arrow:before {color: black;}#sk-container-id-9 div.sk-toggleable__content {max-height: 0;max-width: 0;overflow: hidden;text-align: left;background-color: #f0f8ff;}#sk-container-id-9 div.sk-toggleable__content pre {margin: 0.2em;color: black;border-radius: 0.25em;background-color: #f0f8ff;}#sk-container-id-9 input.sk-toggleable__control:checked~div.sk-toggleable__content {max-height: 200px;max-width: 100%;overflow: auto;}#sk-container-id-9 input.sk-toggleable__control:checked~label.sk-toggleable__label-arrow:before {content: \"▾\";}#sk-container-id-9 div.sk-estimator input.sk-toggleable__control:checked~label.sk-toggleable__label {background-color: #d4ebff;}#sk-container-id-9 div.sk-label input.sk-toggleable__control:checked~label.sk-toggleable__label {background-color: #d4ebff;}#sk-container-id-9 input.sk-hidden--visually {border: 0;clip: rect(1px 1px 1px 1px);clip: rect(1px, 1px, 1px, 1px);height: 1px;margin: -1px;overflow: hidden;padding: 0;position: absolute;width: 1px;}#sk-container-id-9 div.sk-estimator {font-family: monospace;background-color: #f0f8ff;border: 1px dotted black;border-radius: 0.25em;box-sizing: border-box;margin-bottom: 0.5em;}#sk-container-id-9 div.sk-estimator:hover {background-color: #d4ebff;}#sk-container-id-9 div.sk-parallel-item::after {content: \"\";width: 100%;border-bottom: 1px solid gray;flex-grow: 1;}#sk-container-id-9 div.sk-label:hover label.sk-toggleable__label {background-color: #d4ebff;}#sk-container-id-9 div.sk-serial::before {content: \"\";position: absolute;border-left: 1px solid gray;box-sizing: border-box;top: 0;bottom: 0;left: 50%;z-index: 0;}#sk-container-id-9 div.sk-serial {display: flex;flex-direction: column;align-items: center;background-color: white;padding-right: 0.2em;padding-left: 0.2em;position: relative;}#sk-container-id-9 div.sk-item {position: relative;z-index: 1;}#sk-container-id-9 div.sk-parallel {display: flex;align-items: stretch;justify-content: center;background-color: white;position: relative;}#sk-container-id-9 div.sk-item::before, #sk-container-id-9 div.sk-parallel-item::before {content: \"\";position: absolute;border-left: 1px solid gray;box-sizing: border-box;top: 0;bottom: 0;left: 50%;z-index: -1;}#sk-container-id-9 div.sk-parallel-item {display: flex;flex-direction: column;z-index: 1;position: relative;background-color: white;}#sk-container-id-9 div.sk-parallel-item:first-child::after {align-self: flex-end;width: 50%;}#sk-container-id-9 div.sk-parallel-item:last-child::after {align-self: flex-start;width: 50%;}#sk-container-id-9 div.sk-parallel-item:only-child::after {width: 0;}#sk-container-id-9 div.sk-dashed-wrapped {border: 1px dashed gray;margin: 0 0.4em 0.5em 0.4em;box-sizing: border-box;padding-bottom: 0.4em;background-color: white;}#sk-container-id-9 div.sk-label label {font-family: monospace;font-weight: bold;display: inline-block;line-height: 1.2em;}#sk-container-id-9 div.sk-label-container {text-align: center;}#sk-container-id-9 div.sk-container {/* jupyter's `normalize.less` sets `[hidden] { display: none; }` but bootstrap.min.css set `[hidden] { display: none !important; }` so we also need the `!important` here to be able to override the default hidden behavior on the sphinx rendered scikit-learn.org. See: https://github.com/scikit-learn/scikit-learn/issues/21755 */display: inline-block !important;position: relative;}#sk-container-id-9 div.sk-text-repr-fallback {display: none;}</style><div id=\"sk-container-id-9\" class=\"sk-top-container\"><div class=\"sk-text-repr-fallback\"><pre>AdaBoostClassifier(learning_rate=1)</pre><b>In a Jupyter environment, please rerun this cell to show the HTML representation or trust the notebook. <br />On GitHub, the HTML representation is unable to render, please try loading this page with nbviewer.org.</b></div><div class=\"sk-container\" hidden><div class=\"sk-item\"><div class=\"sk-estimator sk-toggleable\"><input class=\"sk-toggleable__control sk-hidden--visually\" id=\"sk-estimator-id-29\" type=\"checkbox\" checked><label for=\"sk-estimator-id-29\" class=\"sk-toggleable__label sk-toggleable__label-arrow\">AdaBoostClassifier</label><div class=\"sk-toggleable__content\"><pre>AdaBoostClassifier(learning_rate=1)</pre></div></div></div></div></div>"
            ]
          },
          "metadata": {},
          "execution_count": 75
        }
      ]
    },
    {
      "cell_type": "code",
      "source": [
        "y_pred = modelo.predict(X_teste)"
      ],
      "metadata": {
        "id": "8Loxfw4UghXI"
      },
      "execution_count": 76,
      "outputs": []
    },
    {
      "cell_type": "code",
      "source": [
        "accuracy_score(y_teste, y_pred)"
      ],
      "metadata": {
        "colab": {
          "base_uri": "https://localhost:8080/"
        },
        "id": "M0xNxwsegmWN",
        "outputId": "1c7936f4-04ff-44d9-862b-9df60fa8396b"
      },
      "execution_count": 77,
      "outputs": [
        {
          "output_type": "execute_result",
          "data": {
            "text/plain": [
              "0.9263121306916927"
            ]
          },
          "metadata": {},
          "execution_count": 77
        }
      ]
    },
    {
      "cell_type": "markdown",
      "source": [
        "#### Parâmetros do AdaBoost"
      ],
      "metadata": {
        "id": "dj6-GP8ogzSK"
      }
    },
    {
      "cell_type": "code",
      "source": [
        "param_grid = {\n",
        "    'n_estimators': [50,100,200],\n",
        "    'learning_rate': [0.1,0.01,0.001]\n",
        "}"
      ],
      "metadata": {
        "id": "MX0M0DMUgqP6"
      },
      "execution_count": 78,
      "outputs": []
    },
    {
      "cell_type": "code",
      "source": [
        "ada = AdaBoostClassifier()"
      ],
      "metadata": {
        "id": "odctnCgwhAAf"
      },
      "execution_count": 79,
      "outputs": []
    },
    {
      "cell_type": "code",
      "source": [
        "gs = GridSearchCV(ada, param_grid, cv=5,scoring='accuracy', n_jobs=-1)"
      ],
      "metadata": {
        "id": "H0bJOraahDSf"
      },
      "execution_count": 80,
      "outputs": []
    },
    {
      "cell_type": "code",
      "source": [
        "gs.fit(X_treino, y_treino)"
      ],
      "metadata": {
        "colab": {
          "base_uri": "https://localhost:8080/",
          "height": 118
        },
        "id": "7fHRzc_VhNne",
        "outputId": "d807ce02-04e9-4c64-c554-043bf0e7a487"
      },
      "execution_count": 81,
      "outputs": [
        {
          "output_type": "execute_result",
          "data": {
            "text/plain": [
              "GridSearchCV(cv=5, estimator=AdaBoostClassifier(), n_jobs=-1,\n",
              "             param_grid={'learning_rate': [0.1, 0.01, 0.001],\n",
              "                         'n_estimators': [50, 100, 200]},\n",
              "             scoring='accuracy')"
            ],
            "text/html": [
              "<style>#sk-container-id-10 {color: black;}#sk-container-id-10 pre{padding: 0;}#sk-container-id-10 div.sk-toggleable {background-color: white;}#sk-container-id-10 label.sk-toggleable__label {cursor: pointer;display: block;width: 100%;margin-bottom: 0;padding: 0.3em;box-sizing: border-box;text-align: center;}#sk-container-id-10 label.sk-toggleable__label-arrow:before {content: \"▸\";float: left;margin-right: 0.25em;color: #696969;}#sk-container-id-10 label.sk-toggleable__label-arrow:hover:before {color: black;}#sk-container-id-10 div.sk-estimator:hover label.sk-toggleable__label-arrow:before {color: black;}#sk-container-id-10 div.sk-toggleable__content {max-height: 0;max-width: 0;overflow: hidden;text-align: left;background-color: #f0f8ff;}#sk-container-id-10 div.sk-toggleable__content pre {margin: 0.2em;color: black;border-radius: 0.25em;background-color: #f0f8ff;}#sk-container-id-10 input.sk-toggleable__control:checked~div.sk-toggleable__content {max-height: 200px;max-width: 100%;overflow: auto;}#sk-container-id-10 input.sk-toggleable__control:checked~label.sk-toggleable__label-arrow:before {content: \"▾\";}#sk-container-id-10 div.sk-estimator input.sk-toggleable__control:checked~label.sk-toggleable__label {background-color: #d4ebff;}#sk-container-id-10 div.sk-label input.sk-toggleable__control:checked~label.sk-toggleable__label {background-color: #d4ebff;}#sk-container-id-10 input.sk-hidden--visually {border: 0;clip: rect(1px 1px 1px 1px);clip: rect(1px, 1px, 1px, 1px);height: 1px;margin: -1px;overflow: hidden;padding: 0;position: absolute;width: 1px;}#sk-container-id-10 div.sk-estimator {font-family: monospace;background-color: #f0f8ff;border: 1px dotted black;border-radius: 0.25em;box-sizing: border-box;margin-bottom: 0.5em;}#sk-container-id-10 div.sk-estimator:hover {background-color: #d4ebff;}#sk-container-id-10 div.sk-parallel-item::after {content: \"\";width: 100%;border-bottom: 1px solid gray;flex-grow: 1;}#sk-container-id-10 div.sk-label:hover label.sk-toggleable__label {background-color: #d4ebff;}#sk-container-id-10 div.sk-serial::before {content: \"\";position: absolute;border-left: 1px solid gray;box-sizing: border-box;top: 0;bottom: 0;left: 50%;z-index: 0;}#sk-container-id-10 div.sk-serial {display: flex;flex-direction: column;align-items: center;background-color: white;padding-right: 0.2em;padding-left: 0.2em;position: relative;}#sk-container-id-10 div.sk-item {position: relative;z-index: 1;}#sk-container-id-10 div.sk-parallel {display: flex;align-items: stretch;justify-content: center;background-color: white;position: relative;}#sk-container-id-10 div.sk-item::before, #sk-container-id-10 div.sk-parallel-item::before {content: \"\";position: absolute;border-left: 1px solid gray;box-sizing: border-box;top: 0;bottom: 0;left: 50%;z-index: -1;}#sk-container-id-10 div.sk-parallel-item {display: flex;flex-direction: column;z-index: 1;position: relative;background-color: white;}#sk-container-id-10 div.sk-parallel-item:first-child::after {align-self: flex-end;width: 50%;}#sk-container-id-10 div.sk-parallel-item:last-child::after {align-self: flex-start;width: 50%;}#sk-container-id-10 div.sk-parallel-item:only-child::after {width: 0;}#sk-container-id-10 div.sk-dashed-wrapped {border: 1px dashed gray;margin: 0 0.4em 0.5em 0.4em;box-sizing: border-box;padding-bottom: 0.4em;background-color: white;}#sk-container-id-10 div.sk-label label {font-family: monospace;font-weight: bold;display: inline-block;line-height: 1.2em;}#sk-container-id-10 div.sk-label-container {text-align: center;}#sk-container-id-10 div.sk-container {/* jupyter's `normalize.less` sets `[hidden] { display: none; }` but bootstrap.min.css set `[hidden] { display: none !important; }` so we also need the `!important` here to be able to override the default hidden behavior on the sphinx rendered scikit-learn.org. See: https://github.com/scikit-learn/scikit-learn/issues/21755 */display: inline-block !important;position: relative;}#sk-container-id-10 div.sk-text-repr-fallback {display: none;}</style><div id=\"sk-container-id-10\" class=\"sk-top-container\"><div class=\"sk-text-repr-fallback\"><pre>GridSearchCV(cv=5, estimator=AdaBoostClassifier(), n_jobs=-1,\n",
              "             param_grid={&#x27;learning_rate&#x27;: [0.1, 0.01, 0.001],\n",
              "                         &#x27;n_estimators&#x27;: [50, 100, 200]},\n",
              "             scoring=&#x27;accuracy&#x27;)</pre><b>In a Jupyter environment, please rerun this cell to show the HTML representation or trust the notebook. <br />On GitHub, the HTML representation is unable to render, please try loading this page with nbviewer.org.</b></div><div class=\"sk-container\" hidden><div class=\"sk-item sk-dashed-wrapped\"><div class=\"sk-label-container\"><div class=\"sk-label sk-toggleable\"><input class=\"sk-toggleable__control sk-hidden--visually\" id=\"sk-estimator-id-30\" type=\"checkbox\" ><label for=\"sk-estimator-id-30\" class=\"sk-toggleable__label sk-toggleable__label-arrow\">GridSearchCV</label><div class=\"sk-toggleable__content\"><pre>GridSearchCV(cv=5, estimator=AdaBoostClassifier(), n_jobs=-1,\n",
              "             param_grid={&#x27;learning_rate&#x27;: [0.1, 0.01, 0.001],\n",
              "                         &#x27;n_estimators&#x27;: [50, 100, 200]},\n",
              "             scoring=&#x27;accuracy&#x27;)</pre></div></div></div><div class=\"sk-parallel\"><div class=\"sk-parallel-item\"><div class=\"sk-item\"><div class=\"sk-label-container\"><div class=\"sk-label sk-toggleable\"><input class=\"sk-toggleable__control sk-hidden--visually\" id=\"sk-estimator-id-31\" type=\"checkbox\" ><label for=\"sk-estimator-id-31\" class=\"sk-toggleable__label sk-toggleable__label-arrow\">estimator: AdaBoostClassifier</label><div class=\"sk-toggleable__content\"><pre>AdaBoostClassifier()</pre></div></div></div><div class=\"sk-serial\"><div class=\"sk-item\"><div class=\"sk-estimator sk-toggleable\"><input class=\"sk-toggleable__control sk-hidden--visually\" id=\"sk-estimator-id-32\" type=\"checkbox\" ><label for=\"sk-estimator-id-32\" class=\"sk-toggleable__label sk-toggleable__label-arrow\">AdaBoostClassifier</label><div class=\"sk-toggleable__content\"><pre>AdaBoostClassifier()</pre></div></div></div></div></div></div></div></div></div></div>"
            ]
          },
          "metadata": {},
          "execution_count": 81
        }
      ]
    },
    {
      "cell_type": "code",
      "source": [
        "y_pred = gs.predict(X_teste)"
      ],
      "metadata": {
        "id": "EIeXUDywhR3V"
      },
      "execution_count": 82,
      "outputs": []
    },
    {
      "cell_type": "code",
      "source": [
        "accuracy_score(y_teste, y_pred)"
      ],
      "metadata": {
        "colab": {
          "base_uri": "https://localhost:8080/"
        },
        "id": "8NCVof5dsluo",
        "outputId": "a4dc75f5-df72-4dac-845d-706bf1d04066"
      },
      "execution_count": 83,
      "outputs": [
        {
          "output_type": "execute_result",
          "data": {
            "text/plain": [
              "0.9248445525817789"
            ]
          },
          "metadata": {},
          "execution_count": 83
        }
      ]
    },
    {
      "cell_type": "code",
      "source": [
        "gs.best_score_"
      ],
      "metadata": {
        "colab": {
          "base_uri": "https://localhost:8080/"
        },
        "id": "Iw4-BU-IspRR",
        "outputId": "fe99baa8-d153-4fae-f0a3-52d92db0f542"
      },
      "execution_count": 84,
      "outputs": [
        {
          "output_type": "execute_result",
          "data": {
            "text/plain": [
              "0.9258161725228913"
            ]
          },
          "metadata": {},
          "execution_count": 84
        }
      ]
    },
    {
      "cell_type": "markdown",
      "source": [
        "#### CatBoost"
      ],
      "metadata": {
        "id": "7G8OJQqmurEw"
      }
    },
    {
      "cell_type": "code",
      "source": [
        "!pip install catboost"
      ],
      "metadata": {
        "colab": {
          "base_uri": "https://localhost:8080/"
        },
        "id": "hn6YI2dss3qs",
        "outputId": "02a9324d-d7e6-4122-af64-711a5b13ed74"
      },
      "execution_count": 85,
      "outputs": [
        {
          "output_type": "stream",
          "name": "stdout",
          "text": [
            "Requirement already satisfied: catboost in /usr/local/lib/python3.11/dist-packages (1.2.8)\n",
            "Requirement already satisfied: graphviz in /usr/local/lib/python3.11/dist-packages (from catboost) (0.21)\n",
            "Requirement already satisfied: matplotlib in /usr/local/lib/python3.11/dist-packages (from catboost) (3.10.0)\n",
            "Requirement already satisfied: numpy<3.0,>=1.16.0 in /usr/local/lib/python3.11/dist-packages (from catboost) (1.26.4)\n",
            "Requirement already satisfied: pandas>=0.24 in /usr/local/lib/python3.11/dist-packages (from catboost) (2.2.2)\n",
            "Requirement already satisfied: scipy in /usr/local/lib/python3.11/dist-packages (from catboost) (1.15.3)\n",
            "Requirement already satisfied: plotly in /usr/local/lib/python3.11/dist-packages (from catboost) (5.24.1)\n",
            "Requirement already satisfied: six in /usr/local/lib/python3.11/dist-packages (from catboost) (1.17.0)\n",
            "Requirement already satisfied: python-dateutil>=2.8.2 in /usr/local/lib/python3.11/dist-packages (from pandas>=0.24->catboost) (2.9.0.post0)\n",
            "Requirement already satisfied: pytz>=2020.1 in /usr/local/lib/python3.11/dist-packages (from pandas>=0.24->catboost) (2025.2)\n",
            "Requirement already satisfied: tzdata>=2022.7 in /usr/local/lib/python3.11/dist-packages (from pandas>=0.24->catboost) (2025.2)\n",
            "Requirement already satisfied: contourpy>=1.0.1 in /usr/local/lib/python3.11/dist-packages (from matplotlib->catboost) (1.3.2)\n",
            "Requirement already satisfied: cycler>=0.10 in /usr/local/lib/python3.11/dist-packages (from matplotlib->catboost) (0.12.1)\n",
            "Requirement already satisfied: fonttools>=4.22.0 in /usr/local/lib/python3.11/dist-packages (from matplotlib->catboost) (4.58.5)\n",
            "Requirement already satisfied: kiwisolver>=1.3.1 in /usr/local/lib/python3.11/dist-packages (from matplotlib->catboost) (1.4.8)\n",
            "Requirement already satisfied: packaging>=20.0 in /usr/local/lib/python3.11/dist-packages (from matplotlib->catboost) (25.0)\n",
            "Requirement already satisfied: pillow>=8 in /usr/local/lib/python3.11/dist-packages (from matplotlib->catboost) (11.2.1)\n",
            "Requirement already satisfied: pyparsing>=2.3.1 in /usr/local/lib/python3.11/dist-packages (from matplotlib->catboost) (3.2.3)\n",
            "Requirement already satisfied: tenacity>=6.2.0 in /usr/local/lib/python3.11/dist-packages (from plotly->catboost) (8.5.0)\n"
          ]
        }
      ]
    },
    {
      "cell_type": "code",
      "source": [
        "from catboost import CatBoostClassifier # Category Boosting"
      ],
      "metadata": {
        "id": "tsR90_xIuuDL"
      },
      "execution_count": 86,
      "outputs": []
    },
    {
      "cell_type": "code",
      "source": [
        "param_grid = {\n",
        "    'iterations': [100, 200, 300],\n",
        "    'depth': [4, 6, 8],\n",
        "    'learning_rate': [0.1, 0.01, 0.001]\n",
        "}"
      ],
      "metadata": {
        "id": "HpHjhdY7uxVZ"
      },
      "execution_count": 87,
      "outputs": []
    },
    {
      "cell_type": "code",
      "source": [
        "grid_search = GridSearchCV(estimator=CatBoostClassifier(verbose=0),\n",
        "                           param_grid=param_grid,\n",
        "                            cv=5,\n",
        "                            scoring='accuracy',\n",
        "                            n_jobs=-1\n",
        "                          )"
      ],
      "metadata": {
        "id": "oZonl5nau_UT"
      },
      "execution_count": 88,
      "outputs": []
    },
    {
      "cell_type": "code",
      "source": [
        "grid_search.fit(X_treino, y_treino)"
      ],
      "metadata": {
        "colab": {
          "base_uri": "https://localhost:8080/",
          "height": 118
        },
        "id": "uvg-bduIvSv-",
        "outputId": "e9e1f129-caf3-4221-808b-f093b97b3040"
      },
      "execution_count": 89,
      "outputs": [
        {
          "output_type": "execute_result",
          "data": {
            "text/plain": [
              "GridSearchCV(cv=5,\n",
              "             estimator=<catboost.core.CatBoostClassifier object at 0x7836efc51010>,\n",
              "             n_jobs=-1,\n",
              "             param_grid={'depth': [4, 6, 8], 'iterations': [100, 200, 300],\n",
              "                         'learning_rate': [0.1, 0.01, 0.001]},\n",
              "             scoring='accuracy')"
            ],
            "text/html": [
              "<style>#sk-container-id-11 {color: black;}#sk-container-id-11 pre{padding: 0;}#sk-container-id-11 div.sk-toggleable {background-color: white;}#sk-container-id-11 label.sk-toggleable__label {cursor: pointer;display: block;width: 100%;margin-bottom: 0;padding: 0.3em;box-sizing: border-box;text-align: center;}#sk-container-id-11 label.sk-toggleable__label-arrow:before {content: \"▸\";float: left;margin-right: 0.25em;color: #696969;}#sk-container-id-11 label.sk-toggleable__label-arrow:hover:before {color: black;}#sk-container-id-11 div.sk-estimator:hover label.sk-toggleable__label-arrow:before {color: black;}#sk-container-id-11 div.sk-toggleable__content {max-height: 0;max-width: 0;overflow: hidden;text-align: left;background-color: #f0f8ff;}#sk-container-id-11 div.sk-toggleable__content pre {margin: 0.2em;color: black;border-radius: 0.25em;background-color: #f0f8ff;}#sk-container-id-11 input.sk-toggleable__control:checked~div.sk-toggleable__content {max-height: 200px;max-width: 100%;overflow: auto;}#sk-container-id-11 input.sk-toggleable__control:checked~label.sk-toggleable__label-arrow:before {content: \"▾\";}#sk-container-id-11 div.sk-estimator input.sk-toggleable__control:checked~label.sk-toggleable__label {background-color: #d4ebff;}#sk-container-id-11 div.sk-label input.sk-toggleable__control:checked~label.sk-toggleable__label {background-color: #d4ebff;}#sk-container-id-11 input.sk-hidden--visually {border: 0;clip: rect(1px 1px 1px 1px);clip: rect(1px, 1px, 1px, 1px);height: 1px;margin: -1px;overflow: hidden;padding: 0;position: absolute;width: 1px;}#sk-container-id-11 div.sk-estimator {font-family: monospace;background-color: #f0f8ff;border: 1px dotted black;border-radius: 0.25em;box-sizing: border-box;margin-bottom: 0.5em;}#sk-container-id-11 div.sk-estimator:hover {background-color: #d4ebff;}#sk-container-id-11 div.sk-parallel-item::after {content: \"\";width: 100%;border-bottom: 1px solid gray;flex-grow: 1;}#sk-container-id-11 div.sk-label:hover label.sk-toggleable__label {background-color: #d4ebff;}#sk-container-id-11 div.sk-serial::before {content: \"\";position: absolute;border-left: 1px solid gray;box-sizing: border-box;top: 0;bottom: 0;left: 50%;z-index: 0;}#sk-container-id-11 div.sk-serial {display: flex;flex-direction: column;align-items: center;background-color: white;padding-right: 0.2em;padding-left: 0.2em;position: relative;}#sk-container-id-11 div.sk-item {position: relative;z-index: 1;}#sk-container-id-11 div.sk-parallel {display: flex;align-items: stretch;justify-content: center;background-color: white;position: relative;}#sk-container-id-11 div.sk-item::before, #sk-container-id-11 div.sk-parallel-item::before {content: \"\";position: absolute;border-left: 1px solid gray;box-sizing: border-box;top: 0;bottom: 0;left: 50%;z-index: -1;}#sk-container-id-11 div.sk-parallel-item {display: flex;flex-direction: column;z-index: 1;position: relative;background-color: white;}#sk-container-id-11 div.sk-parallel-item:first-child::after {align-self: flex-end;width: 50%;}#sk-container-id-11 div.sk-parallel-item:last-child::after {align-self: flex-start;width: 50%;}#sk-container-id-11 div.sk-parallel-item:only-child::after {width: 0;}#sk-container-id-11 div.sk-dashed-wrapped {border: 1px dashed gray;margin: 0 0.4em 0.5em 0.4em;box-sizing: border-box;padding-bottom: 0.4em;background-color: white;}#sk-container-id-11 div.sk-label label {font-family: monospace;font-weight: bold;display: inline-block;line-height: 1.2em;}#sk-container-id-11 div.sk-label-container {text-align: center;}#sk-container-id-11 div.sk-container {/* jupyter's `normalize.less` sets `[hidden] { display: none; }` but bootstrap.min.css set `[hidden] { display: none !important; }` so we also need the `!important` here to be able to override the default hidden behavior on the sphinx rendered scikit-learn.org. See: https://github.com/scikit-learn/scikit-learn/issues/21755 */display: inline-block !important;position: relative;}#sk-container-id-11 div.sk-text-repr-fallback {display: none;}</style><div id=\"sk-container-id-11\" class=\"sk-top-container\"><div class=\"sk-text-repr-fallback\"><pre>GridSearchCV(cv=5,\n",
              "             estimator=&lt;catboost.core.CatBoostClassifier object at 0x7836efc51010&gt;,\n",
              "             n_jobs=-1,\n",
              "             param_grid={&#x27;depth&#x27;: [4, 6, 8], &#x27;iterations&#x27;: [100, 200, 300],\n",
              "                         &#x27;learning_rate&#x27;: [0.1, 0.01, 0.001]},\n",
              "             scoring=&#x27;accuracy&#x27;)</pre><b>In a Jupyter environment, please rerun this cell to show the HTML representation or trust the notebook. <br />On GitHub, the HTML representation is unable to render, please try loading this page with nbviewer.org.</b></div><div class=\"sk-container\" hidden><div class=\"sk-item sk-dashed-wrapped\"><div class=\"sk-label-container\"><div class=\"sk-label sk-toggleable\"><input class=\"sk-toggleable__control sk-hidden--visually\" id=\"sk-estimator-id-33\" type=\"checkbox\" ><label for=\"sk-estimator-id-33\" class=\"sk-toggleable__label sk-toggleable__label-arrow\">GridSearchCV</label><div class=\"sk-toggleable__content\"><pre>GridSearchCV(cv=5,\n",
              "             estimator=&lt;catboost.core.CatBoostClassifier object at 0x7836efc51010&gt;,\n",
              "             n_jobs=-1,\n",
              "             param_grid={&#x27;depth&#x27;: [4, 6, 8], &#x27;iterations&#x27;: [100, 200, 300],\n",
              "                         &#x27;learning_rate&#x27;: [0.1, 0.01, 0.001]},\n",
              "             scoring=&#x27;accuracy&#x27;)</pre></div></div></div><div class=\"sk-parallel\"><div class=\"sk-parallel-item\"><div class=\"sk-item\"><div class=\"sk-label-container\"><div class=\"sk-label sk-toggleable\"><input class=\"sk-toggleable__control sk-hidden--visually\" id=\"sk-estimator-id-34\" type=\"checkbox\" ><label for=\"sk-estimator-id-34\" class=\"sk-toggleable__label sk-toggleable__label-arrow\">estimator: CatBoostClassifier</label><div class=\"sk-toggleable__content\"><pre>&lt;catboost.core.CatBoostClassifier object at 0x7836efc51010&gt;</pre></div></div></div><div class=\"sk-serial\"><div class=\"sk-item\"><div class=\"sk-estimator sk-toggleable\"><input class=\"sk-toggleable__control sk-hidden--visually\" id=\"sk-estimator-id-35\" type=\"checkbox\" ><label for=\"sk-estimator-id-35\" class=\"sk-toggleable__label sk-toggleable__label-arrow\">CatBoostClassifier</label><div class=\"sk-toggleable__content\"><pre>&lt;catboost.core.CatBoostClassifier object at 0x7836efc51010&gt;</pre></div></div></div></div></div></div></div></div></div></div>"
            ]
          },
          "metadata": {},
          "execution_count": 89
        }
      ]
    },
    {
      "cell_type": "code",
      "source": [
        "y_pred_cat = grid_search.predict(X_teste)"
      ],
      "metadata": {
        "id": "qK-CHIi2vXjW"
      },
      "execution_count": 90,
      "outputs": []
    },
    {
      "cell_type": "code",
      "source": [
        "accuracy_score(y_teste, y_pred_cat)"
      ],
      "metadata": {
        "colab": {
          "base_uri": "https://localhost:8080/"
        },
        "id": "xGIry6vjve5d",
        "outputId": "481e7c81-b707-4b6a-bf78-0b0206da5004"
      },
      "execution_count": 91,
      "outputs": [
        {
          "output_type": "execute_result",
          "data": {
            "text/plain": [
              "0.9641988182134168"
            ]
          },
          "metadata": {},
          "execution_count": 91
        }
      ]
    },
    {
      "cell_type": "markdown",
      "source": [
        "#### StackingCLassifier"
      ],
      "metadata": {
        "id": "8zujdNPow_4l"
      }
    },
    {
      "cell_type": "code",
      "source": [
        "from sklearn.ensemble import StackingClassifier"
      ],
      "metadata": {
        "id": "lc-hFM_rvhvv"
      },
      "execution_count": 92,
      "outputs": []
    },
    {
      "cell_type": "code",
      "source": [
        "modelos_base = [\n",
        "    (nome_modelos[0], pipelines[0]),\n",
        "    (nome_modelos[1], pipelines[1]),\n",
        "    (nome_modelos[2], pipelines[2])\n",
        "]"
      ],
      "metadata": {
        "id": "RATJXFavz-Go"
      },
      "execution_count": 93,
      "outputs": []
    },
    {
      "cell_type": "code",
      "source": [
        "modelos_base"
      ],
      "metadata": {
        "colab": {
          "base_uri": "https://localhost:8080/"
        },
        "id": "CwzC1alV0J14",
        "outputId": "e13c3fd8-9bc5-4652-9af1-5079931d3eaa"
      },
      "execution_count": 94,
      "outputs": [
        {
          "output_type": "execute_result",
          "data": {
            "text/plain": [
              "[('arvores',\n",
              "  Pipeline(steps=[('scaler', StandardScaler()),\n",
              "                  ('model', DecisionTreeClassifier(random_state=42))])),\n",
              " ('logistica',\n",
              "  Pipeline(steps=[('scaler', StandardScaler()),\n",
              "                  ('model', LogisticRegression(random_state=42))])),\n",
              " ('naive bayes',\n",
              "  Pipeline(steps=[('scaler', StandardScaler()), ('model', GaussianNB())]))]"
            ]
          },
          "metadata": {},
          "execution_count": 94
        }
      ]
    },
    {
      "cell_type": "code",
      "source": [
        "modelo_meta = LogisticRegression(random_state=42)"
      ],
      "metadata": {
        "id": "xJgPlx3o0PIj"
      },
      "execution_count": 95,
      "outputs": []
    },
    {
      "cell_type": "code",
      "source": [
        "stack_cl = StackingClassifier(estimators=modelos_base, final_estimator=modelo_meta)"
      ],
      "metadata": {
        "id": "VbXqqvEn0VKg"
      },
      "execution_count": 96,
      "outputs": []
    },
    {
      "cell_type": "code",
      "source": [
        "stack_cl.fit(X_treino, y_treino)"
      ],
      "metadata": {
        "colab": {
          "base_uri": "https://localhost:8080/",
          "height": 198
        },
        "id": "o0lOgZVP0iDX",
        "outputId": "2a40259f-f9e6-4ab3-e18c-3e6ed8713388"
      },
      "execution_count": 97,
      "outputs": [
        {
          "output_type": "execute_result",
          "data": {
            "text/plain": [
              "StackingClassifier(estimators=[('arvores',\n",
              "                                Pipeline(steps=[('scaler', StandardScaler()),\n",
              "                                                ('model',\n",
              "                                                 DecisionTreeClassifier(random_state=42))])),\n",
              "                               ('logistica',\n",
              "                                Pipeline(steps=[('scaler', StandardScaler()),\n",
              "                                                ('model',\n",
              "                                                 LogisticRegression(random_state=42))])),\n",
              "                               ('naive bayes',\n",
              "                                Pipeline(steps=[('scaler', StandardScaler()),\n",
              "                                                ('model', GaussianNB())]))],\n",
              "                   final_estimator=LogisticRegression(random_state=42))"
            ],
            "text/html": [
              "<style>#sk-container-id-12 {color: black;}#sk-container-id-12 pre{padding: 0;}#sk-container-id-12 div.sk-toggleable {background-color: white;}#sk-container-id-12 label.sk-toggleable__label {cursor: pointer;display: block;width: 100%;margin-bottom: 0;padding: 0.3em;box-sizing: border-box;text-align: center;}#sk-container-id-12 label.sk-toggleable__label-arrow:before {content: \"▸\";float: left;margin-right: 0.25em;color: #696969;}#sk-container-id-12 label.sk-toggleable__label-arrow:hover:before {color: black;}#sk-container-id-12 div.sk-estimator:hover label.sk-toggleable__label-arrow:before {color: black;}#sk-container-id-12 div.sk-toggleable__content {max-height: 0;max-width: 0;overflow: hidden;text-align: left;background-color: #f0f8ff;}#sk-container-id-12 div.sk-toggleable__content pre {margin: 0.2em;color: black;border-radius: 0.25em;background-color: #f0f8ff;}#sk-container-id-12 input.sk-toggleable__control:checked~div.sk-toggleable__content {max-height: 200px;max-width: 100%;overflow: auto;}#sk-container-id-12 input.sk-toggleable__control:checked~label.sk-toggleable__label-arrow:before {content: \"▾\";}#sk-container-id-12 div.sk-estimator input.sk-toggleable__control:checked~label.sk-toggleable__label {background-color: #d4ebff;}#sk-container-id-12 div.sk-label input.sk-toggleable__control:checked~label.sk-toggleable__label {background-color: #d4ebff;}#sk-container-id-12 input.sk-hidden--visually {border: 0;clip: rect(1px 1px 1px 1px);clip: rect(1px, 1px, 1px, 1px);height: 1px;margin: -1px;overflow: hidden;padding: 0;position: absolute;width: 1px;}#sk-container-id-12 div.sk-estimator {font-family: monospace;background-color: #f0f8ff;border: 1px dotted black;border-radius: 0.25em;box-sizing: border-box;margin-bottom: 0.5em;}#sk-container-id-12 div.sk-estimator:hover {background-color: #d4ebff;}#sk-container-id-12 div.sk-parallel-item::after {content: \"\";width: 100%;border-bottom: 1px solid gray;flex-grow: 1;}#sk-container-id-12 div.sk-label:hover label.sk-toggleable__label {background-color: #d4ebff;}#sk-container-id-12 div.sk-serial::before {content: \"\";position: absolute;border-left: 1px solid gray;box-sizing: border-box;top: 0;bottom: 0;left: 50%;z-index: 0;}#sk-container-id-12 div.sk-serial {display: flex;flex-direction: column;align-items: center;background-color: white;padding-right: 0.2em;padding-left: 0.2em;position: relative;}#sk-container-id-12 div.sk-item {position: relative;z-index: 1;}#sk-container-id-12 div.sk-parallel {display: flex;align-items: stretch;justify-content: center;background-color: white;position: relative;}#sk-container-id-12 div.sk-item::before, #sk-container-id-12 div.sk-parallel-item::before {content: \"\";position: absolute;border-left: 1px solid gray;box-sizing: border-box;top: 0;bottom: 0;left: 50%;z-index: -1;}#sk-container-id-12 div.sk-parallel-item {display: flex;flex-direction: column;z-index: 1;position: relative;background-color: white;}#sk-container-id-12 div.sk-parallel-item:first-child::after {align-self: flex-end;width: 50%;}#sk-container-id-12 div.sk-parallel-item:last-child::after {align-self: flex-start;width: 50%;}#sk-container-id-12 div.sk-parallel-item:only-child::after {width: 0;}#sk-container-id-12 div.sk-dashed-wrapped {border: 1px dashed gray;margin: 0 0.4em 0.5em 0.4em;box-sizing: border-box;padding-bottom: 0.4em;background-color: white;}#sk-container-id-12 div.sk-label label {font-family: monospace;font-weight: bold;display: inline-block;line-height: 1.2em;}#sk-container-id-12 div.sk-label-container {text-align: center;}#sk-container-id-12 div.sk-container {/* jupyter's `normalize.less` sets `[hidden] { display: none; }` but bootstrap.min.css set `[hidden] { display: none !important; }` so we also need the `!important` here to be able to override the default hidden behavior on the sphinx rendered scikit-learn.org. See: https://github.com/scikit-learn/scikit-learn/issues/21755 */display: inline-block !important;position: relative;}#sk-container-id-12 div.sk-text-repr-fallback {display: none;}</style><div id=\"sk-container-id-12\" class=\"sk-top-container\"><div class=\"sk-text-repr-fallback\"><pre>StackingClassifier(estimators=[(&#x27;arvores&#x27;,\n",
              "                                Pipeline(steps=[(&#x27;scaler&#x27;, StandardScaler()),\n",
              "                                                (&#x27;model&#x27;,\n",
              "                                                 DecisionTreeClassifier(random_state=42))])),\n",
              "                               (&#x27;logistica&#x27;,\n",
              "                                Pipeline(steps=[(&#x27;scaler&#x27;, StandardScaler()),\n",
              "                                                (&#x27;model&#x27;,\n",
              "                                                 LogisticRegression(random_state=42))])),\n",
              "                               (&#x27;naive bayes&#x27;,\n",
              "                                Pipeline(steps=[(&#x27;scaler&#x27;, StandardScaler()),\n",
              "                                                (&#x27;model&#x27;, GaussianNB())]))],\n",
              "                   final_estimator=LogisticRegression(random_state=42))</pre><b>In a Jupyter environment, please rerun this cell to show the HTML representation or trust the notebook. <br />On GitHub, the HTML representation is unable to render, please try loading this page with nbviewer.org.</b></div><div class=\"sk-container\" hidden><div class=\"sk-item sk-dashed-wrapped\"><div class=\"sk-label-container\"><div class=\"sk-label sk-toggleable\"><input class=\"sk-toggleable__control sk-hidden--visually\" id=\"sk-estimator-id-36\" type=\"checkbox\" ><label for=\"sk-estimator-id-36\" class=\"sk-toggleable__label sk-toggleable__label-arrow\">StackingClassifier</label><div class=\"sk-toggleable__content\"><pre>StackingClassifier(estimators=[(&#x27;arvores&#x27;,\n",
              "                                Pipeline(steps=[(&#x27;scaler&#x27;, StandardScaler()),\n",
              "                                                (&#x27;model&#x27;,\n",
              "                                                 DecisionTreeClassifier(random_state=42))])),\n",
              "                               (&#x27;logistica&#x27;,\n",
              "                                Pipeline(steps=[(&#x27;scaler&#x27;, StandardScaler()),\n",
              "                                                (&#x27;model&#x27;,\n",
              "                                                 LogisticRegression(random_state=42))])),\n",
              "                               (&#x27;naive bayes&#x27;,\n",
              "                                Pipeline(steps=[(&#x27;scaler&#x27;, StandardScaler()),\n",
              "                                                (&#x27;model&#x27;, GaussianNB())]))],\n",
              "                   final_estimator=LogisticRegression(random_state=42))</pre></div></div></div><div class=\"sk-serial\"><div class=\"sk-item\"><div class=\"sk-parallel\"><div class=\"sk-parallel-item\"><div class=\"sk-item\"><div class=\"sk-label-container\"><div class=\"sk-label sk-toggleable\"><label>arvores</label></div></div><div class=\"sk-serial\"><div class=\"sk-item\"><div class=\"sk-serial\"><div class=\"sk-item\"><div class=\"sk-estimator sk-toggleable\"><input class=\"sk-toggleable__control sk-hidden--visually\" id=\"sk-estimator-id-37\" type=\"checkbox\" ><label for=\"sk-estimator-id-37\" class=\"sk-toggleable__label sk-toggleable__label-arrow\">StandardScaler</label><div class=\"sk-toggleable__content\"><pre>StandardScaler()</pre></div></div></div><div class=\"sk-item\"><div class=\"sk-estimator sk-toggleable\"><input class=\"sk-toggleable__control sk-hidden--visually\" id=\"sk-estimator-id-38\" type=\"checkbox\" ><label for=\"sk-estimator-id-38\" class=\"sk-toggleable__label sk-toggleable__label-arrow\">DecisionTreeClassifier</label><div class=\"sk-toggleable__content\"><pre>DecisionTreeClassifier(random_state=42)</pre></div></div></div></div></div></div></div></div><div class=\"sk-parallel-item\"><div class=\"sk-item\"><div class=\"sk-label-container\"><div class=\"sk-label sk-toggleable\"><label>logistica</label></div></div><div class=\"sk-serial\"><div class=\"sk-item\"><div class=\"sk-serial\"><div class=\"sk-item\"><div class=\"sk-estimator sk-toggleable\"><input class=\"sk-toggleable__control sk-hidden--visually\" id=\"sk-estimator-id-39\" type=\"checkbox\" ><label for=\"sk-estimator-id-39\" class=\"sk-toggleable__label sk-toggleable__label-arrow\">StandardScaler</label><div class=\"sk-toggleable__content\"><pre>StandardScaler()</pre></div></div></div><div class=\"sk-item\"><div class=\"sk-estimator sk-toggleable\"><input class=\"sk-toggleable__control sk-hidden--visually\" id=\"sk-estimator-id-40\" type=\"checkbox\" ><label for=\"sk-estimator-id-40\" class=\"sk-toggleable__label sk-toggleable__label-arrow\">LogisticRegression</label><div class=\"sk-toggleable__content\"><pre>LogisticRegression(random_state=42)</pre></div></div></div></div></div></div></div></div><div class=\"sk-parallel-item\"><div class=\"sk-item\"><div class=\"sk-label-container\"><div class=\"sk-label sk-toggleable\"><label>naive bayes</label></div></div><div class=\"sk-serial\"><div class=\"sk-item\"><div class=\"sk-serial\"><div class=\"sk-item\"><div class=\"sk-estimator sk-toggleable\"><input class=\"sk-toggleable__control sk-hidden--visually\" id=\"sk-estimator-id-41\" type=\"checkbox\" ><label for=\"sk-estimator-id-41\" class=\"sk-toggleable__label sk-toggleable__label-arrow\">StandardScaler</label><div class=\"sk-toggleable__content\"><pre>StandardScaler()</pre></div></div></div><div class=\"sk-item\"><div class=\"sk-estimator sk-toggleable\"><input class=\"sk-toggleable__control sk-hidden--visually\" id=\"sk-estimator-id-42\" type=\"checkbox\" ><label for=\"sk-estimator-id-42\" class=\"sk-toggleable__label sk-toggleable__label-arrow\">GaussianNB</label><div class=\"sk-toggleable__content\"><pre>GaussianNB()</pre></div></div></div></div></div></div></div></div></div></div><div class=\"sk-item\"><div class=\"sk-parallel\"><div class=\"sk-parallel-item\"><div class=\"sk-item\"><div class=\"sk-label-container\"><div class=\"sk-label sk-toggleable\"><label>final_estimator</label></div></div><div class=\"sk-serial\"><div class=\"sk-item\"><div class=\"sk-estimator sk-toggleable\"><input class=\"sk-toggleable__control sk-hidden--visually\" id=\"sk-estimator-id-43\" type=\"checkbox\" ><label for=\"sk-estimator-id-43\" class=\"sk-toggleable__label sk-toggleable__label-arrow\">LogisticRegression</label><div class=\"sk-toggleable__content\"><pre>LogisticRegression(random_state=42)</pre></div></div></div></div></div></div></div></div></div></div></div></div>"
            ]
          },
          "metadata": {},
          "execution_count": 97
        }
      ]
    },
    {
      "cell_type": "code",
      "source": [
        "y_pred = stack_cl.predict(X_teste)"
      ],
      "metadata": {
        "id": "HdJJOVFF0l_1"
      },
      "execution_count": 98,
      "outputs": []
    },
    {
      "cell_type": "code",
      "source": [
        "accuracy_score(y_teste, y_pred)"
      ],
      "metadata": {
        "colab": {
          "base_uri": "https://localhost:8080/"
        },
        "id": "IzQYE4a50up0",
        "outputId": "fef63f8f-8671-4f9f-cdb0-6ca76b2c963b"
      },
      "execution_count": 99,
      "outputs": [
        {
          "output_type": "execute_result",
          "data": {
            "text/plain": [
              "0.9462402966052601"
            ]
          },
          "metadata": {},
          "execution_count": 99
        }
      ]
    },
    {
      "cell_type": "markdown",
      "source": [
        "#### Validando o Stacking"
      ],
      "metadata": {
        "id": "PrEkA0Ra1N_P"
      }
    },
    {
      "cell_type": "code",
      "source": [
        "!pip install mlxtend"
      ],
      "metadata": {
        "colab": {
          "base_uri": "https://localhost:8080/"
        },
        "id": "wKLddJy50wwP",
        "outputId": "99fc6820-c001-46fa-c8d7-aba7b3d5ef50"
      },
      "execution_count": 100,
      "outputs": [
        {
          "output_type": "stream",
          "name": "stdout",
          "text": [
            "Requirement already satisfied: mlxtend in /usr/local/lib/python3.11/dist-packages (0.23.4)\n",
            "Requirement already satisfied: scipy>=1.2.1 in /usr/local/lib/python3.11/dist-packages (from mlxtend) (1.15.3)\n",
            "Requirement already satisfied: numpy>=1.16.2 in /usr/local/lib/python3.11/dist-packages (from mlxtend) (1.26.4)\n",
            "Requirement already satisfied: pandas>=0.24.2 in /usr/local/lib/python3.11/dist-packages (from mlxtend) (2.2.2)\n",
            "Requirement already satisfied: scikit-learn>=1.3.1 in /usr/local/lib/python3.11/dist-packages (from mlxtend) (1.3.2)\n",
            "Requirement already satisfied: matplotlib>=3.0.0 in /usr/local/lib/python3.11/dist-packages (from mlxtend) (3.10.0)\n",
            "Requirement already satisfied: joblib>=0.13.2 in /usr/local/lib/python3.11/dist-packages (from mlxtend) (1.5.1)\n",
            "Requirement already satisfied: contourpy>=1.0.1 in /usr/local/lib/python3.11/dist-packages (from matplotlib>=3.0.0->mlxtend) (1.3.2)\n",
            "Requirement already satisfied: cycler>=0.10 in /usr/local/lib/python3.11/dist-packages (from matplotlib>=3.0.0->mlxtend) (0.12.1)\n",
            "Requirement already satisfied: fonttools>=4.22.0 in /usr/local/lib/python3.11/dist-packages (from matplotlib>=3.0.0->mlxtend) (4.58.5)\n",
            "Requirement already satisfied: kiwisolver>=1.3.1 in /usr/local/lib/python3.11/dist-packages (from matplotlib>=3.0.0->mlxtend) (1.4.8)\n",
            "Requirement already satisfied: packaging>=20.0 in /usr/local/lib/python3.11/dist-packages (from matplotlib>=3.0.0->mlxtend) (25.0)\n",
            "Requirement already satisfied: pillow>=8 in /usr/local/lib/python3.11/dist-packages (from matplotlib>=3.0.0->mlxtend) (11.2.1)\n",
            "Requirement already satisfied: pyparsing>=2.3.1 in /usr/local/lib/python3.11/dist-packages (from matplotlib>=3.0.0->mlxtend) (3.2.3)\n",
            "Requirement already satisfied: python-dateutil>=2.7 in /usr/local/lib/python3.11/dist-packages (from matplotlib>=3.0.0->mlxtend) (2.9.0.post0)\n",
            "Requirement already satisfied: pytz>=2020.1 in /usr/local/lib/python3.11/dist-packages (from pandas>=0.24.2->mlxtend) (2025.2)\n",
            "Requirement already satisfied: tzdata>=2022.7 in /usr/local/lib/python3.11/dist-packages (from pandas>=0.24.2->mlxtend) (2025.2)\n",
            "Requirement already satisfied: threadpoolctl>=2.0.0 in /usr/local/lib/python3.11/dist-packages (from scikit-learn>=1.3.1->mlxtend) (3.6.0)\n",
            "Requirement already satisfied: six>=1.5 in /usr/local/lib/python3.11/dist-packages (from python-dateutil>=2.7->matplotlib>=3.0.0->mlxtend) (1.17.0)\n"
          ]
        }
      ]
    },
    {
      "cell_type": "code",
      "source": [
        "from mlxtend.classifier import StackingCVClassifier"
      ],
      "metadata": {
        "id": "1KbNEMZl1WO8"
      },
      "execution_count": 101,
      "outputs": []
    },
    {
      "cell_type": "code",
      "source": [
        "params_cat = grid_search.best_params_"
      ],
      "metadata": {
        "id": "r2mre_1D3YQx"
      },
      "execution_count": 102,
      "outputs": []
    },
    {
      "cell_type": "code",
      "source": [
        "param_trees = etc_grid.best_params_"
      ],
      "metadata": {
        "id": "f1OpoALb3eLV"
      },
      "execution_count": 103,
      "outputs": []
    },
    {
      "cell_type": "code",
      "source": [
        "base_models = [\n",
        "    CatBoostClassifier(**params_cat),\n",
        "    ExtraTreesClassifier(**param_trees),\n",
        "    pipelines[2]\n",
        "]"
      ],
      "metadata": {
        "id": "qn3Tho2V3xKi"
      },
      "execution_count": 104,
      "outputs": []
    },
    {
      "cell_type": "code",
      "source": [
        "stack_cv_cl = StackingCVClassifier(classifiers=base_models, meta_classifier=modelo_meta)"
      ],
      "metadata": {
        "id": "yoF3Xh9r38nu"
      },
      "execution_count": 105,
      "outputs": []
    },
    {
      "cell_type": "code",
      "source": [
        "mapeamento = {'neutral or dissatisfied': 0, 'satisfied':1}"
      ],
      "metadata": {
        "id": "XNG2ktAv4KtN"
      },
      "execution_count": 106,
      "outputs": []
    },
    {
      "cell_type": "code",
      "source": [
        "y_treino = y_treino.replace(mapeamento)"
      ],
      "metadata": {
        "colab": {
          "base_uri": "https://localhost:8080/"
        },
        "id": "Fq5kODY44Zx0",
        "outputId": "f4ee5127-bf0c-4d32-c98d-e5c267598289"
      },
      "execution_count": 107,
      "outputs": [
        {
          "output_type": "stream",
          "name": "stderr",
          "text": [
            "/tmp/ipython-input-107-1797420716.py:1: FutureWarning: Downcasting behavior in `replace` is deprecated and will be removed in a future version. To retain the old behavior, explicitly call `result.infer_objects(copy=False)`. To opt-in to the future behavior, set `pd.set_option('future.no_silent_downcasting', True)`\n",
            "  y_treino = y_treino.replace(mapeamento)\n"
          ]
        }
      ]
    },
    {
      "cell_type": "code",
      "source": [
        "y_treino"
      ],
      "metadata": {
        "colab": {
          "base_uri": "https://localhost:8080/",
          "height": 458
        },
        "id": "VErnjHxN4h8t",
        "outputId": "eb73e66a-f6e3-4225-b64b-4aec87dc1951"
      },
      "execution_count": 108,
      "outputs": [
        {
          "output_type": "execute_result",
          "data": {
            "text/plain": [
              "0         0\n",
              "1         0\n",
              "2         1\n",
              "3         0\n",
              "4         1\n",
              "         ..\n",
              "103899    0\n",
              "103900    1\n",
              "103901    0\n",
              "103902    0\n",
              "103903    0\n",
              "Name: satisfaction, Length: 103594, dtype: int64"
            ],
            "text/html": [
              "<div>\n",
              "<style scoped>\n",
              "    .dataframe tbody tr th:only-of-type {\n",
              "        vertical-align: middle;\n",
              "    }\n",
              "\n",
              "    .dataframe tbody tr th {\n",
              "        vertical-align: top;\n",
              "    }\n",
              "\n",
              "    .dataframe thead th {\n",
              "        text-align: right;\n",
              "    }\n",
              "</style>\n",
              "<table border=\"1\" class=\"dataframe\">\n",
              "  <thead>\n",
              "    <tr style=\"text-align: right;\">\n",
              "      <th></th>\n",
              "      <th>satisfaction</th>\n",
              "    </tr>\n",
              "  </thead>\n",
              "  <tbody>\n",
              "    <tr>\n",
              "      <th>0</th>\n",
              "      <td>0</td>\n",
              "    </tr>\n",
              "    <tr>\n",
              "      <th>1</th>\n",
              "      <td>0</td>\n",
              "    </tr>\n",
              "    <tr>\n",
              "      <th>2</th>\n",
              "      <td>1</td>\n",
              "    </tr>\n",
              "    <tr>\n",
              "      <th>3</th>\n",
              "      <td>0</td>\n",
              "    </tr>\n",
              "    <tr>\n",
              "      <th>4</th>\n",
              "      <td>1</td>\n",
              "    </tr>\n",
              "    <tr>\n",
              "      <th>...</th>\n",
              "      <td>...</td>\n",
              "    </tr>\n",
              "    <tr>\n",
              "      <th>103899</th>\n",
              "      <td>0</td>\n",
              "    </tr>\n",
              "    <tr>\n",
              "      <th>103900</th>\n",
              "      <td>1</td>\n",
              "    </tr>\n",
              "    <tr>\n",
              "      <th>103901</th>\n",
              "      <td>0</td>\n",
              "    </tr>\n",
              "    <tr>\n",
              "      <th>103902</th>\n",
              "      <td>0</td>\n",
              "    </tr>\n",
              "    <tr>\n",
              "      <th>103903</th>\n",
              "      <td>0</td>\n",
              "    </tr>\n",
              "  </tbody>\n",
              "</table>\n",
              "<p>103594 rows × 1 columns</p>\n",
              "</div><br><label><b>dtype:</b> int64</label>"
            ]
          },
          "metadata": {},
          "execution_count": 108
        }
      ]
    },
    {
      "cell_type": "code",
      "source": [
        "y_teste = y_teste.replace(mapeamento)"
      ],
      "metadata": {
        "colab": {
          "base_uri": "https://localhost:8080/"
        },
        "id": "Qg__PEDH4js2",
        "outputId": "ca1155e0-4d36-4808-93cb-fe16d222a753"
      },
      "execution_count": 109,
      "outputs": [
        {
          "output_type": "stream",
          "name": "stderr",
          "text": [
            "/tmp/ipython-input-109-1345879902.py:1: FutureWarning: Downcasting behavior in `replace` is deprecated and will be removed in a future version. To retain the old behavior, explicitly call `result.infer_objects(copy=False)`. To opt-in to the future behavior, set `pd.set_option('future.no_silent_downcasting', True)`\n",
            "  y_teste = y_teste.replace(mapeamento)\n"
          ]
        }
      ]
    },
    {
      "cell_type": "code",
      "source": [
        "#!pip install scikit-learn==1.3.2"
      ],
      "metadata": {
        "colab": {
          "base_uri": "https://localhost:8080/"
        },
        "id": "Qvr1DxVH5Ggz",
        "outputId": "1a1846f7-19bf-4a64-b9b5-69aa8542a2de"
      },
      "execution_count": 110,
      "outputs": [
        {
          "output_type": "stream",
          "name": "stdout",
          "text": [
            "Requirement already satisfied: scikit-learn==1.3.2 in /usr/local/lib/python3.11/dist-packages (1.3.2)\n",
            "Requirement already satisfied: numpy<2.0,>=1.17.3 in /usr/local/lib/python3.11/dist-packages (from scikit-learn==1.3.2) (1.26.4)\n",
            "Requirement already satisfied: scipy>=1.5.0 in /usr/local/lib/python3.11/dist-packages (from scikit-learn==1.3.2) (1.15.3)\n",
            "Requirement already satisfied: joblib>=1.1.1 in /usr/local/lib/python3.11/dist-packages (from scikit-learn==1.3.2) (1.5.1)\n",
            "Requirement already satisfied: threadpoolctl>=2.0.0 in /usr/local/lib/python3.11/dist-packages (from scikit-learn==1.3.2) (3.6.0)\n"
          ]
        }
      ]
    },
    {
      "cell_type": "code",
      "source": [
        "stack_cv_cl.fit(X_treino, y_treino)"
      ],
      "metadata": {
        "colab": {
          "base_uri": "https://localhost:8080/",
          "height": 1000
        },
        "id": "y9E6hClG4ozJ",
        "outputId": "a2f638ed-8341-4ba8-bbf0-fa41ae8530cc"
      },
      "execution_count": 111,
      "outputs": [
        {
          "output_type": "stream",
          "name": "stdout",
          "text": [
            "0:\tlearn: 0.5420653\ttotal: 30ms\tremaining: 8.97s\n",
            "1:\tlearn: 0.4493981\ttotal: 58.1ms\tremaining: 8.65s\n",
            "2:\tlearn: 0.3495367\ttotal: 110ms\tremaining: 10.9s\n",
            "3:\tlearn: 0.2971945\ttotal: 141ms\tremaining: 10.4s\n",
            "4:\tlearn: 0.2497124\ttotal: 188ms\tremaining: 11.1s\n",
            "5:\tlearn: 0.2263031\ttotal: 265ms\tremaining: 13s\n",
            "6:\tlearn: 0.2058353\ttotal: 329ms\tremaining: 13.8s\n",
            "7:\tlearn: 0.1901546\ttotal: 391ms\tremaining: 14.3s\n",
            "8:\tlearn: 0.1736569\ttotal: 448ms\tremaining: 14.5s\n",
            "9:\tlearn: 0.1641688\ttotal: 500ms\tremaining: 14.5s\n",
            "10:\tlearn: 0.1581200\ttotal: 522ms\tremaining: 13.7s\n",
            "11:\tlearn: 0.1523406\ttotal: 545ms\tremaining: 13.1s\n",
            "12:\tlearn: 0.1448231\ttotal: 567ms\tremaining: 12.5s\n",
            "13:\tlearn: 0.1415017\ttotal: 591ms\tremaining: 12.1s\n",
            "14:\tlearn: 0.1377367\ttotal: 614ms\tremaining: 11.7s\n",
            "15:\tlearn: 0.1353960\ttotal: 643ms\tremaining: 11.4s\n",
            "16:\tlearn: 0.1323455\ttotal: 712ms\tremaining: 11.8s\n",
            "17:\tlearn: 0.1300342\ttotal: 775ms\tremaining: 12.1s\n",
            "18:\tlearn: 0.1272756\ttotal: 846ms\tremaining: 12.5s\n",
            "19:\tlearn: 0.1250602\ttotal: 915ms\tremaining: 12.8s\n",
            "20:\tlearn: 0.1234556\ttotal: 948ms\tremaining: 12.6s\n",
            "21:\tlearn: 0.1221730\ttotal: 982ms\tremaining: 12.4s\n",
            "22:\tlearn: 0.1199911\ttotal: 1s\tremaining: 12.1s\n",
            "23:\tlearn: 0.1184744\ttotal: 1.03s\tremaining: 11.8s\n",
            "24:\tlearn: 0.1175841\ttotal: 1.05s\tremaining: 11.5s\n",
            "25:\tlearn: 0.1165990\ttotal: 1.07s\tremaining: 11.3s\n",
            "26:\tlearn: 0.1147188\ttotal: 1.09s\tremaining: 11.1s\n",
            "27:\tlearn: 0.1134520\ttotal: 1.12s\tremaining: 10.9s\n",
            "28:\tlearn: 0.1122617\ttotal: 1.19s\tremaining: 11.1s\n",
            "29:\tlearn: 0.1115517\ttotal: 1.25s\tremaining: 11.3s\n",
            "30:\tlearn: 0.1109816\ttotal: 1.32s\tremaining: 11.5s\n",
            "31:\tlearn: 0.1099641\ttotal: 1.38s\tremaining: 11.6s\n",
            "32:\tlearn: 0.1086993\ttotal: 1.42s\tremaining: 11.5s\n",
            "33:\tlearn: 0.1081160\ttotal: 1.45s\tremaining: 11.4s\n",
            "34:\tlearn: 0.1075257\ttotal: 1.48s\tremaining: 11.2s\n",
            "35:\tlearn: 0.1067859\ttotal: 1.53s\tremaining: 11.2s\n",
            "36:\tlearn: 0.1059676\ttotal: 1.66s\tremaining: 11.8s\n",
            "37:\tlearn: 0.1052192\ttotal: 1.72s\tremaining: 11.9s\n",
            "38:\tlearn: 0.1035161\ttotal: 1.78s\tremaining: 11.9s\n",
            "39:\tlearn: 0.1029057\ttotal: 1.85s\tremaining: 12s\n",
            "40:\tlearn: 0.1026515\ttotal: 1.91s\tremaining: 12.1s\n",
            "41:\tlearn: 0.1021128\ttotal: 1.99s\tremaining: 12.2s\n",
            "42:\tlearn: 0.1015968\ttotal: 2.05s\tremaining: 12.2s\n",
            "43:\tlearn: 0.1009834\ttotal: 2.1s\tremaining: 12.2s\n",
            "44:\tlearn: 0.1004709\ttotal: 2.13s\tremaining: 12.1s\n",
            "45:\tlearn: 0.0999906\ttotal: 2.21s\tremaining: 12.2s\n",
            "46:\tlearn: 0.0994985\ttotal: 2.31s\tremaining: 12.4s\n",
            "47:\tlearn: 0.0991871\ttotal: 2.35s\tremaining: 12.4s\n",
            "48:\tlearn: 0.0984514\ttotal: 2.45s\tremaining: 12.6s\n",
            "49:\tlearn: 0.0976394\ttotal: 2.52s\tremaining: 12.6s\n",
            "50:\tlearn: 0.0967379\ttotal: 2.55s\tremaining: 12.5s\n",
            "51:\tlearn: 0.0964468\ttotal: 2.6s\tremaining: 12.4s\n",
            "52:\tlearn: 0.0957568\ttotal: 2.67s\tremaining: 12.5s\n",
            "53:\tlearn: 0.0952297\ttotal: 2.74s\tremaining: 12.5s\n",
            "54:\tlearn: 0.0946611\ttotal: 2.81s\tremaining: 12.5s\n",
            "55:\tlearn: 0.0941432\ttotal: 2.89s\tremaining: 12.6s\n",
            "56:\tlearn: 0.0936725\ttotal: 2.96s\tremaining: 12.6s\n",
            "57:\tlearn: 0.0933798\ttotal: 3.06s\tremaining: 12.8s\n",
            "58:\tlearn: 0.0926320\ttotal: 3.13s\tremaining: 12.8s\n",
            "59:\tlearn: 0.0922534\ttotal: 3.2s\tremaining: 12.8s\n",
            "60:\tlearn: 0.0919036\ttotal: 3.27s\tremaining: 12.8s\n",
            "61:\tlearn: 0.0911278\ttotal: 3.32s\tremaining: 12.7s\n",
            "62:\tlearn: 0.0905194\ttotal: 3.36s\tremaining: 12.7s\n",
            "63:\tlearn: 0.0898181\ttotal: 3.44s\tremaining: 12.7s\n",
            "64:\tlearn: 0.0890607\ttotal: 3.48s\tremaining: 12.6s\n",
            "65:\tlearn: 0.0886973\ttotal: 3.54s\tremaining: 12.5s\n",
            "66:\tlearn: 0.0882004\ttotal: 3.57s\tremaining: 12.4s\n",
            "67:\tlearn: 0.0880555\ttotal: 3.6s\tremaining: 12.3s\n",
            "68:\tlearn: 0.0875070\ttotal: 3.63s\tremaining: 12.2s\n",
            "69:\tlearn: 0.0871593\ttotal: 3.7s\tremaining: 12.1s\n",
            "70:\tlearn: 0.0869331\ttotal: 3.72s\tremaining: 12s\n",
            "71:\tlearn: 0.0867226\ttotal: 3.75s\tremaining: 11.9s\n",
            "72:\tlearn: 0.0865043\ttotal: 3.8s\tremaining: 11.8s\n",
            "73:\tlearn: 0.0861353\ttotal: 3.9s\tremaining: 11.9s\n",
            "74:\tlearn: 0.0857450\ttotal: 3.96s\tremaining: 11.9s\n",
            "75:\tlearn: 0.0855904\ttotal: 4.01s\tremaining: 11.8s\n",
            "76:\tlearn: 0.0854043\ttotal: 4.07s\tremaining: 11.8s\n",
            "77:\tlearn: 0.0848019\ttotal: 4.14s\tremaining: 11.8s\n",
            "78:\tlearn: 0.0845377\ttotal: 4.22s\tremaining: 11.8s\n",
            "79:\tlearn: 0.0842569\ttotal: 4.3s\tremaining: 11.8s\n",
            "80:\tlearn: 0.0838911\ttotal: 4.4s\tremaining: 11.9s\n",
            "81:\tlearn: 0.0837313\ttotal: 4.52s\tremaining: 12s\n",
            "82:\tlearn: 0.0834023\ttotal: 4.57s\tremaining: 12s\n",
            "83:\tlearn: 0.0831014\ttotal: 4.64s\tremaining: 11.9s\n",
            "84:\tlearn: 0.0827731\ttotal: 4.71s\tremaining: 11.9s\n",
            "85:\tlearn: 0.0825353\ttotal: 4.75s\tremaining: 11.8s\n",
            "86:\tlearn: 0.0823060\ttotal: 4.86s\tremaining: 11.9s\n",
            "87:\tlearn: 0.0820914\ttotal: 4.94s\tremaining: 11.9s\n",
            "88:\tlearn: 0.0815685\ttotal: 5.02s\tremaining: 11.9s\n",
            "89:\tlearn: 0.0812651\ttotal: 5.11s\tremaining: 11.9s\n",
            "90:\tlearn: 0.0810153\ttotal: 5.15s\tremaining: 11.8s\n",
            "91:\tlearn: 0.0805027\ttotal: 5.18s\tremaining: 11.7s\n",
            "92:\tlearn: 0.0803065\ttotal: 5.21s\tremaining: 11.6s\n",
            "93:\tlearn: 0.0799636\ttotal: 5.26s\tremaining: 11.5s\n",
            "94:\tlearn: 0.0798259\ttotal: 5.32s\tremaining: 11.5s\n",
            "95:\tlearn: 0.0794673\ttotal: 5.38s\tremaining: 11.4s\n",
            "96:\tlearn: 0.0790855\ttotal: 5.45s\tremaining: 11.4s\n",
            "97:\tlearn: 0.0788869\ttotal: 5.54s\tremaining: 11.4s\n",
            "98:\tlearn: 0.0786717\ttotal: 5.63s\tremaining: 11.4s\n",
            "99:\tlearn: 0.0784719\ttotal: 5.67s\tremaining: 11.3s\n",
            "100:\tlearn: 0.0782629\ttotal: 5.7s\tremaining: 11.2s\n",
            "101:\tlearn: 0.0780112\ttotal: 5.75s\tremaining: 11.2s\n",
            "102:\tlearn: 0.0778418\ttotal: 5.78s\tremaining: 11.1s\n",
            "103:\tlearn: 0.0776258\ttotal: 5.81s\tremaining: 10.9s\n",
            "104:\tlearn: 0.0773454\ttotal: 5.86s\tremaining: 10.9s\n",
            "105:\tlearn: 0.0771412\ttotal: 5.9s\tremaining: 10.8s\n",
            "106:\tlearn: 0.0769397\ttotal: 5.96s\tremaining: 10.8s\n",
            "107:\tlearn: 0.0765805\ttotal: 6.03s\tremaining: 10.7s\n",
            "108:\tlearn: 0.0762125\ttotal: 6.09s\tremaining: 10.7s\n",
            "109:\tlearn: 0.0759940\ttotal: 6.12s\tremaining: 10.6s\n",
            "110:\tlearn: 0.0755843\ttotal: 6.17s\tremaining: 10.5s\n",
            "111:\tlearn: 0.0754340\ttotal: 6.2s\tremaining: 10.4s\n",
            "112:\tlearn: 0.0752413\ttotal: 6.24s\tremaining: 10.3s\n",
            "113:\tlearn: 0.0748414\ttotal: 6.27s\tremaining: 10.2s\n",
            "114:\tlearn: 0.0747321\ttotal: 6.29s\tremaining: 10.1s\n",
            "115:\tlearn: 0.0744962\ttotal: 6.32s\tremaining: 10s\n",
            "116:\tlearn: 0.0743674\ttotal: 6.35s\tremaining: 9.93s\n",
            "117:\tlearn: 0.0741040\ttotal: 6.38s\tremaining: 9.84s\n",
            "118:\tlearn: 0.0739941\ttotal: 6.41s\tremaining: 9.75s\n",
            "119:\tlearn: 0.0736541\ttotal: 6.46s\tremaining: 9.69s\n",
            "120:\tlearn: 0.0734435\ttotal: 6.49s\tremaining: 9.6s\n",
            "121:\tlearn: 0.0732646\ttotal: 6.56s\tremaining: 9.57s\n",
            "122:\tlearn: 0.0731131\ttotal: 6.61s\tremaining: 9.52s\n",
            "123:\tlearn: 0.0729775\ttotal: 6.64s\tremaining: 9.43s\n",
            "124:\tlearn: 0.0727743\ttotal: 6.69s\tremaining: 9.37s\n",
            "125:\tlearn: 0.0725530\ttotal: 6.72s\tremaining: 9.28s\n",
            "126:\tlearn: 0.0724249\ttotal: 6.78s\tremaining: 9.24s\n",
            "127:\tlearn: 0.0722118\ttotal: 6.82s\tremaining: 9.16s\n",
            "128:\tlearn: 0.0720535\ttotal: 6.88s\tremaining: 9.13s\n",
            "129:\tlearn: 0.0718145\ttotal: 7.01s\tremaining: 9.16s\n",
            "130:\tlearn: 0.0716194\ttotal: 7.08s\tremaining: 9.13s\n",
            "131:\tlearn: 0.0714111\ttotal: 7.17s\tremaining: 9.13s\n",
            "132:\tlearn: 0.0712752\ttotal: 7.24s\tremaining: 9.1s\n",
            "133:\tlearn: 0.0709960\ttotal: 7.38s\tremaining: 9.15s\n",
            "134:\tlearn: 0.0707410\ttotal: 7.5s\tremaining: 9.16s\n",
            "135:\tlearn: 0.0705382\ttotal: 7.62s\tremaining: 9.19s\n",
            "136:\tlearn: 0.0703212\ttotal: 7.78s\tremaining: 9.25s\n",
            "137:\tlearn: 0.0701192\ttotal: 7.91s\tremaining: 9.29s\n",
            "138:\tlearn: 0.0700195\ttotal: 8.03s\tremaining: 9.3s\n",
            "139:\tlearn: 0.0699014\ttotal: 8.14s\tremaining: 9.3s\n",
            "140:\tlearn: 0.0697241\ttotal: 8.27s\tremaining: 9.32s\n",
            "141:\tlearn: 0.0695281\ttotal: 8.39s\tremaining: 9.33s\n",
            "142:\tlearn: 0.0694631\ttotal: 8.49s\tremaining: 9.32s\n",
            "143:\tlearn: 0.0692343\ttotal: 8.69s\tremaining: 9.41s\n",
            "144:\tlearn: 0.0690365\ttotal: 8.81s\tremaining: 9.42s\n",
            "145:\tlearn: 0.0688923\ttotal: 8.94s\tremaining: 9.42s\n",
            "146:\tlearn: 0.0686840\ttotal: 9.04s\tremaining: 9.41s\n",
            "147:\tlearn: 0.0684694\ttotal: 9.12s\tremaining: 9.37s\n",
            "148:\tlearn: 0.0683258\ttotal: 9.28s\tremaining: 9.4s\n",
            "149:\tlearn: 0.0681522\ttotal: 9.45s\tremaining: 9.45s\n",
            "150:\tlearn: 0.0680907\ttotal: 9.6s\tremaining: 9.47s\n",
            "151:\tlearn: 0.0679827\ttotal: 9.75s\tremaining: 9.49s\n",
            "152:\tlearn: 0.0679523\ttotal: 9.85s\tremaining: 9.46s\n",
            "153:\tlearn: 0.0676991\ttotal: 9.96s\tremaining: 9.45s\n",
            "154:\tlearn: 0.0674738\ttotal: 10s\tremaining: 9.4s\n",
            "155:\tlearn: 0.0673026\ttotal: 10.1s\tremaining: 9.35s\n",
            "156:\tlearn: 0.0671770\ttotal: 10.2s\tremaining: 9.28s\n",
            "157:\tlearn: 0.0669918\ttotal: 10.3s\tremaining: 9.22s\n",
            "158:\tlearn: 0.0668232\ttotal: 10.3s\tremaining: 9.16s\n",
            "159:\tlearn: 0.0666042\ttotal: 10.4s\tremaining: 9.09s\n",
            "160:\tlearn: 0.0664743\ttotal: 10.5s\tremaining: 9.04s\n",
            "161:\tlearn: 0.0663752\ttotal: 10.5s\tremaining: 8.95s\n",
            "162:\tlearn: 0.0661757\ttotal: 10.6s\tremaining: 8.87s\n",
            "163:\tlearn: 0.0660599\ttotal: 10.6s\tremaining: 8.8s\n",
            "164:\tlearn: 0.0659651\ttotal: 10.7s\tremaining: 8.75s\n",
            "165:\tlearn: 0.0657841\ttotal: 10.8s\tremaining: 8.73s\n",
            "166:\tlearn: 0.0656817\ttotal: 10.9s\tremaining: 8.65s\n",
            "167:\tlearn: 0.0656156\ttotal: 10.9s\tremaining: 8.6s\n",
            "168:\tlearn: 0.0654614\ttotal: 11s\tremaining: 8.54s\n",
            "169:\tlearn: 0.0653537\ttotal: 11.1s\tremaining: 8.45s\n",
            "170:\tlearn: 0.0652939\ttotal: 11.1s\tremaining: 8.41s\n",
            "171:\tlearn: 0.0650827\ttotal: 11.2s\tremaining: 8.36s\n",
            "172:\tlearn: 0.0647857\ttotal: 11.3s\tremaining: 8.27s\n",
            "173:\tlearn: 0.0646103\ttotal: 11.3s\tremaining: 8.18s\n",
            "174:\tlearn: 0.0645464\ttotal: 11.3s\tremaining: 8.09s\n",
            "175:\tlearn: 0.0642980\ttotal: 11.4s\tremaining: 8.04s\n",
            "176:\tlearn: 0.0642245\ttotal: 11.5s\tremaining: 7.97s\n",
            "177:\tlearn: 0.0639860\ttotal: 11.5s\tremaining: 7.91s\n",
            "178:\tlearn: 0.0638211\ttotal: 11.6s\tremaining: 7.82s\n",
            "179:\tlearn: 0.0636945\ttotal: 11.6s\tremaining: 7.75s\n",
            "180:\tlearn: 0.0634147\ttotal: 11.7s\tremaining: 7.69s\n",
            "181:\tlearn: 0.0632968\ttotal: 11.8s\tremaining: 7.63s\n",
            "182:\tlearn: 0.0631781\ttotal: 11.9s\tremaining: 7.59s\n",
            "183:\tlearn: 0.0629265\ttotal: 12s\tremaining: 7.55s\n",
            "184:\tlearn: 0.0628343\ttotal: 12s\tremaining: 7.48s\n",
            "185:\tlearn: 0.0627208\ttotal: 12.1s\tremaining: 7.43s\n",
            "186:\tlearn: 0.0625378\ttotal: 12.2s\tremaining: 7.36s\n",
            "187:\tlearn: 0.0625144\ttotal: 12.3s\tremaining: 7.3s\n",
            "188:\tlearn: 0.0623204\ttotal: 12.3s\tremaining: 7.25s\n",
            "189:\tlearn: 0.0622491\ttotal: 12.4s\tremaining: 7.19s\n",
            "190:\tlearn: 0.0620272\ttotal: 12.5s\tremaining: 7.11s\n",
            "191:\tlearn: 0.0618367\ttotal: 12.5s\tremaining: 7.02s\n",
            "192:\tlearn: 0.0617059\ttotal: 12.5s\tremaining: 6.95s\n",
            "193:\tlearn: 0.0615534\ttotal: 12.6s\tremaining: 6.9s\n",
            "194:\tlearn: 0.0614702\ttotal: 12.7s\tremaining: 6.83s\n",
            "195:\tlearn: 0.0613740\ttotal: 12.8s\tremaining: 6.77s\n",
            "196:\tlearn: 0.0613581\ttotal: 12.8s\tremaining: 6.71s\n",
            "197:\tlearn: 0.0612593\ttotal: 12.9s\tremaining: 6.64s\n",
            "198:\tlearn: 0.0611990\ttotal: 12.9s\tremaining: 6.57s\n",
            "199:\tlearn: 0.0610244\ttotal: 13s\tremaining: 6.51s\n",
            "200:\tlearn: 0.0608270\ttotal: 13.1s\tremaining: 6.45s\n",
            "201:\tlearn: 0.0607411\ttotal: 13.2s\tremaining: 6.4s\n",
            "202:\tlearn: 0.0605576\ttotal: 13.2s\tremaining: 6.33s\n",
            "203:\tlearn: 0.0603927\ttotal: 13.3s\tremaining: 6.26s\n",
            "204:\tlearn: 0.0603164\ttotal: 13.4s\tremaining: 6.19s\n",
            "205:\tlearn: 0.0602269\ttotal: 13.4s\tremaining: 6.13s\n",
            "206:\tlearn: 0.0599473\ttotal: 13.5s\tremaining: 6.06s\n",
            "207:\tlearn: 0.0597845\ttotal: 13.6s\tremaining: 6s\n",
            "208:\tlearn: 0.0596239\ttotal: 13.6s\tremaining: 5.92s\n",
            "209:\tlearn: 0.0595617\ttotal: 13.6s\tremaining: 5.83s\n",
            "210:\tlearn: 0.0593706\ttotal: 13.7s\tremaining: 5.76s\n",
            "211:\tlearn: 0.0592734\ttotal: 13.7s\tremaining: 5.7s\n",
            "212:\tlearn: 0.0589681\ttotal: 13.8s\tremaining: 5.63s\n",
            "213:\tlearn: 0.0588424\ttotal: 13.9s\tremaining: 5.57s\n",
            "214:\tlearn: 0.0586413\ttotal: 13.9s\tremaining: 5.5s\n",
            "215:\tlearn: 0.0584581\ttotal: 14s\tremaining: 5.43s\n",
            "216:\tlearn: 0.0581959\ttotal: 14s\tremaining: 5.37s\n",
            "217:\tlearn: 0.0581085\ttotal: 14.1s\tremaining: 5.31s\n",
            "218:\tlearn: 0.0579641\ttotal: 14.2s\tremaining: 5.24s\n",
            "219:\tlearn: 0.0579077\ttotal: 14.2s\tremaining: 5.18s\n",
            "220:\tlearn: 0.0577264\ttotal: 14.3s\tremaining: 5.13s\n",
            "221:\tlearn: 0.0575846\ttotal: 14.4s\tremaining: 5.07s\n",
            "222:\tlearn: 0.0574357\ttotal: 14.5s\tremaining: 5.01s\n",
            "223:\tlearn: 0.0573232\ttotal: 14.6s\tremaining: 4.96s\n",
            "224:\tlearn: 0.0571745\ttotal: 14.7s\tremaining: 4.9s\n",
            "225:\tlearn: 0.0570816\ttotal: 14.8s\tremaining: 4.85s\n",
            "226:\tlearn: 0.0569404\ttotal: 14.9s\tremaining: 4.8s\n",
            "227:\tlearn: 0.0567807\ttotal: 15s\tremaining: 4.73s\n",
            "228:\tlearn: 0.0567091\ttotal: 15.1s\tremaining: 4.67s\n",
            "229:\tlearn: 0.0565055\ttotal: 15.1s\tremaining: 4.61s\n",
            "230:\tlearn: 0.0564202\ttotal: 15.2s\tremaining: 4.55s\n",
            "231:\tlearn: 0.0562847\ttotal: 15.3s\tremaining: 4.49s\n",
            "232:\tlearn: 0.0560969\ttotal: 15.5s\tremaining: 4.45s\n",
            "233:\tlearn: 0.0559862\ttotal: 15.6s\tremaining: 4.39s\n",
            "234:\tlearn: 0.0559058\ttotal: 15.6s\tremaining: 4.32s\n",
            "235:\tlearn: 0.0558148\ttotal: 15.7s\tremaining: 4.26s\n",
            "236:\tlearn: 0.0557158\ttotal: 15.8s\tremaining: 4.2s\n",
            "237:\tlearn: 0.0555140\ttotal: 15.9s\tremaining: 4.14s\n",
            "238:\tlearn: 0.0553516\ttotal: 15.9s\tremaining: 4.07s\n",
            "239:\tlearn: 0.0552198\ttotal: 16.1s\tremaining: 4.02s\n",
            "240:\tlearn: 0.0551289\ttotal: 16.2s\tremaining: 3.96s\n",
            "241:\tlearn: 0.0550659\ttotal: 16.2s\tremaining: 3.89s\n",
            "242:\tlearn: 0.0549340\ttotal: 16.3s\tremaining: 3.82s\n",
            "243:\tlearn: 0.0548904\ttotal: 16.3s\tremaining: 3.74s\n",
            "244:\tlearn: 0.0548349\ttotal: 16.3s\tremaining: 3.67s\n",
            "245:\tlearn: 0.0547182\ttotal: 16.4s\tremaining: 3.61s\n",
            "246:\tlearn: 0.0545786\ttotal: 16.5s\tremaining: 3.54s\n",
            "247:\tlearn: 0.0545178\ttotal: 16.6s\tremaining: 3.48s\n",
            "248:\tlearn: 0.0543365\ttotal: 16.6s\tremaining: 3.41s\n",
            "249:\tlearn: 0.0541781\ttotal: 16.7s\tremaining: 3.35s\n",
            "250:\tlearn: 0.0541127\ttotal: 16.8s\tremaining: 3.28s\n",
            "251:\tlearn: 0.0539269\ttotal: 16.9s\tremaining: 3.22s\n",
            "252:\tlearn: 0.0538012\ttotal: 16.9s\tremaining: 3.15s\n",
            "253:\tlearn: 0.0537008\ttotal: 17s\tremaining: 3.08s\n",
            "254:\tlearn: 0.0535927\ttotal: 17.1s\tremaining: 3.01s\n",
            "255:\tlearn: 0.0534794\ttotal: 17.2s\tremaining: 2.96s\n",
            "256:\tlearn: 0.0533173\ttotal: 17.3s\tremaining: 2.9s\n",
            "257:\tlearn: 0.0531467\ttotal: 17.4s\tremaining: 2.83s\n",
            "258:\tlearn: 0.0530142\ttotal: 17.4s\tremaining: 2.76s\n",
            "259:\tlearn: 0.0529150\ttotal: 17.5s\tremaining: 2.69s\n",
            "260:\tlearn: 0.0528597\ttotal: 17.5s\tremaining: 2.62s\n",
            "261:\tlearn: 0.0526730\ttotal: 17.6s\tremaining: 2.55s\n",
            "262:\tlearn: 0.0526098\ttotal: 17.6s\tremaining: 2.48s\n",
            "263:\tlearn: 0.0525270\ttotal: 17.6s\tremaining: 2.41s\n",
            "264:\tlearn: 0.0524633\ttotal: 17.7s\tremaining: 2.34s\n",
            "265:\tlearn: 0.0523692\ttotal: 17.8s\tremaining: 2.27s\n",
            "266:\tlearn: 0.0522620\ttotal: 17.9s\tremaining: 2.21s\n",
            "267:\tlearn: 0.0521238\ttotal: 18s\tremaining: 2.15s\n",
            "268:\tlearn: 0.0520103\ttotal: 18.1s\tremaining: 2.08s\n",
            "269:\tlearn: 0.0518601\ttotal: 18.2s\tremaining: 2.02s\n",
            "270:\tlearn: 0.0517568\ttotal: 18.3s\tremaining: 1.95s\n",
            "271:\tlearn: 0.0516974\ttotal: 18.3s\tremaining: 1.89s\n",
            "272:\tlearn: 0.0516539\ttotal: 18.4s\tremaining: 1.82s\n",
            "273:\tlearn: 0.0515536\ttotal: 18.4s\tremaining: 1.75s\n",
            "274:\tlearn: 0.0514309\ttotal: 18.5s\tremaining: 1.68s\n",
            "275:\tlearn: 0.0513168\ttotal: 18.6s\tremaining: 1.61s\n",
            "276:\tlearn: 0.0511992\ttotal: 18.6s\tremaining: 1.55s\n",
            "277:\tlearn: 0.0511265\ttotal: 18.7s\tremaining: 1.48s\n",
            "278:\tlearn: 0.0510262\ttotal: 18.8s\tremaining: 1.41s\n",
            "279:\tlearn: 0.0509656\ttotal: 18.8s\tremaining: 1.34s\n",
            "280:\tlearn: 0.0509015\ttotal: 18.9s\tremaining: 1.28s\n",
            "281:\tlearn: 0.0507393\ttotal: 19s\tremaining: 1.21s\n",
            "282:\tlearn: 0.0506365\ttotal: 19.1s\tremaining: 1.15s\n",
            "283:\tlearn: 0.0505345\ttotal: 19.2s\tremaining: 1.08s\n",
            "284:\tlearn: 0.0504518\ttotal: 19.2s\tremaining: 1.01s\n",
            "285:\tlearn: 0.0503403\ttotal: 19.3s\tremaining: 946ms\n",
            "286:\tlearn: 0.0502608\ttotal: 19.4s\tremaining: 879ms\n",
            "287:\tlearn: 0.0501847\ttotal: 19.5s\tremaining: 811ms\n",
            "288:\tlearn: 0.0501349\ttotal: 19.5s\tremaining: 744ms\n",
            "289:\tlearn: 0.0500991\ttotal: 19.6s\tremaining: 676ms\n",
            "290:\tlearn: 0.0500480\ttotal: 19.7s\tremaining: 608ms\n",
            "291:\tlearn: 0.0499789\ttotal: 19.7s\tremaining: 540ms\n",
            "292:\tlearn: 0.0498956\ttotal: 19.8s\tremaining: 472ms\n",
            "293:\tlearn: 0.0498168\ttotal: 19.8s\tremaining: 404ms\n",
            "294:\tlearn: 0.0497300\ttotal: 19.8s\tremaining: 336ms\n",
            "295:\tlearn: 0.0496655\ttotal: 19.9s\tremaining: 269ms\n",
            "296:\tlearn: 0.0495212\ttotal: 20s\tremaining: 202ms\n",
            "297:\tlearn: 0.0494487\ttotal: 20.1s\tremaining: 135ms\n",
            "298:\tlearn: 0.0493326\ttotal: 20.3s\tremaining: 67.8ms\n",
            "299:\tlearn: 0.0492925\ttotal: 20.4s\tremaining: 0us\n",
            "0:\tlearn: 0.5424234\ttotal: 186ms\tremaining: 55.5s\n",
            "1:\tlearn: 0.4511613\ttotal: 325ms\tremaining: 48.4s\n",
            "2:\tlearn: 0.3499779\ttotal: 441ms\tremaining: 43.6s\n",
            "3:\tlearn: 0.3019170\ttotal: 556ms\tremaining: 41.1s\n",
            "4:\tlearn: 0.2532407\ttotal: 678ms\tremaining: 40s\n",
            "5:\tlearn: 0.2169941\ttotal: 794ms\tremaining: 38.9s\n",
            "6:\tlearn: 0.2006523\ttotal: 922ms\tremaining: 38.6s\n",
            "7:\tlearn: 0.1828505\ttotal: 1.03s\tremaining: 37.6s\n",
            "8:\tlearn: 0.1734404\ttotal: 1.14s\tremaining: 37s\n",
            "9:\tlearn: 0.1637722\ttotal: 1.25s\tremaining: 36.4s\n",
            "10:\tlearn: 0.1589582\ttotal: 1.36s\tremaining: 35.8s\n",
            "11:\tlearn: 0.1541719\ttotal: 1.53s\tremaining: 36.9s\n",
            "12:\tlearn: 0.1481544\ttotal: 1.6s\tremaining: 35.4s\n",
            "13:\tlearn: 0.1447707\ttotal: 1.72s\tremaining: 35.2s\n",
            "14:\tlearn: 0.1412648\ttotal: 1.84s\tremaining: 35.1s\n",
            "15:\tlearn: 0.1383597\ttotal: 1.96s\tremaining: 34.8s\n",
            "16:\tlearn: 0.1361044\ttotal: 2.09s\tremaining: 34.8s\n",
            "17:\tlearn: 0.1328636\ttotal: 2.2s\tremaining: 34.5s\n",
            "18:\tlearn: 0.1305924\ttotal: 2.32s\tremaining: 34.3s\n",
            "19:\tlearn: 0.1282446\ttotal: 2.39s\tremaining: 33.5s\n",
            "20:\tlearn: 0.1266773\ttotal: 2.49s\tremaining: 33.1s\n",
            "21:\tlearn: 0.1243706\ttotal: 2.56s\tremaining: 32.4s\n",
            "22:\tlearn: 0.1233177\ttotal: 2.61s\tremaining: 31.4s\n",
            "23:\tlearn: 0.1193646\ttotal: 2.64s\tremaining: 30.4s\n",
            "24:\tlearn: 0.1184127\ttotal: 2.67s\tremaining: 29.4s\n",
            "25:\tlearn: 0.1170344\ttotal: 2.7s\tremaining: 28.5s\n",
            "26:\tlearn: 0.1159001\ttotal: 2.74s\tremaining: 27.7s\n",
            "27:\tlearn: 0.1151037\ttotal: 2.78s\tremaining: 27s\n",
            "28:\tlearn: 0.1131026\ttotal: 2.82s\tremaining: 26.4s\n",
            "29:\tlearn: 0.1120892\ttotal: 2.85s\tremaining: 25.7s\n",
            "30:\tlearn: 0.1110209\ttotal: 2.88s\tremaining: 25s\n",
            "31:\tlearn: 0.1101882\ttotal: 2.91s\tremaining: 24.4s\n",
            "32:\tlearn: 0.1093585\ttotal: 2.97s\tremaining: 24.1s\n",
            "33:\tlearn: 0.1085055\ttotal: 3.04s\tremaining: 23.8s\n",
            "34:\tlearn: 0.1074942\ttotal: 3.17s\tremaining: 24s\n",
            "35:\tlearn: 0.1067822\ttotal: 3.25s\tremaining: 23.8s\n",
            "36:\tlearn: 0.1061518\ttotal: 3.34s\tremaining: 23.8s\n",
            "37:\tlearn: 0.1045305\ttotal: 3.43s\tremaining: 23.6s\n",
            "38:\tlearn: 0.1036412\ttotal: 3.59s\tremaining: 24s\n",
            "39:\tlearn: 0.1031426\ttotal: 3.69s\tremaining: 24s\n",
            "40:\tlearn: 0.1028330\ttotal: 3.81s\tremaining: 24.1s\n",
            "41:\tlearn: 0.1022367\ttotal: 3.93s\tremaining: 24.1s\n",
            "42:\tlearn: 0.1014513\ttotal: 4.03s\tremaining: 24.1s\n",
            "43:\tlearn: 0.1008885\ttotal: 4.12s\tremaining: 24s\n",
            "44:\tlearn: 0.1003872\ttotal: 4.17s\tremaining: 23.7s\n",
            "45:\tlearn: 0.0999149\ttotal: 4.25s\tremaining: 23.4s\n",
            "46:\tlearn: 0.0993416\ttotal: 4.33s\tremaining: 23.3s\n",
            "47:\tlearn: 0.0988315\ttotal: 4.4s\tremaining: 23.1s\n",
            "48:\tlearn: 0.0981719\ttotal: 4.48s\tremaining: 23s\n",
            "49:\tlearn: 0.0975571\ttotal: 4.59s\tremaining: 22.9s\n",
            "50:\tlearn: 0.0973809\ttotal: 4.65s\tremaining: 22.7s\n",
            "51:\tlearn: 0.0971222\ttotal: 4.67s\tremaining: 22.3s\n",
            "52:\tlearn: 0.0967291\ttotal: 4.72s\tremaining: 22s\n",
            "53:\tlearn: 0.0961794\ttotal: 4.74s\tremaining: 21.6s\n",
            "54:\tlearn: 0.0951618\ttotal: 4.77s\tremaining: 21.2s\n",
            "55:\tlearn: 0.0942958\ttotal: 4.79s\tremaining: 20.9s\n",
            "56:\tlearn: 0.0933932\ttotal: 4.81s\tremaining: 20.5s\n",
            "57:\tlearn: 0.0931059\ttotal: 4.83s\tremaining: 20.2s\n",
            "58:\tlearn: 0.0926947\ttotal: 4.86s\tremaining: 19.8s\n",
            "59:\tlearn: 0.0917997\ttotal: 4.88s\tremaining: 19.5s\n",
            "60:\tlearn: 0.0915362\ttotal: 4.9s\tremaining: 19.2s\n",
            "61:\tlearn: 0.0913154\ttotal: 4.92s\tremaining: 18.9s\n",
            "62:\tlearn: 0.0907882\ttotal: 4.95s\tremaining: 18.6s\n",
            "63:\tlearn: 0.0905043\ttotal: 4.97s\tremaining: 18.3s\n",
            "64:\tlearn: 0.0899239\ttotal: 4.99s\tremaining: 18.1s\n",
            "65:\tlearn: 0.0897018\ttotal: 5.01s\tremaining: 17.8s\n",
            "66:\tlearn: 0.0894591\ttotal: 5.04s\tremaining: 17.5s\n",
            "67:\tlearn: 0.0893805\ttotal: 5.06s\tremaining: 17.3s\n",
            "68:\tlearn: 0.0888625\ttotal: 5.08s\tremaining: 17s\n",
            "69:\tlearn: 0.0886335\ttotal: 5.11s\tremaining: 16.8s\n",
            "70:\tlearn: 0.0882261\ttotal: 5.13s\tremaining: 16.6s\n",
            "71:\tlearn: 0.0878757\ttotal: 5.15s\tremaining: 16.3s\n",
            "72:\tlearn: 0.0874991\ttotal: 5.18s\tremaining: 16.1s\n",
            "73:\tlearn: 0.0869515\ttotal: 5.2s\tremaining: 15.9s\n",
            "74:\tlearn: 0.0866210\ttotal: 5.22s\tremaining: 15.7s\n",
            "75:\tlearn: 0.0864719\ttotal: 5.24s\tremaining: 15.4s\n",
            "76:\tlearn: 0.0861981\ttotal: 5.26s\tremaining: 15.2s\n",
            "77:\tlearn: 0.0859900\ttotal: 5.29s\tremaining: 15s\n",
            "78:\tlearn: 0.0856542\ttotal: 5.31s\tremaining: 14.9s\n",
            "79:\tlearn: 0.0851592\ttotal: 5.33s\tremaining: 14.7s\n",
            "80:\tlearn: 0.0849264\ttotal: 5.36s\tremaining: 14.5s\n",
            "81:\tlearn: 0.0846508\ttotal: 5.38s\tremaining: 14.3s\n",
            "82:\tlearn: 0.0844863\ttotal: 5.4s\tremaining: 14.1s\n",
            "83:\tlearn: 0.0841956\ttotal: 5.42s\tremaining: 13.9s\n",
            "84:\tlearn: 0.0838216\ttotal: 5.45s\tremaining: 13.8s\n",
            "85:\tlearn: 0.0835052\ttotal: 5.47s\tremaining: 13.6s\n",
            "86:\tlearn: 0.0832434\ttotal: 5.49s\tremaining: 13.4s\n",
            "87:\tlearn: 0.0830335\ttotal: 5.51s\tremaining: 13.3s\n",
            "88:\tlearn: 0.0826629\ttotal: 5.54s\tremaining: 13.1s\n",
            "89:\tlearn: 0.0825366\ttotal: 5.56s\tremaining: 13s\n",
            "90:\tlearn: 0.0822762\ttotal: 5.58s\tremaining: 12.8s\n",
            "91:\tlearn: 0.0819737\ttotal: 5.61s\tremaining: 12.7s\n",
            "92:\tlearn: 0.0816251\ttotal: 5.63s\tremaining: 12.5s\n",
            "93:\tlearn: 0.0814013\ttotal: 5.65s\tremaining: 12.4s\n",
            "94:\tlearn: 0.0812752\ttotal: 5.67s\tremaining: 12.2s\n",
            "95:\tlearn: 0.0810611\ttotal: 5.7s\tremaining: 12.1s\n",
            "96:\tlearn: 0.0809438\ttotal: 5.73s\tremaining: 12s\n",
            "97:\tlearn: 0.0805484\ttotal: 5.76s\tremaining: 11.9s\n",
            "98:\tlearn: 0.0803426\ttotal: 5.79s\tremaining: 11.8s\n",
            "99:\tlearn: 0.0800397\ttotal: 5.81s\tremaining: 11.6s\n",
            "100:\tlearn: 0.0797942\ttotal: 5.83s\tremaining: 11.5s\n",
            "101:\tlearn: 0.0794821\ttotal: 5.86s\tremaining: 11.4s\n",
            "102:\tlearn: 0.0791198\ttotal: 5.88s\tremaining: 11.2s\n",
            "103:\tlearn: 0.0789173\ttotal: 5.9s\tremaining: 11.1s\n",
            "104:\tlearn: 0.0786643\ttotal: 5.92s\tremaining: 11s\n",
            "105:\tlearn: 0.0785633\ttotal: 5.94s\tremaining: 10.9s\n",
            "106:\tlearn: 0.0783254\ttotal: 5.96s\tremaining: 10.8s\n",
            "107:\tlearn: 0.0781215\ttotal: 5.99s\tremaining: 10.7s\n",
            "108:\tlearn: 0.0778379\ttotal: 6.01s\tremaining: 10.5s\n",
            "109:\tlearn: 0.0775884\ttotal: 6.04s\tremaining: 10.4s\n",
            "110:\tlearn: 0.0773228\ttotal: 6.06s\tremaining: 10.3s\n",
            "111:\tlearn: 0.0771164\ttotal: 6.08s\tremaining: 10.2s\n",
            "112:\tlearn: 0.0767612\ttotal: 6.11s\tremaining: 10.1s\n",
            "113:\tlearn: 0.0766830\ttotal: 6.13s\tremaining: 9.99s\n",
            "114:\tlearn: 0.0765379\ttotal: 6.15s\tremaining: 9.89s\n",
            "115:\tlearn: 0.0763568\ttotal: 6.17s\tremaining: 9.79s\n",
            "116:\tlearn: 0.0761543\ttotal: 6.2s\tremaining: 9.69s\n",
            "117:\tlearn: 0.0759334\ttotal: 6.22s\tremaining: 9.59s\n",
            "118:\tlearn: 0.0757098\ttotal: 6.24s\tremaining: 9.49s\n",
            "119:\tlearn: 0.0754755\ttotal: 6.27s\tremaining: 9.4s\n",
            "120:\tlearn: 0.0753627\ttotal: 6.29s\tremaining: 9.3s\n",
            "121:\tlearn: 0.0751759\ttotal: 6.31s\tremaining: 9.21s\n",
            "122:\tlearn: 0.0749180\ttotal: 6.33s\tremaining: 9.11s\n",
            "123:\tlearn: 0.0747975\ttotal: 6.35s\tremaining: 9.02s\n",
            "124:\tlearn: 0.0744331\ttotal: 6.38s\tremaining: 8.93s\n",
            "125:\tlearn: 0.0742169\ttotal: 6.4s\tremaining: 8.84s\n",
            "126:\tlearn: 0.0740862\ttotal: 6.42s\tremaining: 8.75s\n",
            "127:\tlearn: 0.0739765\ttotal: 6.44s\tremaining: 8.66s\n",
            "128:\tlearn: 0.0737830\ttotal: 6.47s\tremaining: 8.58s\n",
            "129:\tlearn: 0.0735827\ttotal: 6.49s\tremaining: 8.49s\n",
            "130:\tlearn: 0.0734878\ttotal: 6.51s\tremaining: 8.4s\n",
            "131:\tlearn: 0.0731991\ttotal: 6.54s\tremaining: 8.32s\n",
            "132:\tlearn: 0.0730569\ttotal: 6.56s\tremaining: 8.23s\n",
            "133:\tlearn: 0.0728860\ttotal: 6.58s\tremaining: 8.15s\n",
            "134:\tlearn: 0.0727142\ttotal: 6.6s\tremaining: 8.07s\n",
            "135:\tlearn: 0.0725214\ttotal: 6.63s\tremaining: 7.99s\n",
            "136:\tlearn: 0.0723878\ttotal: 6.65s\tremaining: 7.91s\n",
            "137:\tlearn: 0.0722603\ttotal: 6.67s\tremaining: 7.83s\n",
            "138:\tlearn: 0.0721159\ttotal: 6.69s\tremaining: 7.75s\n",
            "139:\tlearn: 0.0718964\ttotal: 6.71s\tremaining: 7.67s\n",
            "140:\tlearn: 0.0717508\ttotal: 6.74s\tremaining: 7.6s\n",
            "141:\tlearn: 0.0715673\ttotal: 6.79s\tremaining: 7.55s\n",
            "142:\tlearn: 0.0713335\ttotal: 6.81s\tremaining: 7.48s\n",
            "143:\tlearn: 0.0711662\ttotal: 6.84s\tremaining: 7.41s\n",
            "144:\tlearn: 0.0710340\ttotal: 6.86s\tremaining: 7.33s\n",
            "145:\tlearn: 0.0709123\ttotal: 6.88s\tremaining: 7.26s\n",
            "146:\tlearn: 0.0706434\ttotal: 6.9s\tremaining: 7.19s\n",
            "147:\tlearn: 0.0703302\ttotal: 6.93s\tremaining: 7.12s\n",
            "148:\tlearn: 0.0702033\ttotal: 6.95s\tremaining: 7.04s\n",
            "149:\tlearn: 0.0699749\ttotal: 6.97s\tremaining: 6.97s\n",
            "150:\tlearn: 0.0698258\ttotal: 7s\tremaining: 6.91s\n",
            "151:\tlearn: 0.0695974\ttotal: 7.02s\tremaining: 6.84s\n",
            "152:\tlearn: 0.0692760\ttotal: 7.05s\tremaining: 6.77s\n",
            "153:\tlearn: 0.0690296\ttotal: 7.07s\tremaining: 6.7s\n",
            "154:\tlearn: 0.0688274\ttotal: 7.09s\tremaining: 6.64s\n",
            "155:\tlearn: 0.0685517\ttotal: 7.12s\tremaining: 6.57s\n",
            "156:\tlearn: 0.0684209\ttotal: 7.14s\tremaining: 6.5s\n",
            "157:\tlearn: 0.0682762\ttotal: 7.16s\tremaining: 6.43s\n",
            "158:\tlearn: 0.0680225\ttotal: 7.18s\tremaining: 6.37s\n",
            "159:\tlearn: 0.0678682\ttotal: 7.21s\tremaining: 6.31s\n",
            "160:\tlearn: 0.0676579\ttotal: 7.23s\tremaining: 6.24s\n",
            "161:\tlearn: 0.0674704\ttotal: 7.25s\tremaining: 6.18s\n",
            "162:\tlearn: 0.0673768\ttotal: 7.28s\tremaining: 6.12s\n",
            "163:\tlearn: 0.0671234\ttotal: 7.3s\tremaining: 6.05s\n",
            "164:\tlearn: 0.0670162\ttotal: 7.32s\tremaining: 5.99s\n",
            "165:\tlearn: 0.0668727\ttotal: 7.35s\tremaining: 5.93s\n",
            "166:\tlearn: 0.0667854\ttotal: 7.37s\tremaining: 5.87s\n",
            "167:\tlearn: 0.0665977\ttotal: 7.39s\tremaining: 5.81s\n",
            "168:\tlearn: 0.0664379\ttotal: 7.42s\tremaining: 5.75s\n",
            "169:\tlearn: 0.0663597\ttotal: 7.44s\tremaining: 5.69s\n",
            "170:\tlearn: 0.0662406\ttotal: 7.46s\tremaining: 5.63s\n",
            "171:\tlearn: 0.0659985\ttotal: 7.49s\tremaining: 5.57s\n",
            "172:\tlearn: 0.0657726\ttotal: 7.51s\tremaining: 5.51s\n",
            "173:\tlearn: 0.0656391\ttotal: 7.54s\tremaining: 5.46s\n",
            "174:\tlearn: 0.0656036\ttotal: 7.55s\tremaining: 5.4s\n",
            "175:\tlearn: 0.0655560\ttotal: 7.58s\tremaining: 5.34s\n",
            "176:\tlearn: 0.0654129\ttotal: 7.6s\tremaining: 5.28s\n",
            "177:\tlearn: 0.0653593\ttotal: 7.62s\tremaining: 5.22s\n",
            "178:\tlearn: 0.0653148\ttotal: 7.64s\tremaining: 5.17s\n",
            "179:\tlearn: 0.0651404\ttotal: 7.67s\tremaining: 5.11s\n",
            "180:\tlearn: 0.0650162\ttotal: 7.69s\tremaining: 5.06s\n",
            "181:\tlearn: 0.0648999\ttotal: 7.71s\tremaining: 5s\n",
            "182:\tlearn: 0.0648203\ttotal: 7.74s\tremaining: 4.95s\n",
            "183:\tlearn: 0.0647489\ttotal: 7.76s\tremaining: 4.89s\n",
            "184:\tlearn: 0.0646475\ttotal: 7.79s\tremaining: 4.84s\n",
            "185:\tlearn: 0.0645542\ttotal: 7.83s\tremaining: 4.8s\n",
            "186:\tlearn: 0.0643551\ttotal: 7.85s\tremaining: 4.74s\n",
            "187:\tlearn: 0.0641195\ttotal: 7.87s\tremaining: 4.69s\n",
            "188:\tlearn: 0.0639988\ttotal: 7.89s\tremaining: 4.64s\n",
            "189:\tlearn: 0.0637815\ttotal: 7.92s\tremaining: 4.58s\n",
            "190:\tlearn: 0.0636083\ttotal: 7.94s\tremaining: 4.53s\n",
            "191:\tlearn: 0.0633966\ttotal: 7.96s\tremaining: 4.48s\n",
            "192:\tlearn: 0.0633221\ttotal: 7.98s\tremaining: 4.43s\n",
            "193:\tlearn: 0.0630538\ttotal: 8.01s\tremaining: 4.38s\n",
            "194:\tlearn: 0.0629567\ttotal: 8.04s\tremaining: 4.33s\n",
            "195:\tlearn: 0.0628687\ttotal: 8.06s\tremaining: 4.28s\n",
            "196:\tlearn: 0.0626688\ttotal: 8.08s\tremaining: 4.22s\n",
            "197:\tlearn: 0.0625359\ttotal: 8.1s\tremaining: 4.17s\n",
            "198:\tlearn: 0.0625358\ttotal: 8.12s\tremaining: 4.12s\n",
            "199:\tlearn: 0.0624709\ttotal: 8.14s\tremaining: 4.07s\n",
            "200:\tlearn: 0.0624492\ttotal: 8.16s\tremaining: 4.02s\n",
            "201:\tlearn: 0.0622121\ttotal: 8.18s\tremaining: 3.97s\n",
            "202:\tlearn: 0.0621141\ttotal: 8.21s\tremaining: 3.92s\n",
            "203:\tlearn: 0.0619649\ttotal: 8.22s\tremaining: 3.87s\n",
            "204:\tlearn: 0.0618222\ttotal: 8.25s\tremaining: 3.82s\n",
            "205:\tlearn: 0.0615656\ttotal: 8.28s\tremaining: 3.78s\n",
            "206:\tlearn: 0.0614280\ttotal: 8.3s\tremaining: 3.73s\n",
            "207:\tlearn: 0.0612048\ttotal: 8.32s\tremaining: 3.68s\n",
            "208:\tlearn: 0.0611419\ttotal: 8.34s\tremaining: 3.63s\n",
            "209:\tlearn: 0.0611067\ttotal: 8.36s\tremaining: 3.58s\n",
            "210:\tlearn: 0.0610632\ttotal: 8.38s\tremaining: 3.54s\n",
            "211:\tlearn: 0.0610232\ttotal: 8.4s\tremaining: 3.49s\n",
            "212:\tlearn: 0.0609279\ttotal: 8.43s\tremaining: 3.44s\n",
            "213:\tlearn: 0.0607833\ttotal: 8.45s\tremaining: 3.4s\n",
            "214:\tlearn: 0.0606545\ttotal: 8.48s\tremaining: 3.35s\n",
            "215:\tlearn: 0.0606098\ttotal: 8.5s\tremaining: 3.3s\n",
            "216:\tlearn: 0.0604728\ttotal: 8.52s\tremaining: 3.26s\n",
            "217:\tlearn: 0.0602891\ttotal: 8.54s\tremaining: 3.21s\n",
            "218:\tlearn: 0.0601017\ttotal: 8.56s\tremaining: 3.17s\n",
            "219:\tlearn: 0.0599646\ttotal: 8.59s\tremaining: 3.12s\n",
            "220:\tlearn: 0.0599301\ttotal: 8.61s\tremaining: 3.08s\n",
            "221:\tlearn: 0.0598640\ttotal: 8.63s\tremaining: 3.03s\n",
            "222:\tlearn: 0.0596895\ttotal: 8.66s\tremaining: 2.99s\n",
            "223:\tlearn: 0.0595945\ttotal: 8.68s\tremaining: 2.94s\n",
            "224:\tlearn: 0.0594193\ttotal: 8.7s\tremaining: 2.9s\n",
            "225:\tlearn: 0.0592682\ttotal: 8.72s\tremaining: 2.86s\n",
            "226:\tlearn: 0.0591164\ttotal: 8.75s\tremaining: 2.81s\n",
            "227:\tlearn: 0.0590323\ttotal: 8.77s\tremaining: 2.77s\n",
            "228:\tlearn: 0.0588928\ttotal: 8.9s\tremaining: 2.76s\n",
            "229:\tlearn: 0.0587175\ttotal: 9.02s\tremaining: 2.75s\n",
            "230:\tlearn: 0.0586391\ttotal: 9.09s\tremaining: 2.72s\n",
            "231:\tlearn: 0.0585025\ttotal: 9.14s\tremaining: 2.68s\n",
            "232:\tlearn: 0.0584262\ttotal: 9.19s\tremaining: 2.64s\n",
            "233:\tlearn: 0.0584183\ttotal: 9.22s\tremaining: 2.6s\n",
            "234:\tlearn: 0.0583136\ttotal: 9.3s\tremaining: 2.57s\n",
            "235:\tlearn: 0.0581866\ttotal: 9.36s\tremaining: 2.54s\n",
            "236:\tlearn: 0.0580203\ttotal: 9.38s\tremaining: 2.49s\n",
            "237:\tlearn: 0.0578749\ttotal: 9.47s\tremaining: 2.47s\n",
            "238:\tlearn: 0.0577889\ttotal: 9.54s\tremaining: 2.43s\n",
            "239:\tlearn: 0.0576976\ttotal: 9.6s\tremaining: 2.4s\n",
            "240:\tlearn: 0.0575493\ttotal: 9.66s\tremaining: 2.36s\n",
            "241:\tlearn: 0.0574472\ttotal: 9.71s\tremaining: 2.33s\n",
            "242:\tlearn: 0.0574438\ttotal: 9.74s\tremaining: 2.28s\n",
            "243:\tlearn: 0.0573628\ttotal: 9.76s\tremaining: 2.24s\n",
            "244:\tlearn: 0.0572783\ttotal: 9.79s\tremaining: 2.2s\n",
            "245:\tlearn: 0.0572106\ttotal: 9.81s\tremaining: 2.15s\n",
            "246:\tlearn: 0.0571659\ttotal: 9.83s\tremaining: 2.11s\n",
            "247:\tlearn: 0.0570574\ttotal: 9.86s\tremaining: 2.07s\n",
            "248:\tlearn: 0.0570042\ttotal: 9.88s\tremaining: 2.02s\n",
            "249:\tlearn: 0.0569502\ttotal: 9.9s\tremaining: 1.98s\n",
            "250:\tlearn: 0.0568127\ttotal: 9.92s\tremaining: 1.94s\n",
            "251:\tlearn: 0.0567065\ttotal: 9.95s\tremaining: 1.89s\n",
            "252:\tlearn: 0.0566406\ttotal: 9.97s\tremaining: 1.85s\n",
            "253:\tlearn: 0.0566401\ttotal: 9.98s\tremaining: 1.81s\n",
            "254:\tlearn: 0.0564718\ttotal: 10s\tremaining: 1.77s\n",
            "255:\tlearn: 0.0563227\ttotal: 10.1s\tremaining: 1.73s\n",
            "256:\tlearn: 0.0563227\ttotal: 10.1s\tremaining: 1.68s\n",
            "257:\tlearn: 0.0562711\ttotal: 10.1s\tremaining: 1.64s\n",
            "258:\tlearn: 0.0561131\ttotal: 10.1s\tremaining: 1.6s\n",
            "259:\tlearn: 0.0559849\ttotal: 10.1s\tremaining: 1.56s\n",
            "260:\tlearn: 0.0558784\ttotal: 10.2s\tremaining: 1.52s\n",
            "261:\tlearn: 0.0557519\ttotal: 10.2s\tremaining: 1.48s\n",
            "262:\tlearn: 0.0556677\ttotal: 10.2s\tremaining: 1.43s\n",
            "263:\tlearn: 0.0555089\ttotal: 10.2s\tremaining: 1.39s\n",
            "264:\tlearn: 0.0553587\ttotal: 10.2s\tremaining: 1.35s\n",
            "265:\tlearn: 0.0552517\ttotal: 10.3s\tremaining: 1.31s\n",
            "266:\tlearn: 0.0551071\ttotal: 10.3s\tremaining: 1.27s\n",
            "267:\tlearn: 0.0549309\ttotal: 10.3s\tremaining: 1.23s\n",
            "268:\tlearn: 0.0548227\ttotal: 10.3s\tremaining: 1.19s\n",
            "269:\tlearn: 0.0547337\ttotal: 10.4s\tremaining: 1.15s\n",
            "270:\tlearn: 0.0545840\ttotal: 10.4s\tremaining: 1.11s\n",
            "271:\tlearn: 0.0545355\ttotal: 10.4s\tremaining: 1.07s\n",
            "272:\tlearn: 0.0544877\ttotal: 10.4s\tremaining: 1.03s\n",
            "273:\tlearn: 0.0543686\ttotal: 10.5s\tremaining: 992ms\n",
            "274:\tlearn: 0.0543111\ttotal: 10.5s\tremaining: 953ms\n",
            "275:\tlearn: 0.0542207\ttotal: 10.5s\tremaining: 913ms\n",
            "276:\tlearn: 0.0541518\ttotal: 10.5s\tremaining: 874ms\n",
            "277:\tlearn: 0.0541095\ttotal: 10.5s\tremaining: 835ms\n",
            "278:\tlearn: 0.0540016\ttotal: 10.6s\tremaining: 796ms\n",
            "279:\tlearn: 0.0538074\ttotal: 10.6s\tremaining: 757ms\n",
            "280:\tlearn: 0.0537259\ttotal: 10.6s\tremaining: 718ms\n",
            "281:\tlearn: 0.0536032\ttotal: 10.6s\tremaining: 679ms\n",
            "282:\tlearn: 0.0535211\ttotal: 10.7s\tremaining: 641ms\n",
            "283:\tlearn: 0.0534163\ttotal: 10.7s\tremaining: 602ms\n",
            "284:\tlearn: 0.0533665\ttotal: 10.7s\tremaining: 563ms\n",
            "285:\tlearn: 0.0531948\ttotal: 10.7s\tremaining: 525ms\n",
            "286:\tlearn: 0.0530490\ttotal: 10.8s\tremaining: 487ms\n",
            "287:\tlearn: 0.0529809\ttotal: 10.8s\tremaining: 449ms\n",
            "288:\tlearn: 0.0528830\ttotal: 10.8s\tremaining: 411ms\n",
            "289:\tlearn: 0.0528294\ttotal: 10.8s\tremaining: 373ms\n",
            "290:\tlearn: 0.0527096\ttotal: 10.8s\tremaining: 335ms\n",
            "291:\tlearn: 0.0526700\ttotal: 10.9s\tremaining: 298ms\n",
            "292:\tlearn: 0.0526477\ttotal: 10.9s\tremaining: 260ms\n",
            "293:\tlearn: 0.0525996\ttotal: 10.9s\tremaining: 223ms\n",
            "294:\tlearn: 0.0525188\ttotal: 10.9s\tremaining: 185ms\n",
            "295:\tlearn: 0.0524371\ttotal: 10.9s\tremaining: 148ms\n",
            "296:\tlearn: 0.0522778\ttotal: 11s\tremaining: 111ms\n",
            "297:\tlearn: 0.0522518\ttotal: 11s\tremaining: 73.8ms\n",
            "298:\tlearn: 0.0522368\ttotal: 11s\tremaining: 36.8ms\n",
            "299:\tlearn: 0.0522018\ttotal: 11s\tremaining: 0us\n",
            "0:\tlearn: 0.5352609\ttotal: 38.1ms\tremaining: 11.4s\n",
            "1:\tlearn: 0.4040250\ttotal: 75.2ms\tremaining: 11.2s\n",
            "2:\tlearn: 0.3212754\ttotal: 111ms\tremaining: 10.9s\n",
            "3:\tlearn: 0.2778447\ttotal: 146ms\tremaining: 10.8s\n",
            "4:\tlearn: 0.2441207\ttotal: 182ms\tremaining: 10.8s\n",
            "5:\tlearn: 0.2151033\ttotal: 218ms\tremaining: 10.7s\n",
            "6:\tlearn: 0.1967588\ttotal: 260ms\tremaining: 10.9s\n",
            "7:\tlearn: 0.1834915\ttotal: 296ms\tremaining: 10.8s\n",
            "8:\tlearn: 0.1730808\ttotal: 332ms\tremaining: 10.7s\n",
            "9:\tlearn: 0.1666598\ttotal: 370ms\tremaining: 10.7s\n",
            "10:\tlearn: 0.1580417\ttotal: 407ms\tremaining: 10.7s\n",
            "11:\tlearn: 0.1532585\ttotal: 443ms\tremaining: 10.6s\n",
            "12:\tlearn: 0.1479321\ttotal: 485ms\tremaining: 10.7s\n",
            "13:\tlearn: 0.1441695\ttotal: 521ms\tremaining: 10.6s\n",
            "14:\tlearn: 0.1405850\ttotal: 559ms\tremaining: 10.6s\n",
            "15:\tlearn: 0.1377171\ttotal: 600ms\tremaining: 10.6s\n",
            "16:\tlearn: 0.1358713\ttotal: 636ms\tremaining: 10.6s\n",
            "17:\tlearn: 0.1337276\ttotal: 671ms\tremaining: 10.5s\n",
            "18:\tlearn: 0.1309911\ttotal: 716ms\tremaining: 10.6s\n",
            "19:\tlearn: 0.1290364\ttotal: 757ms\tremaining: 10.6s\n",
            "20:\tlearn: 0.1272880\ttotal: 808ms\tremaining: 10.7s\n",
            "21:\tlearn: 0.1255842\ttotal: 843ms\tremaining: 10.6s\n",
            "22:\tlearn: 0.1232054\ttotal: 880ms\tremaining: 10.6s\n",
            "23:\tlearn: 0.1219630\ttotal: 919ms\tremaining: 10.6s\n",
            "24:\tlearn: 0.1205057\ttotal: 957ms\tremaining: 10.5s\n",
            "25:\tlearn: 0.1197189\ttotal: 992ms\tremaining: 10.4s\n",
            "26:\tlearn: 0.1186078\ttotal: 1.03s\tremaining: 10.4s\n",
            "27:\tlearn: 0.1174782\ttotal: 1.06s\tremaining: 10.3s\n",
            "28:\tlearn: 0.1162381\ttotal: 1.09s\tremaining: 10.2s\n",
            "29:\tlearn: 0.1148371\ttotal: 1.13s\tremaining: 10.2s\n",
            "30:\tlearn: 0.1133282\ttotal: 1.17s\tremaining: 10.1s\n",
            "31:\tlearn: 0.1121683\ttotal: 1.21s\tremaining: 10.1s\n",
            "32:\tlearn: 0.1101339\ttotal: 1.24s\tremaining: 10.1s\n",
            "33:\tlearn: 0.1089121\ttotal: 1.28s\tremaining: 9.99s\n",
            "34:\tlearn: 0.1084033\ttotal: 1.31s\tremaining: 9.93s\n",
            "35:\tlearn: 0.1072755\ttotal: 1.35s\tremaining: 9.9s\n",
            "36:\tlearn: 0.1066361\ttotal: 1.39s\tremaining: 9.86s\n",
            "37:\tlearn: 0.1056777\ttotal: 1.42s\tremaining: 9.8s\n",
            "38:\tlearn: 0.1049229\ttotal: 1.46s\tremaining: 9.75s\n",
            "39:\tlearn: 0.1042303\ttotal: 1.49s\tremaining: 9.7s\n",
            "40:\tlearn: 0.1033011\ttotal: 1.53s\tremaining: 9.66s\n",
            "41:\tlearn: 0.1021536\ttotal: 1.57s\tremaining: 9.64s\n",
            "42:\tlearn: 0.1018159\ttotal: 1.6s\tremaining: 9.59s\n",
            "43:\tlearn: 0.1010717\ttotal: 1.64s\tremaining: 9.54s\n",
            "44:\tlearn: 0.1003646\ttotal: 1.68s\tremaining: 9.5s\n",
            "45:\tlearn: 0.0998598\ttotal: 1.71s\tremaining: 9.46s\n",
            "46:\tlearn: 0.0984831\ttotal: 1.75s\tremaining: 9.43s\n",
            "47:\tlearn: 0.0980081\ttotal: 1.8s\tremaining: 9.44s\n",
            "48:\tlearn: 0.0972054\ttotal: 1.84s\tremaining: 9.45s\n",
            "49:\tlearn: 0.0968470\ttotal: 1.88s\tremaining: 9.41s\n",
            "50:\tlearn: 0.0963091\ttotal: 1.92s\tremaining: 9.37s\n",
            "51:\tlearn: 0.0957541\ttotal: 1.96s\tremaining: 9.33s\n",
            "52:\tlearn: 0.0950730\ttotal: 1.99s\tremaining: 9.29s\n",
            "53:\tlearn: 0.0944559\ttotal: 2.03s\tremaining: 9.27s\n",
            "54:\tlearn: 0.0941787\ttotal: 2.07s\tremaining: 9.21s\n",
            "55:\tlearn: 0.0937411\ttotal: 2.1s\tremaining: 9.17s\n",
            "56:\tlearn: 0.0934372\ttotal: 2.14s\tremaining: 9.13s\n",
            "57:\tlearn: 0.0924452\ttotal: 2.18s\tremaining: 9.08s\n",
            "58:\tlearn: 0.0920683\ttotal: 2.21s\tremaining: 9.04s\n",
            "59:\tlearn: 0.0916905\ttotal: 2.25s\tremaining: 9s\n",
            "60:\tlearn: 0.0913543\ttotal: 2.28s\tremaining: 8.95s\n",
            "61:\tlearn: 0.0911205\ttotal: 2.32s\tremaining: 8.9s\n",
            "62:\tlearn: 0.0907385\ttotal: 2.36s\tremaining: 8.87s\n",
            "63:\tlearn: 0.0904677\ttotal: 2.39s\tremaining: 8.82s\n",
            "64:\tlearn: 0.0899434\ttotal: 2.43s\tremaining: 8.77s\n",
            "65:\tlearn: 0.0895996\ttotal: 2.46s\tremaining: 8.73s\n",
            "66:\tlearn: 0.0890255\ttotal: 2.5s\tremaining: 8.69s\n",
            "67:\tlearn: 0.0888668\ttotal: 2.53s\tremaining: 8.65s\n",
            "68:\tlearn: 0.0886237\ttotal: 2.57s\tremaining: 8.61s\n",
            "69:\tlearn: 0.0884664\ttotal: 2.61s\tremaining: 8.57s\n",
            "70:\tlearn: 0.0882862\ttotal: 2.64s\tremaining: 8.52s\n",
            "71:\tlearn: 0.0879600\ttotal: 2.69s\tremaining: 8.5s\n",
            "72:\tlearn: 0.0876218\ttotal: 2.72s\tremaining: 8.47s\n",
            "73:\tlearn: 0.0873448\ttotal: 2.76s\tremaining: 8.43s\n",
            "74:\tlearn: 0.0870397\ttotal: 2.8s\tremaining: 8.39s\n",
            "75:\tlearn: 0.0862993\ttotal: 2.85s\tremaining: 8.42s\n",
            "76:\tlearn: 0.0861269\ttotal: 2.9s\tremaining: 8.39s\n",
            "77:\tlearn: 0.0858968\ttotal: 2.94s\tremaining: 8.35s\n",
            "78:\tlearn: 0.0855665\ttotal: 2.97s\tremaining: 8.31s\n",
            "79:\tlearn: 0.0852993\ttotal: 3.01s\tremaining: 8.27s\n",
            "80:\tlearn: 0.0850580\ttotal: 3.04s\tremaining: 8.23s\n",
            "81:\tlearn: 0.0848643\ttotal: 3.08s\tremaining: 8.19s\n",
            "82:\tlearn: 0.0846190\ttotal: 3.12s\tremaining: 8.15s\n",
            "83:\tlearn: 0.0844019\ttotal: 3.16s\tremaining: 8.13s\n",
            "84:\tlearn: 0.0842634\ttotal: 3.22s\tremaining: 8.15s\n",
            "85:\tlearn: 0.0839461\ttotal: 3.3s\tremaining: 8.21s\n",
            "86:\tlearn: 0.0838415\ttotal: 3.37s\tremaining: 8.24s\n",
            "87:\tlearn: 0.0836581\ttotal: 3.45s\tremaining: 8.31s\n",
            "88:\tlearn: 0.0835151\ttotal: 3.55s\tremaining: 8.41s\n",
            "89:\tlearn: 0.0832969\ttotal: 3.66s\tremaining: 8.54s\n",
            "90:\tlearn: 0.0830764\ttotal: 3.75s\tremaining: 8.62s\n",
            "91:\tlearn: 0.0827753\ttotal: 3.83s\tremaining: 8.67s\n",
            "92:\tlearn: 0.0822547\ttotal: 3.94s\tremaining: 8.76s\n",
            "93:\tlearn: 0.0821445\ttotal: 4.03s\tremaining: 8.83s\n",
            "94:\tlearn: 0.0820166\ttotal: 4.13s\tremaining: 8.9s\n",
            "95:\tlearn: 0.0818813\ttotal: 4.22s\tremaining: 8.96s\n",
            "96:\tlearn: 0.0816893\ttotal: 4.32s\tremaining: 9.04s\n",
            "97:\tlearn: 0.0814685\ttotal: 4.41s\tremaining: 9.1s\n",
            "98:\tlearn: 0.0812342\ttotal: 4.47s\tremaining: 9.08s\n",
            "99:\tlearn: 0.0810265\ttotal: 4.58s\tremaining: 9.15s\n",
            "100:\tlearn: 0.0807819\ttotal: 4.68s\tremaining: 9.22s\n",
            "101:\tlearn: 0.0805338\ttotal: 4.78s\tremaining: 9.28s\n",
            "102:\tlearn: 0.0803152\ttotal: 4.88s\tremaining: 9.34s\n",
            "103:\tlearn: 0.0801563\ttotal: 4.98s\tremaining: 9.39s\n",
            "104:\tlearn: 0.0800505\ttotal: 5.07s\tremaining: 9.42s\n",
            "105:\tlearn: 0.0799187\ttotal: 5.16s\tremaining: 9.44s\n",
            "106:\tlearn: 0.0798122\ttotal: 5.22s\tremaining: 9.42s\n",
            "107:\tlearn: 0.0795701\ttotal: 5.33s\tremaining: 9.47s\n",
            "108:\tlearn: 0.0794759\ttotal: 5.41s\tremaining: 9.48s\n",
            "109:\tlearn: 0.0793420\ttotal: 5.5s\tremaining: 9.5s\n",
            "110:\tlearn: 0.0789632\ttotal: 5.6s\tremaining: 9.53s\n",
            "111:\tlearn: 0.0787474\ttotal: 5.68s\tremaining: 9.53s\n",
            "112:\tlearn: 0.0786461\ttotal: 5.76s\tremaining: 9.53s\n",
            "113:\tlearn: 0.0784912\ttotal: 5.85s\tremaining: 9.54s\n",
            "114:\tlearn: 0.0782291\ttotal: 5.94s\tremaining: 9.55s\n",
            "115:\tlearn: 0.0780312\ttotal: 5.97s\tremaining: 9.47s\n",
            "116:\tlearn: 0.0778720\ttotal: 6.03s\tremaining: 9.43s\n",
            "117:\tlearn: 0.0776798\ttotal: 6.07s\tremaining: 9.36s\n",
            "118:\tlearn: 0.0775436\ttotal: 6.11s\tremaining: 9.29s\n",
            "119:\tlearn: 0.0774067\ttotal: 6.14s\tremaining: 9.21s\n",
            "120:\tlearn: 0.0772380\ttotal: 6.18s\tremaining: 9.14s\n",
            "121:\tlearn: 0.0769632\ttotal: 6.21s\tremaining: 9.07s\n",
            "122:\tlearn: 0.0768542\ttotal: 6.25s\tremaining: 8.99s\n",
            "123:\tlearn: 0.0765548\ttotal: 6.29s\tremaining: 8.92s\n",
            "124:\tlearn: 0.0763937\ttotal: 6.32s\tremaining: 8.85s\n",
            "125:\tlearn: 0.0763487\ttotal: 6.36s\tremaining: 8.78s\n",
            "126:\tlearn: 0.0762437\ttotal: 6.39s\tremaining: 8.71s\n",
            "127:\tlearn: 0.0761207\ttotal: 6.43s\tremaining: 8.64s\n",
            "128:\tlearn: 0.0758965\ttotal: 6.46s\tremaining: 8.57s\n",
            "129:\tlearn: 0.0757014\ttotal: 6.5s\tremaining: 8.5s\n",
            "130:\tlearn: 0.0756117\ttotal: 6.53s\tremaining: 8.43s\n",
            "131:\tlearn: 0.0755641\ttotal: 6.57s\tremaining: 8.37s\n",
            "132:\tlearn: 0.0754459\ttotal: 6.61s\tremaining: 8.3s\n",
            "133:\tlearn: 0.0753102\ttotal: 6.64s\tremaining: 8.23s\n",
            "134:\tlearn: 0.0751356\ttotal: 6.68s\tremaining: 8.16s\n",
            "135:\tlearn: 0.0750944\ttotal: 6.71s\tremaining: 8.1s\n",
            "136:\tlearn: 0.0749834\ttotal: 6.75s\tremaining: 8.03s\n",
            "137:\tlearn: 0.0749072\ttotal: 6.79s\tremaining: 7.97s\n",
            "138:\tlearn: 0.0747401\ttotal: 6.82s\tremaining: 7.9s\n",
            "139:\tlearn: 0.0745198\ttotal: 6.86s\tremaining: 7.84s\n",
            "140:\tlearn: 0.0744585\ttotal: 6.89s\tremaining: 7.77s\n",
            "141:\tlearn: 0.0742233\ttotal: 6.94s\tremaining: 7.72s\n",
            "142:\tlearn: 0.0741797\ttotal: 6.97s\tremaining: 7.65s\n",
            "143:\tlearn: 0.0739548\ttotal: 7.01s\tremaining: 7.59s\n",
            "144:\tlearn: 0.0738006\ttotal: 7.06s\tremaining: 7.55s\n",
            "145:\tlearn: 0.0736929\ttotal: 7.1s\tremaining: 7.49s\n",
            "146:\tlearn: 0.0735480\ttotal: 7.13s\tremaining: 7.42s\n",
            "147:\tlearn: 0.0734603\ttotal: 7.17s\tremaining: 7.36s\n",
            "148:\tlearn: 0.0733863\ttotal: 7.2s\tremaining: 7.3s\n",
            "149:\tlearn: 0.0733271\ttotal: 7.24s\tremaining: 7.24s\n",
            "150:\tlearn: 0.0732520\ttotal: 7.28s\tremaining: 7.18s\n",
            "151:\tlearn: 0.0731357\ttotal: 7.31s\tremaining: 7.12s\n",
            "152:\tlearn: 0.0730121\ttotal: 7.35s\tremaining: 7.06s\n",
            "153:\tlearn: 0.0728508\ttotal: 7.38s\tremaining: 7s\n",
            "154:\tlearn: 0.0727176\ttotal: 7.42s\tremaining: 6.94s\n",
            "155:\tlearn: 0.0726050\ttotal: 7.46s\tremaining: 6.89s\n",
            "156:\tlearn: 0.0725131\ttotal: 7.5s\tremaining: 6.83s\n",
            "157:\tlearn: 0.0724213\ttotal: 7.53s\tremaining: 6.77s\n",
            "158:\tlearn: 0.0723564\ttotal: 7.57s\tremaining: 6.71s\n",
            "159:\tlearn: 0.0721710\ttotal: 7.61s\tremaining: 6.66s\n",
            "160:\tlearn: 0.0720554\ttotal: 7.65s\tremaining: 6.6s\n",
            "161:\tlearn: 0.0720112\ttotal: 7.68s\tremaining: 6.54s\n",
            "162:\tlearn: 0.0719082\ttotal: 7.72s\tremaining: 6.49s\n",
            "163:\tlearn: 0.0717876\ttotal: 7.76s\tremaining: 6.43s\n",
            "164:\tlearn: 0.0717424\ttotal: 7.79s\tremaining: 6.37s\n",
            "165:\tlearn: 0.0716916\ttotal: 7.83s\tremaining: 6.32s\n",
            "166:\tlearn: 0.0716279\ttotal: 7.86s\tremaining: 6.26s\n",
            "167:\tlearn: 0.0716002\ttotal: 7.89s\tremaining: 6.2s\n",
            "168:\tlearn: 0.0715359\ttotal: 7.93s\tremaining: 6.15s\n",
            "169:\tlearn: 0.0714169\ttotal: 7.97s\tremaining: 6.09s\n",
            "170:\tlearn: 0.0713467\ttotal: 8.01s\tremaining: 6.04s\n",
            "171:\tlearn: 0.0712963\ttotal: 8.04s\tremaining: 5.98s\n",
            "172:\tlearn: 0.0711711\ttotal: 8.08s\tremaining: 5.93s\n",
            "173:\tlearn: 0.0709650\ttotal: 8.13s\tremaining: 5.88s\n",
            "174:\tlearn: 0.0708914\ttotal: 8.16s\tremaining: 5.83s\n",
            "175:\tlearn: 0.0708118\ttotal: 8.2s\tremaining: 5.78s\n",
            "176:\tlearn: 0.0707562\ttotal: 8.23s\tremaining: 5.72s\n",
            "177:\tlearn: 0.0706388\ttotal: 8.27s\tremaining: 5.67s\n",
            "178:\tlearn: 0.0704645\ttotal: 8.3s\tremaining: 5.61s\n",
            "179:\tlearn: 0.0703776\ttotal: 8.35s\tremaining: 5.56s\n",
            "180:\tlearn: 0.0702837\ttotal: 8.38s\tremaining: 5.51s\n",
            "181:\tlearn: 0.0701870\ttotal: 8.42s\tremaining: 5.46s\n",
            "182:\tlearn: 0.0700927\ttotal: 8.45s\tremaining: 5.41s\n",
            "183:\tlearn: 0.0699636\ttotal: 8.49s\tremaining: 5.35s\n",
            "184:\tlearn: 0.0698757\ttotal: 8.52s\tremaining: 5.3s\n",
            "185:\tlearn: 0.0697472\ttotal: 8.56s\tremaining: 5.25s\n",
            "186:\tlearn: 0.0696831\ttotal: 8.6s\tremaining: 5.2s\n",
            "187:\tlearn: 0.0695153\ttotal: 8.64s\tremaining: 5.15s\n",
            "188:\tlearn: 0.0693538\ttotal: 8.67s\tremaining: 5.09s\n",
            "189:\tlearn: 0.0692954\ttotal: 8.71s\tremaining: 5.04s\n",
            "190:\tlearn: 0.0692499\ttotal: 8.75s\tremaining: 4.99s\n",
            "191:\tlearn: 0.0691431\ttotal: 8.78s\tremaining: 4.94s\n",
            "192:\tlearn: 0.0691082\ttotal: 8.82s\tremaining: 4.89s\n",
            "193:\tlearn: 0.0690781\ttotal: 8.85s\tremaining: 4.83s\n",
            "194:\tlearn: 0.0690374\ttotal: 8.88s\tremaining: 4.78s\n",
            "195:\tlearn: 0.0688862\ttotal: 8.92s\tremaining: 4.73s\n",
            "196:\tlearn: 0.0688265\ttotal: 8.96s\tremaining: 4.68s\n",
            "197:\tlearn: 0.0687693\ttotal: 8.99s\tremaining: 4.63s\n",
            "198:\tlearn: 0.0686862\ttotal: 9.03s\tremaining: 4.58s\n",
            "199:\tlearn: 0.0686145\ttotal: 9.06s\tremaining: 4.53s\n",
            "200:\tlearn: 0.0684721\ttotal: 9.1s\tremaining: 4.48s\n",
            "201:\tlearn: 0.0683260\ttotal: 9.15s\tremaining: 4.44s\n",
            "202:\tlearn: 0.0681941\ttotal: 9.2s\tremaining: 4.39s\n",
            "203:\tlearn: 0.0680191\ttotal: 9.23s\tremaining: 4.34s\n",
            "204:\tlearn: 0.0679427\ttotal: 9.27s\tremaining: 4.29s\n",
            "205:\tlearn: 0.0677874\ttotal: 9.3s\tremaining: 4.25s\n",
            "206:\tlearn: 0.0676134\ttotal: 9.34s\tremaining: 4.2s\n",
            "207:\tlearn: 0.0674805\ttotal: 9.38s\tremaining: 4.15s\n",
            "208:\tlearn: 0.0674004\ttotal: 9.42s\tremaining: 4.1s\n",
            "209:\tlearn: 0.0673062\ttotal: 9.45s\tremaining: 4.05s\n",
            "210:\tlearn: 0.0672149\ttotal: 9.49s\tremaining: 4s\n",
            "211:\tlearn: 0.0671412\ttotal: 9.52s\tremaining: 3.95s\n",
            "212:\tlearn: 0.0670210\ttotal: 9.56s\tremaining: 3.9s\n",
            "213:\tlearn: 0.0669146\ttotal: 9.6s\tremaining: 3.86s\n",
            "214:\tlearn: 0.0668433\ttotal: 9.64s\tremaining: 3.81s\n",
            "215:\tlearn: 0.0667276\ttotal: 9.67s\tremaining: 3.76s\n",
            "216:\tlearn: 0.0666322\ttotal: 9.71s\tremaining: 3.72s\n",
            "217:\tlearn: 0.0665334\ttotal: 9.75s\tremaining: 3.67s\n",
            "218:\tlearn: 0.0665162\ttotal: 9.78s\tremaining: 3.62s\n",
            "219:\tlearn: 0.0664184\ttotal: 9.82s\tremaining: 3.57s\n",
            "220:\tlearn: 0.0663875\ttotal: 9.85s\tremaining: 3.52s\n",
            "221:\tlearn: 0.0662485\ttotal: 9.89s\tremaining: 3.48s\n",
            "222:\tlearn: 0.0661347\ttotal: 9.93s\tremaining: 3.43s\n",
            "223:\tlearn: 0.0661159\ttotal: 9.96s\tremaining: 3.38s\n",
            "224:\tlearn: 0.0660765\ttotal: 10s\tremaining: 3.33s\n",
            "225:\tlearn: 0.0660594\ttotal: 10s\tremaining: 3.28s\n",
            "226:\tlearn: 0.0659972\ttotal: 10.1s\tremaining: 3.24s\n",
            "227:\tlearn: 0.0658424\ttotal: 10.1s\tremaining: 3.19s\n",
            "228:\tlearn: 0.0657570\ttotal: 10.2s\tremaining: 3.15s\n",
            "229:\tlearn: 0.0656837\ttotal: 10.2s\tremaining: 3.1s\n",
            "230:\tlearn: 0.0655742\ttotal: 10.2s\tremaining: 3.06s\n",
            "231:\tlearn: 0.0655101\ttotal: 10.3s\tremaining: 3.01s\n",
            "232:\tlearn: 0.0654124\ttotal: 10.3s\tremaining: 2.96s\n",
            "233:\tlearn: 0.0652934\ttotal: 10.3s\tremaining: 2.92s\n",
            "234:\tlearn: 0.0652827\ttotal: 10.4s\tremaining: 2.87s\n",
            "235:\tlearn: 0.0652412\ttotal: 10.4s\tremaining: 2.82s\n",
            "236:\tlearn: 0.0652062\ttotal: 10.4s\tremaining: 2.77s\n",
            "237:\tlearn: 0.0651116\ttotal: 10.5s\tremaining: 2.73s\n",
            "238:\tlearn: 0.0650013\ttotal: 10.5s\tremaining: 2.68s\n",
            "239:\tlearn: 0.0648521\ttotal: 10.6s\tremaining: 2.64s\n",
            "240:\tlearn: 0.0648052\ttotal: 10.6s\tremaining: 2.59s\n",
            "241:\tlearn: 0.0647617\ttotal: 10.6s\tremaining: 2.55s\n",
            "242:\tlearn: 0.0646791\ttotal: 10.7s\tremaining: 2.5s\n",
            "243:\tlearn: 0.0645496\ttotal: 10.7s\tremaining: 2.45s\n",
            "244:\tlearn: 0.0644408\ttotal: 10.7s\tremaining: 2.41s\n",
            "245:\tlearn: 0.0643599\ttotal: 10.8s\tremaining: 2.36s\n",
            "246:\tlearn: 0.0642588\ttotal: 10.8s\tremaining: 2.32s\n",
            "247:\tlearn: 0.0641723\ttotal: 10.8s\tremaining: 2.27s\n",
            "248:\tlearn: 0.0640878\ttotal: 10.9s\tremaining: 2.23s\n",
            "249:\tlearn: 0.0639784\ttotal: 10.9s\tremaining: 2.18s\n",
            "250:\tlearn: 0.0638879\ttotal: 11s\tremaining: 2.14s\n",
            "251:\tlearn: 0.0638282\ttotal: 11s\tremaining: 2.09s\n",
            "252:\tlearn: 0.0637061\ttotal: 11s\tremaining: 2.05s\n",
            "253:\tlearn: 0.0636520\ttotal: 11.1s\tremaining: 2s\n",
            "254:\tlearn: 0.0635866\ttotal: 11.1s\tremaining: 1.96s\n",
            "255:\tlearn: 0.0634572\ttotal: 11.1s\tremaining: 1.91s\n",
            "256:\tlearn: 0.0633499\ttotal: 11.2s\tremaining: 1.87s\n",
            "257:\tlearn: 0.0632656\ttotal: 11.2s\tremaining: 1.83s\n",
            "258:\tlearn: 0.0631686\ttotal: 11.3s\tremaining: 1.78s\n",
            "259:\tlearn: 0.0631007\ttotal: 11.3s\tremaining: 1.74s\n",
            "260:\tlearn: 0.0630425\ttotal: 11.3s\tremaining: 1.69s\n",
            "261:\tlearn: 0.0629402\ttotal: 11.4s\tremaining: 1.65s\n",
            "262:\tlearn: 0.0628897\ttotal: 11.4s\tremaining: 1.6s\n",
            "263:\tlearn: 0.0628636\ttotal: 11.4s\tremaining: 1.56s\n",
            "264:\tlearn: 0.0628369\ttotal: 11.5s\tremaining: 1.52s\n",
            "265:\tlearn: 0.0627175\ttotal: 11.5s\tremaining: 1.47s\n",
            "266:\tlearn: 0.0626333\ttotal: 11.6s\tremaining: 1.43s\n",
            "267:\tlearn: 0.0625218\ttotal: 11.6s\tremaining: 1.38s\n",
            "268:\tlearn: 0.0624544\ttotal: 11.6s\tremaining: 1.34s\n",
            "269:\tlearn: 0.0624113\ttotal: 11.7s\tremaining: 1.3s\n",
            "270:\tlearn: 0.0623835\ttotal: 11.7s\tremaining: 1.25s\n",
            "271:\tlearn: 0.0623643\ttotal: 11.7s\tremaining: 1.21s\n",
            "272:\tlearn: 0.0623049\ttotal: 11.8s\tremaining: 1.16s\n",
            "273:\tlearn: 0.0622078\ttotal: 11.8s\tremaining: 1.12s\n",
            "274:\tlearn: 0.0620729\ttotal: 11.8s\tremaining: 1.08s\n",
            "275:\tlearn: 0.0620131\ttotal: 11.9s\tremaining: 1.03s\n",
            "276:\tlearn: 0.0618892\ttotal: 11.9s\tremaining: 990ms\n",
            "277:\tlearn: 0.0618546\ttotal: 12s\tremaining: 946ms\n",
            "278:\tlearn: 0.0617566\ttotal: 12s\tremaining: 902ms\n",
            "279:\tlearn: 0.0617153\ttotal: 12s\tremaining: 859ms\n",
            "280:\tlearn: 0.0616538\ttotal: 12.1s\tremaining: 816ms\n",
            "281:\tlearn: 0.0615589\ttotal: 12.1s\tremaining: 772ms\n",
            "282:\tlearn: 0.0614926\ttotal: 12.2s\tremaining: 732ms\n",
            "283:\tlearn: 0.0613778\ttotal: 12.2s\tremaining: 690ms\n",
            "284:\tlearn: 0.0613306\ttotal: 12.3s\tremaining: 647ms\n",
            "285:\tlearn: 0.0611978\ttotal: 12.3s\tremaining: 603ms\n",
            "286:\tlearn: 0.0611688\ttotal: 12.4s\tremaining: 560ms\n",
            "287:\tlearn: 0.0610903\ttotal: 12.4s\tremaining: 516ms\n",
            "288:\tlearn: 0.0610401\ttotal: 12.4s\tremaining: 473ms\n",
            "289:\tlearn: 0.0609671\ttotal: 12.5s\tremaining: 430ms\n",
            "290:\tlearn: 0.0608688\ttotal: 12.5s\tremaining: 387ms\n",
            "291:\tlearn: 0.0607808\ttotal: 12.5s\tremaining: 343ms\n",
            "292:\tlearn: 0.0607413\ttotal: 12.6s\tremaining: 300ms\n",
            "293:\tlearn: 0.0606883\ttotal: 12.6s\tremaining: 257ms\n",
            "294:\tlearn: 0.0605908\ttotal: 12.6s\tremaining: 214ms\n",
            "295:\tlearn: 0.0605539\ttotal: 12.7s\tremaining: 171ms\n",
            "296:\tlearn: 0.0604734\ttotal: 12.7s\tremaining: 128ms\n",
            "297:\tlearn: 0.0604384\ttotal: 12.8s\tremaining: 85.6ms\n",
            "298:\tlearn: 0.0603171\ttotal: 12.8s\tremaining: 42.8ms\n",
            "299:\tlearn: 0.0602653\ttotal: 12.8s\tremaining: 0us\n"
          ]
        },
        {
          "output_type": "execute_result",
          "data": {
            "text/plain": [
              "StackingCVClassifier(classifiers=[<catboost.core.CatBoostClassifier object at 0x7836efc5c790>,\n",
              "                                  ExtraTreesClassifier(max_features=0.9,\n",
              "                                                       n_estimators=30),\n",
              "                                  Pipeline(steps=[('scaler', StandardScaler()),\n",
              "                                                  ('model', GaussianNB())])],\n",
              "                     meta_classifier=LogisticRegression(random_state=42))"
            ],
            "text/html": [
              "<style>#sk-container-id-13 {color: black;}#sk-container-id-13 pre{padding: 0;}#sk-container-id-13 div.sk-toggleable {background-color: white;}#sk-container-id-13 label.sk-toggleable__label {cursor: pointer;display: block;width: 100%;margin-bottom: 0;padding: 0.3em;box-sizing: border-box;text-align: center;}#sk-container-id-13 label.sk-toggleable__label-arrow:before {content: \"▸\";float: left;margin-right: 0.25em;color: #696969;}#sk-container-id-13 label.sk-toggleable__label-arrow:hover:before {color: black;}#sk-container-id-13 div.sk-estimator:hover label.sk-toggleable__label-arrow:before {color: black;}#sk-container-id-13 div.sk-toggleable__content {max-height: 0;max-width: 0;overflow: hidden;text-align: left;background-color: #f0f8ff;}#sk-container-id-13 div.sk-toggleable__content pre {margin: 0.2em;color: black;border-radius: 0.25em;background-color: #f0f8ff;}#sk-container-id-13 input.sk-toggleable__control:checked~div.sk-toggleable__content {max-height: 200px;max-width: 100%;overflow: auto;}#sk-container-id-13 input.sk-toggleable__control:checked~label.sk-toggleable__label-arrow:before {content: \"▾\";}#sk-container-id-13 div.sk-estimator input.sk-toggleable__control:checked~label.sk-toggleable__label {background-color: #d4ebff;}#sk-container-id-13 div.sk-label input.sk-toggleable__control:checked~label.sk-toggleable__label {background-color: #d4ebff;}#sk-container-id-13 input.sk-hidden--visually {border: 0;clip: rect(1px 1px 1px 1px);clip: rect(1px, 1px, 1px, 1px);height: 1px;margin: -1px;overflow: hidden;padding: 0;position: absolute;width: 1px;}#sk-container-id-13 div.sk-estimator {font-family: monospace;background-color: #f0f8ff;border: 1px dotted black;border-radius: 0.25em;box-sizing: border-box;margin-bottom: 0.5em;}#sk-container-id-13 div.sk-estimator:hover {background-color: #d4ebff;}#sk-container-id-13 div.sk-parallel-item::after {content: \"\";width: 100%;border-bottom: 1px solid gray;flex-grow: 1;}#sk-container-id-13 div.sk-label:hover label.sk-toggleable__label {background-color: #d4ebff;}#sk-container-id-13 div.sk-serial::before {content: \"\";position: absolute;border-left: 1px solid gray;box-sizing: border-box;top: 0;bottom: 0;left: 50%;z-index: 0;}#sk-container-id-13 div.sk-serial {display: flex;flex-direction: column;align-items: center;background-color: white;padding-right: 0.2em;padding-left: 0.2em;position: relative;}#sk-container-id-13 div.sk-item {position: relative;z-index: 1;}#sk-container-id-13 div.sk-parallel {display: flex;align-items: stretch;justify-content: center;background-color: white;position: relative;}#sk-container-id-13 div.sk-item::before, #sk-container-id-13 div.sk-parallel-item::before {content: \"\";position: absolute;border-left: 1px solid gray;box-sizing: border-box;top: 0;bottom: 0;left: 50%;z-index: -1;}#sk-container-id-13 div.sk-parallel-item {display: flex;flex-direction: column;z-index: 1;position: relative;background-color: white;}#sk-container-id-13 div.sk-parallel-item:first-child::after {align-self: flex-end;width: 50%;}#sk-container-id-13 div.sk-parallel-item:last-child::after {align-self: flex-start;width: 50%;}#sk-container-id-13 div.sk-parallel-item:only-child::after {width: 0;}#sk-container-id-13 div.sk-dashed-wrapped {border: 1px dashed gray;margin: 0 0.4em 0.5em 0.4em;box-sizing: border-box;padding-bottom: 0.4em;background-color: white;}#sk-container-id-13 div.sk-label label {font-family: monospace;font-weight: bold;display: inline-block;line-height: 1.2em;}#sk-container-id-13 div.sk-label-container {text-align: center;}#sk-container-id-13 div.sk-container {/* jupyter's `normalize.less` sets `[hidden] { display: none; }` but bootstrap.min.css set `[hidden] { display: none !important; }` so we also need the `!important` here to be able to override the default hidden behavior on the sphinx rendered scikit-learn.org. See: https://github.com/scikit-learn/scikit-learn/issues/21755 */display: inline-block !important;position: relative;}#sk-container-id-13 div.sk-text-repr-fallback {display: none;}</style><div id=\"sk-container-id-13\" class=\"sk-top-container\"><div class=\"sk-text-repr-fallback\"><pre>StackingCVClassifier(classifiers=[&lt;catboost.core.CatBoostClassifier object at 0x7836efc5c790&gt;,\n",
              "                                  ExtraTreesClassifier(max_features=0.9,\n",
              "                                                       n_estimators=30),\n",
              "                                  Pipeline(steps=[(&#x27;scaler&#x27;, StandardScaler()),\n",
              "                                                  (&#x27;model&#x27;, GaussianNB())])],\n",
              "                     meta_classifier=LogisticRegression(random_state=42))</pre><b>In a Jupyter environment, please rerun this cell to show the HTML representation or trust the notebook. <br />On GitHub, the HTML representation is unable to render, please try loading this page with nbviewer.org.</b></div><div class=\"sk-container\" hidden><div class=\"sk-item sk-dashed-wrapped\"><div class=\"sk-label-container\"><div class=\"sk-label sk-toggleable\"><input class=\"sk-toggleable__control sk-hidden--visually\" id=\"sk-estimator-id-44\" type=\"checkbox\" ><label for=\"sk-estimator-id-44\" class=\"sk-toggleable__label sk-toggleable__label-arrow\">StackingCVClassifier</label><div class=\"sk-toggleable__content\"><pre>StackingCVClassifier(classifiers=[&lt;catboost.core.CatBoostClassifier object at 0x7836efc5c790&gt;,\n",
              "                                  ExtraTreesClassifier(max_features=0.9,\n",
              "                                                       n_estimators=30),\n",
              "                                  Pipeline(steps=[(&#x27;scaler&#x27;, StandardScaler()),\n",
              "                                                  (&#x27;model&#x27;, GaussianNB())])],\n",
              "                     meta_classifier=LogisticRegression(random_state=42))</pre></div></div></div><div class=\"sk-parallel\"><div class=\"sk-parallel-item\"><div class=\"sk-item\"><div class=\"sk-label-container\"><div class=\"sk-label sk-toggleable\"><input class=\"sk-toggleable__control sk-hidden--visually\" id=\"sk-estimator-id-45\" type=\"checkbox\" ><label for=\"sk-estimator-id-45\" class=\"sk-toggleable__label sk-toggleable__label-arrow\">meta_classifier: LogisticRegression</label><div class=\"sk-toggleable__content\"><pre>LogisticRegression(random_state=42)</pre></div></div></div><div class=\"sk-serial\"><div class=\"sk-item\"><div class=\"sk-estimator sk-toggleable\"><input class=\"sk-toggleable__control sk-hidden--visually\" id=\"sk-estimator-id-46\" type=\"checkbox\" ><label for=\"sk-estimator-id-46\" class=\"sk-toggleable__label sk-toggleable__label-arrow\">LogisticRegression</label><div class=\"sk-toggleable__content\"><pre>LogisticRegression(random_state=42)</pre></div></div></div></div></div></div></div></div></div></div>"
            ]
          },
          "metadata": {},
          "execution_count": 111
        }
      ]
    },
    {
      "cell_type": "code",
      "source": [
        "y_pred = stack_cv_cl.predict(X_teste)"
      ],
      "metadata": {
        "id": "A_VnokPS4wDM"
      },
      "execution_count": 132,
      "outputs": []
    },
    {
      "cell_type": "code",
      "source": [
        "stack_cv_cl.score(X_teste, y_teste)"
      ],
      "metadata": {
        "colab": {
          "base_uri": "https://localhost:8080/"
        },
        "id": "Oeqj9xhD5e00",
        "outputId": "66bba9d0-8b3b-4f7a-9c9c-e68afce3c1fb"
      },
      "execution_count": 112,
      "outputs": [
        {
          "output_type": "execute_result",
          "data": {
            "text/plain": [
              "0.9639670953539566"
            ]
          },
          "metadata": {},
          "execution_count": 112
        }
      ]
    },
    {
      "cell_type": "markdown",
      "source": [
        "#### Analisando os resultados"
      ],
      "metadata": {
        "id": "uZcSxSEn5uhF"
      }
    },
    {
      "cell_type": "code",
      "source": [
        "validacao = cross_validate(stack_cv_cl,\n",
        "                           X_treino, y_treino,\n",
        "                           cv=5, n_jobs=-1)"
      ],
      "metadata": {
        "id": "iWEndcnU5kN-"
      },
      "execution_count": 114,
      "outputs": []
    },
    {
      "cell_type": "code",
      "source": [
        "validacao['test_score']"
      ],
      "metadata": {
        "colab": {
          "base_uri": "https://localhost:8080/"
        },
        "id": "vP-lTe7g59NG",
        "outputId": "3bac9406-6af2-4662-e928-19bb3335e8a7"
      },
      "execution_count": 116,
      "outputs": [
        {
          "output_type": "execute_result",
          "data": {
            "text/plain": [
              "array([0.96278778, 0.96471837, 0.96264298, 0.96568367, 0.96529588])"
            ]
          },
          "metadata": {},
          "execution_count": 116
        }
      ]
    },
    {
      "cell_type": "code",
      "source": [
        "from mlxtend.evaluate import scoring"
      ],
      "metadata": {
        "id": "NYIZkh_r6A4M"
      },
      "execution_count": 117,
      "outputs": []
    },
    {
      "cell_type": "code",
      "source": [
        "scoring(y_target=y_teste, y_predicted=y_pred, metric='error')"
      ],
      "metadata": {
        "colab": {
          "base_uri": "https://localhost:8080/"
        },
        "id": "XLi8nsxT6LrU",
        "outputId": "b2fe19ca-7f94-4022-aa79-76bd745363b4"
      },
      "execution_count": 118,
      "outputs": [
        {
          "output_type": "execute_result",
          "data": {
            "text/plain": [
              "1.0"
            ]
          },
          "metadata": {},
          "execution_count": 118
        }
      ]
    },
    {
      "cell_type": "code",
      "source": [
        "scoring(y_target=y_teste, y_predicted=y_pred, metric='precision')"
      ],
      "metadata": {
        "colab": {
          "base_uri": "https://localhost:8080/"
        },
        "id": "T1BmQAUc6VSD",
        "outputId": "9d6dc614-bac1-4887-b83c-6b3617d593fa"
      },
      "execution_count": 119,
      "outputs": [
        {
          "output_type": "stream",
          "name": "stderr",
          "text": [
            "/usr/local/lib/python3.11/dist-packages/mlxtend/evaluate/scoring.py:153: RuntimeWarning: invalid value encountered in divide\n",
            "  res = float(tp) / (tp + fp)\n"
          ]
        },
        {
          "output_type": "execute_result",
          "data": {
            "text/plain": [
              "nan"
            ]
          },
          "metadata": {},
          "execution_count": 119
        }
      ]
    },
    {
      "cell_type": "code",
      "source": [
        "scoring(y_target=y_teste, y_predicted=y_pred, metric='recall')"
      ],
      "metadata": {
        "colab": {
          "base_uri": "https://localhost:8080/"
        },
        "id": "q5MevcqB6Z6v",
        "outputId": "d5a01e93-d5c7-4f3b-db53-177182858d32"
      },
      "execution_count": 120,
      "outputs": [
        {
          "output_type": "execute_result",
          "data": {
            "text/plain": [
              "0.0"
            ]
          },
          "metadata": {},
          "execution_count": 120
        }
      ]
    },
    {
      "cell_type": "code",
      "source": [
        "scoring(y_target=y_teste, y_predicted=y_pred, metric='f1')\n"
      ],
      "metadata": {
        "colab": {
          "base_uri": "https://localhost:8080/"
        },
        "id": "euOeAZfc6gs6",
        "outputId": "361adad9-adfa-46ce-b204-eb08b2716fd7"
      },
      "execution_count": 121,
      "outputs": [
        {
          "output_type": "stream",
          "name": "stderr",
          "text": [
            "/usr/local/lib/python3.11/dist-packages/mlxtend/evaluate/scoring.py:155: RuntimeWarning: invalid value encountered in divide\n",
            "  pre = float(tp) / (tp + fp)\n"
          ]
        },
        {
          "output_type": "execute_result",
          "data": {
            "text/plain": [
              "nan"
            ]
          },
          "metadata": {},
          "execution_count": 121
        }
      ]
    },
    {
      "cell_type": "code",
      "source": [
        "from mlxtend.plotting import plot_confusion_matrix\n",
        "from mlxtend.evaluate import confusion_matrix"
      ],
      "metadata": {
        "id": "sWqXR_5_6ovd"
      },
      "execution_count": 122,
      "outputs": []
    },
    {
      "cell_type": "code",
      "source": [
        "y_pred"
      ],
      "metadata": {
        "colab": {
          "base_uri": "https://localhost:8080/"
        },
        "id": "3oXL2rfnJsnN",
        "outputId": "fc08eff2-e28e-4246-886e-5516f39b9fd7"
      },
      "execution_count": 130,
      "outputs": [
        {
          "output_type": "execute_result",
          "data": {
            "text/plain": [
              "array(['satisfied', 'satisfied', 'neutral or dissatisfied', ...,\n",
              "       'neutral or dissatisfied', 'satisfied', 'neutral or dissatisfied'],\n",
              "      dtype=object)"
            ]
          },
          "metadata": {},
          "execution_count": 130
        }
      ]
    },
    {
      "cell_type": "code",
      "source": [
        "matriz_confusao = confusion_matrix(y_teste, y_pred)"
      ],
      "metadata": {
        "id": "V33xB7s76zvU"
      },
      "execution_count": 133,
      "outputs": []
    },
    {
      "cell_type": "code",
      "source": [
        "plot_confusion_matrix(conf_mat=matriz_confusao)"
      ],
      "metadata": {
        "colab": {
          "base_uri": "https://localhost:8080/",
          "height": 484
        },
        "id": "QMClkbg76730",
        "outputId": "500deb74-e962-4a14-bfb4-2d0595d257ff"
      },
      "execution_count": 134,
      "outputs": [
        {
          "output_type": "execute_result",
          "data": {
            "text/plain": [
              "(<Figure size 640x480 with 1 Axes>,\n",
              " <Axes: xlabel='predicted label', ylabel='true label'>)"
            ]
          },
          "metadata": {},
          "execution_count": 134
        },
        {
          "output_type": "display_data",
          "data": {
            "text/plain": [
              "<Figure size 640x480 with 1 Axes>"
            ],
            "image/png": "[encoded data removed]"
          },
          "metadata": {}
        }
      ]
    },
    {
      "cell_type": "markdown",
      "source": [
        "#### Salvando o modelo"
      ],
      "metadata": {
        "id": "DBk8igH87LDo"
      }
    },
    {
      "cell_type": "code",
      "source": [
        "import joblib"
      ],
      "metadata": {
        "id": "eXVwTnrn7DHb"
      },
      "execution_count": 135,
      "outputs": []
    },
    {
      "cell_type": "code",
      "source": [
        "joblib.dump(stack_cv_cl, 'modelo_treinado.pkl')"
      ],
      "metadata": {
        "colab": {
          "base_uri": "https://localhost:8080/"
        },
        "id": "LYYpRbTP7N2K",
        "outputId": "98770bb8-40fe-49a1-928e-f7677fd463f9"
      },
      "execution_count": 136,
      "outputs": [
        {
          "output_type": "execute_result",
          "data": {
            "text/plain": [
              "['modelo_treinado.pkl']"
            ]
          },
          "metadata": {},
          "execution_count": 136
        }
      ]
    },
    {
      "cell_type": "code",
      "source": [
        "modelo_carregado = joblib.load('modelo_treinado.pkl')"
      ],
      "metadata": {
        "id": "aEEj9f3u7T04"
      },
      "execution_count": 137,
      "outputs": []
    },
    {
      "cell_type": "code",
      "source": [
        "X_teste.iloc[2]"
      ],
      "metadata": {
        "colab": {
          "base_uri": "https://localhost:8080/",
          "height": 931
        },
        "id": "4YcIN_1e7cgi",
        "outputId": "a69d5c3e-2491-42e3-f761-4df9e1b677fe"
      },
      "execution_count": 138,
      "outputs": [
        {
          "output_type": "execute_result",
          "data": {
            "text/plain": [
              "Age                                     20\n",
              "Flight Distance                        192\n",
              "Inflight wifi service                    2\n",
              "Departure/Arrival time convenient        0\n",
              "Ease of Online booking                   2\n",
              "Gate location                            4\n",
              "Food and drink                           2\n",
              "Online boarding                          2\n",
              "Seat comfort                             2\n",
              "Inflight entertainment                   2\n",
              "On-board service                         4\n",
              "Leg room service                         1\n",
              "Baggage handling                         3\n",
              "Checkin service                          2\n",
              "Inflight service                         2\n",
              "Cleanliness                              2\n",
              "Departure Delay in Minutes               0\n",
              "Arrival Delay in Minutes               0.0\n",
              "Gender_Female                        False\n",
              "Gender_Male                           True\n",
              "Customer Type_Loyal Customer         False\n",
              "Customer Type_disloyal Customer       True\n",
              "Type of Travel_Business travel        True\n",
              "Type of Travel_Personal Travel       False\n",
              "Class_Business                       False\n",
              "Class_Eco                             True\n",
              "Class_Eco Plus                       False\n",
              "Name: 2, dtype: object"
            ],
            "text/html": [
              "<div>\n",
              "<style scoped>\n",
              "    .dataframe tbody tr th:only-of-type {\n",
              "        vertical-align: middle;\n",
              "    }\n",
              "\n",
              "    .dataframe tbody tr th {\n",
              "        vertical-align: top;\n",
              "    }\n",
              "\n",
              "    .dataframe thead th {\n",
              "        text-align: right;\n",
              "    }\n",
              "</style>\n",
              "<table border=\"1\" class=\"dataframe\">\n",
              "  <thead>\n",
              "    <tr style=\"text-align: right;\">\n",
              "      <th></th>\n",
              "      <th>2</th>\n",
              "    </tr>\n",
              "  </thead>\n",
              "  <tbody>\n",
              "    <tr>\n",
              "      <th>Age</th>\n",
              "      <td>20</td>\n",
              "    </tr>\n",
              "    <tr>\n",
              "      <th>Flight Distance</th>\n",
              "      <td>192</td>\n",
              "    </tr>\n",
              "    <tr>\n",
              "      <th>Inflight wifi service</th>\n",
              "      <td>2</td>\n",
              "    </tr>\n",
              "    <tr>\n",
              "      <th>Departure/Arrival time convenient</th>\n",
              "      <td>0</td>\n",
              "    </tr>\n",
              "    <tr>\n",
              "      <th>Ease of Online booking</th>\n",
              "      <td>2</td>\n",
              "    </tr>\n",
              "    <tr>\n",
              "      <th>Gate location</th>\n",
              "      <td>4</td>\n",
              "    </tr>\n",
              "    <tr>\n",
              "      <th>Food and drink</th>\n",
              "      <td>2</td>\n",
              "    </tr>\n",
              "    <tr>\n",
              "      <th>Online boarding</th>\n",
              "      <td>2</td>\n",
              "    </tr>\n",
              "    <tr>\n",
              "      <th>Seat comfort</th>\n",
              "      <td>2</td>\n",
              "    </tr>\n",
              "    <tr>\n",
              "      <th>Inflight entertainment</th>\n",
              "      <td>2</td>\n",
              "    </tr>\n",
              "    <tr>\n",
              "      <th>On-board service</th>\n",
              "      <td>4</td>\n",
              "    </tr>\n",
              "    <tr>\n",
              "      <th>Leg room service</th>\n",
              "      <td>1</td>\n",
              "    </tr>\n",
              "    <tr>\n",
              "      <th>Baggage handling</th>\n",
              "      <td>3</td>\n",
              "    </tr>\n",
              "    <tr>\n",
              "      <th>Checkin service</th>\n",
              "      <td>2</td>\n",
              "    </tr>\n",
              "    <tr>\n",
              "      <th>Inflight service</th>\n",
              "      <td>2</td>\n",
              "    </tr>\n",
              "    <tr>\n",
              "      <th>Cleanliness</th>\n",
              "      <td>2</td>\n",
              "    </tr>\n",
              "    <tr>\n",
              "      <th>Departure Delay in Minutes</th>\n",
              "      <td>0</td>\n",
              "    </tr>\n",
              "    <tr>\n",
              "      <th>Arrival Delay in Minutes</th>\n",
              "      <td>0.0</td>\n",
              "    </tr>\n",
              "    <tr>\n",
              "      <th>Gender_Female</th>\n",
              "      <td>False</td>\n",
              "    </tr>\n",
              "    <tr>\n",
              "      <th>Gender_Male</th>\n",
              "      <td>True</td>\n",
              "    </tr>\n",
              "    <tr>\n",
              "      <th>Customer Type_Loyal Customer</th>\n",
              "      <td>False</td>\n",
              "    </tr>\n",
              "    <tr>\n",
              "      <th>Customer Type_disloyal Customer</th>\n",
              "      <td>True</td>\n",
              "    </tr>\n",
              "    <tr>\n",
              "      <th>Type of Travel_Business travel</th>\n",
              "      <td>True</td>\n",
              "    </tr>\n",
              "    <tr>\n",
              "      <th>Type of Travel_Personal Travel</th>\n",
              "      <td>False</td>\n",
              "    </tr>\n",
              "    <tr>\n",
              "      <th>Class_Business</th>\n",
              "      <td>False</td>\n",
              "    </tr>\n",
              "    <tr>\n",
              "      <th>Class_Eco</th>\n",
              "      <td>True</td>\n",
              "    </tr>\n",
              "    <tr>\n",
              "      <th>Class_Eco Plus</th>\n",
              "      <td>False</td>\n",
              "    </tr>\n",
              "  </tbody>\n",
              "</table>\n",
              "</div><br><label><b>dtype:</b> object</label>"
            ]
          },
          "metadata": {},
          "execution_count": 138
        }
      ]
    },
    {
      "cell_type": "code",
      "source": [
        "previsao = modelo_carregado.predict([X_teste.iloc[2]])"
      ],
      "metadata": {
        "colab": {
          "base_uri": "https://localhost:8080/"
        },
        "id": "lVaAlDre7hLD",
        "outputId": "59e81fbb-3d8e-45d8-e4cb-14fd5f0e5de1"
      },
      "execution_count": 139,
      "outputs": [
        {
          "output_type": "stream",
          "name": "stderr",
          "text": [
            "/usr/local/lib/python3.11/dist-packages/sklearn/base.py:465: UserWarning: X does not have valid feature names, but ExtraTreesClassifier was fitted with feature names\n",
            "  warnings.warn(\n",
            "/usr/local/lib/python3.11/dist-packages/sklearn/base.py:465: UserWarning: X does not have valid feature names, but StandardScaler was fitted with feature names\n",
            "  warnings.warn(\n"
          ]
        }
      ]
    },
    {
      "cell_type": "code",
      "source": [
        "previsao"
      ],
      "metadata": {
        "colab": {
          "base_uri": "https://localhost:8080/"
        },
        "id": "KA-33EmL7oVc",
        "outputId": "4db6fd65-e4e1-4675-cdc0-33f859c55cad"
      },
      "execution_count": 140,
      "outputs": [
        {
          "output_type": "execute_result",
          "data": {
            "text/plain": [
              "array([0])"
            ]
          },
          "metadata": {},
          "execution_count": 140
        }
      ]
    },
    {
      "cell_type": "markdown",
      "source": [
        "Isso quer dizer que ele previu que um cliente de exemplo, com uma série de características sobre o voo daquele cliente, não ficará satisfeito com aquele voo.\n",
        "\n",
        "O que isso quer dizer? No início do projeto, tínhamos nosso dataset com uma série de exemplos de clientes satisfeitos e insatisfeitos com os voos.\n",
        "\n",
        "No decorrer do projeto, treinamos diferentes modelos de machine learning e chegamos à conclusão de que a combinação dos modelos mais elaborados, o ExtraTreesClassifier e o CatBoost, em conjunto com o StackingCVClassifier, retornava um melhor resultado, um modelo mais robusto.\n",
        "\n",
        "Fomos capazes de salvar esse modelo, e com um modelo salvo desse tipo, conseguimos passá-lo para outras pessoas, uma pessoa que vai construir, por exemplo, uma aplicação de machine learning que vai nos permitir prever se um passageiro ficará satisfeito ou não com o voo, passadas determinadas informações.\n",
        "\n",
        "Nesse caso, sabendo antecipadamente se o cliente vai ficar satisfeito ou não com o voo, conseguimos direcionar nossos clientes para outros voos e assim por diante. Temos um modelo perfeito para fazer essas previsões e está disponível para uso na empresa como um modelo em produção."
      ],
      "metadata": {
        "id": "wXebFWA378IX"
      }
    }
  ]
}