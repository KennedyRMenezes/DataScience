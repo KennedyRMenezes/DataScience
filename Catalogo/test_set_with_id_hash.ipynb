{
  "nbformat": 4,
  "nbformat_minor": 0,
  "metadata": {
    "colab": {
      "provenance": []
    },
    "kernelspec": {
      "name": "python3",
      "display_name": "Python 3"
    },
    "language_info": {
      "name": "python"
    }
  },
  "cells": [
    {
      "cell_type": "code",
      "source": [
        "import pandas as pd\n",
        "import numpy as np\n",
        "import hashlib\n",
        "\n",
        "data = {\n",
        "    \"longitude\": [-122.2, -122.3, -122.1, -122.0, -121.9, 80, 171, -115, -122.1],\n",
        "    \"latitude\": [37.8, 37.7, 37.9, 37.8, 37.6, 13, 1, 48, 37.7],\n",
        "    \"median_income\": [3.5, 4.1, 2.9, 5.0, 3.2, 1.7, 0.8, 3.9, 2.9]\n",
        "}\n",
        "\n",
        "housing = pd.DataFrame(data)\n",
        "\n",
        "# ID baseado na localização geográfica\n",
        "housing[\"id\"] = housing[\"longitude\"] * 1000 + housing[\"latitude\"]\n",
        "\n",
        "# Função de verificação com hash\n",
        "def test_set_check(identifier, test_ratio, hash=hashlib.md5):\n",
        "    return hash(np.int64(identifier)).digest()[-1] < 256 * test_ratio\n",
        "\n",
        "# Split usando o ID\n",
        "def split_train_test_by_id(data, test_ratio, id_column, hash=hashlib.md5):\n",
        "    ids = data[id_column]\n",
        "    in_test_set = ids.apply(lambda id_: test_set_check(id_, test_ratio, hash))\n",
        "    return data.loc[~in_test_set], data.loc[in_test_set]\n",
        "\n",
        "# Aplicando o split\n",
        "prop = 0.47\n",
        "train_set, test_set = split_train_test_by_id(housing, prop, \"id\")  # 40% no teste, por exemplo\n",
        "print(len(housing)*prop)\n",
        "\n",
        "# Resultado\n",
        "print(\"Train set:\")\n",
        "print(train_set)\n",
        "print(\"\\nTest set:\")\n",
        "print(test_set)"
      ],
      "metadata": {
        "id": "ykBfwEVmP_-v",
        "colab": {
          "base_uri": "https://localhost:8080/"
        },
        "outputId": "85d0960f-7285-44cb-fbb3-bf87544013c7"
      },
      "execution_count": null,
      "outputs": [
        {
          "output_type": "stream",
          "name": "stdout",
          "text": [
            "4.2299999999999995\n",
            "Train set:\n",
            "   longitude  latitude  median_income        id\n",
            "1     -122.3      37.7            4.1 -122262.3\n",
            "4     -121.9      37.6            3.2 -121862.4\n",
            "5       80.0      13.0            1.7   80013.0\n",
            "6      171.0       1.0            0.8  171001.0\n",
            "7     -115.0      48.0            3.9 -114952.0\n",
            "\n",
            "Test set:\n",
            "   longitude  latitude  median_income        id\n",
            "0     -122.2      37.8            3.5 -122162.2\n",
            "2     -122.1      37.9            2.9 -122062.1\n",
            "3     -122.0      37.8            5.0 -121962.2\n",
            "8     -122.1      37.7            2.9 -122062.3\n"
          ]
        }
      ]
    }
  ]
}